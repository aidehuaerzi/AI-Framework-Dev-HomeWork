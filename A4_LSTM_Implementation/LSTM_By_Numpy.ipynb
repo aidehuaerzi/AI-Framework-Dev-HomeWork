{
 "cells": [
  {
   "cell_type": "code",
   "execution_count": 149,
   "metadata": {},
   "outputs": [
    {
     "name": "stdout",
     "output_type": "stream",
     "text": [
      "总共232737组英语-法语对\n",
      "前5组英语-法语对示例：\n",
      "Go.\tVa !\t\n",
      "Go.\tMarche.\t\n",
      "Go.\tEn route !\t\n",
      "Go.\tBouge !\t\n",
      "Hi.\tSalut !\t\n"
     ]
    }
   ],
   "source": [
    "import os\n",
    "\n",
    "def read_data_nmt():\n",
    "    \"\"\"载入“英语－法语”数据集\"\"\"\n",
    "    data_dir = \"../dataset\"\n",
    "    with open(os.path.join(data_dir, 'fra.txt'), 'r',\n",
    "             encoding='utf-8') as f:\n",
    "        return f.read()\n",
    "\n",
    "raw_text = read_data_nmt()\n",
    "raw_text = raw_text.split('\\n')\n",
    "for idx, text in enumerate(raw_text):\n",
    "    raw_text[idx] = text.split('CC-BY 2.0')[0]\n",
    "\n",
    "print(\"总共\" + str(len(raw_text)) + \"组英语-法语对\")\n",
    "print(\"前5组英语-法语对示例：\")\n",
    "\n",
    "for i in range(5):\n",
    "    print(raw_text[i])\n",
    "\n",
    "raw_text = \"\\n\".join(raw_text[:1000])"
   ]
  },
  {
   "cell_type": "code",
   "execution_count": 150,
   "metadata": {},
   "outputs": [
    {
     "name": "stdout",
     "output_type": "stream",
     "text": [
      "go .\tva !\t\n",
      "go .\tmarche .\t\n",
      "go .\ten route !\t\n",
      "go .\tbouge !\t\n",
      "hi .\tsalut !\t\n",
      "hi .\tsalu\n"
     ]
    }
   ],
   "source": [
    "def preprocess_nmt(text):\n",
    "    \"\"\"预处理“英语－法语”数据集\"\"\"\n",
    "    def no_space(char, prev_char):\n",
    "        return char in set(',.!?') and prev_char != ' '\n",
    "\n",
    "    # 使用空格替换不间断空格\n",
    "    # 使用小写字母替换大写字母\n",
    "    text = text.replace('\\u202f', ' ').replace('\\xa0', ' ').lower()\n",
    "    # 在单词和标点符号之间插入空格\n",
    "    out = [' ' + char if i > 0 and no_space(char, text[i - 1]) else char\n",
    "           for i, char in enumerate(text)]\n",
    "    return ''.join(out)\n",
    "\n",
    "text = preprocess_nmt(raw_text)\n",
    "print(text[:80])"
   ]
  },
  {
   "cell_type": "code",
   "execution_count": 151,
   "metadata": {},
   "outputs": [
    {
     "data": {
      "text/plain": [
       "([['go', '.'],\n",
       "  ['go', '.'],\n",
       "  ['go', '.'],\n",
       "  ['go', '.'],\n",
       "  ['hi', '.'],\n",
       "  ['hi', '.']],\n",
       " [['va', '!'],\n",
       "  ['marche', '.'],\n",
       "  ['en', 'route', '!'],\n",
       "  ['bouge', '!'],\n",
       "  ['salut', '!'],\n",
       "  ['salut', '.']])"
      ]
     },
     "execution_count": 151,
     "metadata": {},
     "output_type": "execute_result"
    }
   ],
   "source": [
    "def tokenize_nmt(text, num_examples=None):\n",
    "    \"\"\"词元化“英语－法语”数据数据集\"\"\"\n",
    "    source, target = [], []\n",
    "    for i, line in enumerate(text.split('\\n')):\n",
    "        if num_examples and i > num_examples:\n",
    "            break\n",
    "        parts = line.split('\\t')\n",
    "        if len(parts) == 3:\n",
    "            source.append(parts[0].split(' '))\n",
    "            target.append(parts[1].split(' '))\n",
    "    return source, target\n",
    "\n",
    "source, target = tokenize_nmt(text)\n",
    "source[:6], target[:6]"
   ]
  },
  {
   "cell_type": "code",
   "execution_count": 152,
   "metadata": {},
   "outputs": [],
   "source": [
    "import collections\n",
    "\n",
    "# 构建字典（词汇表：单词与索引之间的映射）\n",
    "class Vocab:\n",
    "    def __init__(self, tokens=None, min_freq=0, reversed_tokens=None):\n",
    "        if tokens is None:\n",
    "            tokens = []\n",
    "        if reversed_tokens is None:\n",
    "            reversed_tokens = []\n",
    "        counter = self.count_corpus(tokens)\n",
    "        self.token_freqs = sorted(counter.items(), key=lambda x: x[1], reverse=True) # 词元出现的次数\n",
    "        self.unk, uniq_tokens = 0, ['<unk>'] + reversed_tokens\n",
    "        # 去除词频小于min_freq的词\n",
    "        uniq_tokens += [token for token, freq in self.token_freqs\n",
    "                        if freq >= min_freq and token not in uniq_tokens]\n",
    "        self.idx_to_token, self.token_to_idx = [], {}\n",
    "        # 构建词元和数字索引间的映射\n",
    "        for i in range(len(uniq_tokens)):\n",
    "            self.idx_to_token.append(uniq_tokens[i])\n",
    "            self.token_to_idx[uniq_tokens[i]] = i\n",
    "\n",
    "    # 返回字典的大小\n",
    "    def __len__(self):\n",
    "        return len(self.idx_to_token)\n",
    "\n",
    "    # 获取词元的数字索引\n",
    "    def __getitem__(self, tokens):\n",
    "        # tokens 可以是单个单词，也可以是几个单词组成的一段文本\n",
    "        if not isinstance(tokens, (list, tuple)):\n",
    "            return self.token_to_idx.get(tokens, self.unk)\n",
    "        return [self.__getitem__(token) for token in tokens]\n",
    "\n",
    "    def to_token(self, indices):\n",
    "        if not isinstance(indices, (list, tuple)):\n",
    "            return self.idx_to_token[indices]\n",
    "        return [self.idx_to_token[indice] for indice in indices]\n",
    "\n",
    "    # 统计唯一词元和频率\n",
    "    def count_corpus(self, tokens):\n",
    "        if len(tokens) == 0 or isinstance(tokens[0], list):\n",
    "            tokens = [token for line in tokens for token in line] # 取出所有的词元，组成一个一维列表\n",
    "        return collections.Counter(tokens)"
   ]
  },
  {
   "cell_type": "code",
   "execution_count": 153,
   "metadata": {},
   "outputs": [
    {
     "name": "stdout",
     "output_type": "stream",
     "text": [
      "源语言字典大小：217\n",
      "目标语言字典大小：279\n"
     ]
    }
   ],
   "source": [
    "src_vocab = Vocab(source, min_freq=2, reversed_tokens=['<pad>', '<bos>', '<eos>'])\n",
    "target_vocab = Vocab(target, min_freq=2, reversed_tokens=['<pad>', '<bos>', '<eos>'])\n",
    "print(\"源语言字典大小：\" + str(len(src_vocab)))\n",
    "print(\"目标语言字典大小：\" + str(len(target_vocab)))"
   ]
  },
  {
   "cell_type": "code",
   "execution_count": 154,
   "metadata": {},
   "outputs": [
    {
     "data": {
      "text/plain": [
       "[9, 4, 1, 1, 1, 1, 1, 1, 1, 1]"
      ]
     },
     "execution_count": 154,
     "metadata": {},
     "output_type": "execute_result"
    }
   ],
   "source": [
    "def truncate_pad(line, num_steps, padding_token):\n",
    "    \"\"\"截断或填充文本序列\"\"\"\n",
    "    if len(line) > num_steps:\n",
    "        return line[:num_steps]  # 截断\n",
    "    return line + [padding_token] * (num_steps - len(line))  # 填充\n",
    "\n",
    "truncate_pad(src_vocab[source[0]], 10, src_vocab['<pad>'])"
   ]
  },
  {
   "cell_type": "code",
   "execution_count": 155,
   "metadata": {},
   "outputs": [],
   "source": [
    "import numpy as np\n",
    "\n",
    "def build_array_nmt(lines, vocab, num_steps):\n",
    "    \"\"\"将机器翻译的文本序列转换成小批量\"\"\"\n",
    "    lines = [vocab[l] for l in lines]\n",
    "    lines = [l + [vocab['<eos>']] for l in lines]\n",
    "    array = np.array([truncate_pad(\n",
    "        l, num_steps, vocab['<pad>']) for l in lines])\n",
    "    valid_len = (array != vocab['<pad>']).sum(1)\n",
    "    return array, valid_len"
   ]
  },
  {
   "cell_type": "code",
   "execution_count": 156,
   "metadata": {},
   "outputs": [],
   "source": [
    "#@save\n",
    "def load_data_nmt(batch_size, num_steps, num_examples=600):\n",
    "    \"\"\"返回翻译数据集的迭代器和词表\"\"\"\n",
    "    # text = preprocess_nmt(read_data_nmt())\n",
    "    # source, target = tokenize_nmt(text, num_examples)\n",
    "    src_vocab = Vocab(source, min_freq=2, reversed_tokens=['<pad>', '<bos>', '<eos>'])\n",
    "    tgt_vocab = Vocab(target, min_freq=2, reversed_tokens=['<pad>', '<bos>', '<eos>'])\n",
    "    src_array, src_valid_len = build_array_nmt(source, src_vocab, num_steps)\n",
    "    print(len(src_vocab))\n",
    "    print(len(src_array))\n",
    "    print(len(src_array[0]))\n",
    "    tgt_array, tgt_valid_len = build_array_nmt(target, tgt_vocab, num_steps)\n",
    "    # data_arrays = (src_array, src_valid_len, tgt_array, tgt_valid_len)\n",
    "    # data_iter = load_array(data_arrays, batch_size)\n",
    "    # return data_iter, src_vocab, tgt_vocab\n",
    "    return src_array, tgt_array, src_vocab, tgt_vocab, src_valid_len, tgt_valid_len"
   ]
  },
  {
   "cell_type": "code",
   "execution_count": 157,
   "metadata": {},
   "outputs": [
    {
     "name": "stdout",
     "output_type": "stream",
     "text": [
      "Many-to-one output: [[-0.03461925]\n",
      " [-0.07618703]]\n",
      "Many-to-many output: [[-0.16243967  0.21544995 -0.17914232  0.0597222   0.05989206  0.15229294\n",
      "  -0.15136021  0.02411454 -0.214931   -0.03461925]\n",
      " [ 0.46337388  0.42998727  0.33348707  0.3827135  -0.00477203  0.53805178\n",
      "   1.25511616  0.62448041  0.85731721 -0.07618703]]\n"
     ]
    }
   ],
   "source": [
    "import numpy as np\n",
    "\n",
    "class LSTM:\n",
    "    def __init__(self, input_dim, hidden_dim, output_dim):\n",
    "        self.input_dim = input_dim\n",
    "        self.hidden_dim = hidden_dim\n",
    "        self.output_dim = output_dim\n",
    "\n",
    "        # Initialize weights and biases\n",
    "        self.W_i = np.random.randn(hidden_dim, input_dim)\n",
    "        self.U_i = np.random.randn(hidden_dim, hidden_dim)\n",
    "        self.b_i = np.zeros((hidden_dim, 1))\n",
    "\n",
    "        self.W_f = np.random.randn(hidden_dim, input_dim)\n",
    "        self.U_f = np.random.randn(hidden_dim, hidden_dim)\n",
    "        self.b_f = np.zeros((hidden_dim, 1))\n",
    "\n",
    "        self.W_c = np.random.randn(hidden_dim, input_dim)\n",
    "        self.U_c = np.random.randn(hidden_dim, hidden_dim)\n",
    "        self.b_c = np.zeros((hidden_dim, 1))\n",
    "\n",
    "        self.W_o = np.random.randn(hidden_dim, input_dim)\n",
    "        self.U_o = np.random.randn(hidden_dim, hidden_dim)\n",
    "        self.b_o = np.zeros((hidden_dim, 1))\n",
    "\n",
    "        self.V = np.random.randn(output_dim, hidden_dim)\n",
    "        self.c = np.zeros((output_dim, 1))\n",
    "\n",
    "    def sigmoid(self, x):\n",
    "        return 1 / (1 + np.exp(-x))\n",
    "\n",
    "    def tanh(self, x):\n",
    "        return np.tanh(x)\n",
    "\n",
    "    def forward(self, x):\n",
    "        T = x.shape[1]\n",
    "\n",
    "        h = np.zeros((self.hidden_dim, T))\n",
    "        c = np.zeros((self.hidden_dim, T))\n",
    "\n",
    "        for t in range(T):\n",
    "            x_t = x[:, t].reshape(-1, 1)\n",
    "\n",
    "            i_t = self.sigmoid(self.W_i @ x_t + self.U_i @ h[:, t-1].reshape(-1, 1) + self.b_i)\n",
    "            f_t = self.sigmoid(self.W_f @ x_t + self.U_f @ h[:, t-1].reshape(-1, 1) + self.b_f)\n",
    "            o_t = self.sigmoid(self.W_o @ x_t + self.U_o @ h[:, t-1].reshape(-1, 1) + self.b_o)\n",
    "            c_tilde_t = self.tanh(self.W_c @ x_t + self.U_c @ h[:, t-1].reshape(-1, 1) + self.b_c)\n",
    "\n",
    "            c[:, t] = f_t[:, 0] * c[:, t-1] + i_t[:, 0] * c_tilde_t[:, 0]\n",
    "            h[:, t] = o_t[:, 0] * self.tanh(c[:, t])\n",
    "\n",
    "        y = self.V @ h[:, -1].reshape(-1, 1) + self.c\n",
    "\n",
    "        return y, h, c\n",
    "\n",
    "    def sequence_output(self, x):\n",
    "        T = x.shape[1]\n",
    "\n",
    "        h = np.zeros((self.hidden_dim, T))\n",
    "        c = np.zeros((self.hidden_dim, T))\n",
    "        y = np.zeros((self.output_dim, T))\n",
    "\n",
    "        for t in range(T):\n",
    "            x_t = x[:, t].reshape(-1, 1)\n",
    "\n",
    "            i_t = self.sigmoid(self.W_i @ x_t + self.U_i @ h[:, t-1].reshape(-1, 1) + self.b_i)\n",
    "            f_t = self.sigmoid(self.W_f @ x_t + self.U_f @ h[:, t-1].reshape(-1, 1) + self.b_f)\n",
    "            o_t = self.sigmoid(self.W_o @ x_t + self.U_o @ h[:, t-1].reshape(-1, 1) + self.b_o)\n",
    "            c_tilde_t = self.tanh(self.W_c @ x_t + self.U_c @ h[:, t-1].reshape(-1, 1) + self.b_c)\n",
    "\n",
    "            c[:, t] = f_t[:, 0] * c[:, t-1] + i_t[:, 0] * c_tilde_t[:, 0]\n",
    "            h[:, t] = o_t[:, 0] * self.tanh(c[:, t])\n",
    "\n",
    "            y[:, t] = (self.V @ h[:, t].reshape(-1, 1) + self.c).flatten()\n",
    "\n",
    "        return y, h, c\n",
    "\n",
    "# Example usage:\n",
    "input_dim = 3\n",
    "hidden_dim = 5\n",
    "output_dim = 2\n",
    "x = np.random.randn(input_dim, 10)  # Example input with 10 time steps\n",
    "\n",
    "lstm = LSTM(input_dim, hidden_dim, output_dim)\n",
    "\n",
    "# Many-to-one output\n",
    "y, h, c = lstm.forward(x)\n",
    "print(\"Many-to-one output:\", y)\n",
    "\n",
    "# Many-to-many output\n",
    "y, h, c = lstm.sequence_output(x)\n",
    "print(\"Many-to-many output:\", y)\n"
   ]
  },
  {
   "cell_type": "code",
   "execution_count": 158,
   "metadata": {},
   "outputs": [
    {
     "name": "stdout",
     "output_type": "stream",
     "text": [
      "217\n",
      "1000\n",
      "8\n",
      "input_dim: 217\n",
      "hidden_dim: 50\n",
      "output_dim: 279\n"
     ]
    },
    {
     "name": "stderr",
     "output_type": "stream",
     "text": [
      "  0%|          | 0/100 [00:00<?, ?it/s]"
     ]
    },
    {
     "name": "stderr",
     "output_type": "stream",
     "text": [
      "  5%|▌         | 5/100 [00:16<05:04,  3.21s/it]"
     ]
    },
    {
     "name": "stdout",
     "output_type": "stream",
     "text": [
      "Epoch 5, Loss: 0.23563633216002097\n"
     ]
    },
    {
     "name": "stderr",
     "output_type": "stream",
     "text": [
      " 10%|█         | 10/100 [00:33<05:14,  3.50s/it]"
     ]
    },
    {
     "name": "stdout",
     "output_type": "stream",
     "text": [
      "Epoch 10, Loss: 0.23459136958241522\n"
     ]
    },
    {
     "name": "stderr",
     "output_type": "stream",
     "text": [
      " 15%|█▌        | 15/100 [00:51<05:09,  3.64s/it]"
     ]
    },
    {
     "name": "stdout",
     "output_type": "stream",
     "text": [
      "Epoch 15, Loss: 0.23565793446075228\n"
     ]
    },
    {
     "name": "stderr",
     "output_type": "stream",
     "text": [
      " 20%|██        | 20/100 [01:10<04:58,  3.74s/it]"
     ]
    },
    {
     "name": "stdout",
     "output_type": "stream",
     "text": [
      "Epoch 20, Loss: 0.23624843672799214\n"
     ]
    },
    {
     "name": "stderr",
     "output_type": "stream",
     "text": [
      " 25%|██▌       | 25/100 [01:28<04:32,  3.63s/it]"
     ]
    },
    {
     "name": "stdout",
     "output_type": "stream",
     "text": [
      "Epoch 25, Loss: 0.2364862839875504\n"
     ]
    },
    {
     "name": "stderr",
     "output_type": "stream",
     "text": [
      " 30%|███       | 30/100 [01:45<03:59,  3.42s/it]"
     ]
    },
    {
     "name": "stdout",
     "output_type": "stream",
     "text": [
      "Epoch 30, Loss: 0.23657472422885586\n"
     ]
    },
    {
     "name": "stderr",
     "output_type": "stream",
     "text": [
      " 35%|███▌      | 35/100 [02:02<03:40,  3.40s/it]"
     ]
    },
    {
     "name": "stdout",
     "output_type": "stream",
     "text": [
      "Epoch 35, Loss: 0.23660695908130783\n"
     ]
    },
    {
     "name": "stderr",
     "output_type": "stream",
     "text": [
      " 40%|████      | 40/100 [02:20<03:35,  3.59s/it]"
     ]
    },
    {
     "name": "stdout",
     "output_type": "stream",
     "text": [
      "Epoch 40, Loss: 0.23661868211070378\n"
     ]
    },
    {
     "name": "stderr",
     "output_type": "stream",
     "text": [
      " 45%|████▌     | 45/100 [02:39<03:22,  3.69s/it]"
     ]
    },
    {
     "name": "stdout",
     "output_type": "stream",
     "text": [
      "Epoch 45, Loss: 0.23662295540118639\n"
     ]
    },
    {
     "name": "stderr",
     "output_type": "stream",
     "text": [
      " 50%|█████     | 50/100 [02:56<02:55,  3.50s/it]"
     ]
    },
    {
     "name": "stdout",
     "output_type": "stream",
     "text": [
      "Epoch 50, Loss: 0.2366245174379697\n"
     ]
    },
    {
     "name": "stderr",
     "output_type": "stream",
     "text": [
      " 55%|█████▌    | 55/100 [03:15<02:46,  3.71s/it]"
     ]
    },
    {
     "name": "stdout",
     "output_type": "stream",
     "text": [
      "Epoch 55, Loss: 0.23662508967169316\n"
     ]
    },
    {
     "name": "stderr",
     "output_type": "stream",
     "text": [
      " 60%|██████    | 60/100 [03:32<02:23,  3.58s/it]"
     ]
    },
    {
     "name": "stdout",
     "output_type": "stream",
     "text": [
      "Epoch 60, Loss: 0.2366252996218575\n"
     ]
    },
    {
     "name": "stderr",
     "output_type": "stream",
     "text": [
      " 65%|██████▌   | 65/100 [03:58<02:47,  4.79s/it]"
     ]
    },
    {
     "name": "stdout",
     "output_type": "stream",
     "text": [
      "Epoch 65, Loss: 0.23662537672820483\n"
     ]
    },
    {
     "name": "stderr",
     "output_type": "stream",
     "text": [
      " 70%|███████   | 70/100 [04:21<02:11,  4.40s/it]"
     ]
    },
    {
     "name": "stdout",
     "output_type": "stream",
     "text": [
      "Epoch 70, Loss: 0.23662540506409058\n"
     ]
    },
    {
     "name": "stderr",
     "output_type": "stream",
     "text": [
      " 75%|███████▌  | 75/100 [04:40<01:35,  3.82s/it]"
     ]
    },
    {
     "name": "stdout",
     "output_type": "stream",
     "text": [
      "Epoch 75, Loss: 0.23662541548133934\n"
     ]
    },
    {
     "name": "stderr",
     "output_type": "stream",
     "text": [
      " 80%|████████  | 80/100 [04:59<01:17,  3.89s/it]"
     ]
    },
    {
     "name": "stdout",
     "output_type": "stream",
     "text": [
      "Epoch 80, Loss: 0.23662541931200037\n"
     ]
    },
    {
     "name": "stderr",
     "output_type": "stream",
     "text": [
      " 85%|████████▌ | 85/100 [05:20<01:02,  4.16s/it]"
     ]
    },
    {
     "name": "stdout",
     "output_type": "stream",
     "text": [
      "Epoch 85, Loss: 0.23662542072082876\n"
     ]
    },
    {
     "name": "stderr",
     "output_type": "stream",
     "text": [
      " 90%|█████████ | 90/100 [05:39<00:38,  3.87s/it]"
     ]
    },
    {
     "name": "stdout",
     "output_type": "stream",
     "text": [
      "Epoch 90, Loss: 0.23662542123900995\n"
     ]
    },
    {
     "name": "stderr",
     "output_type": "stream",
     "text": [
      " 95%|█████████▌| 95/100 [05:56<00:16,  3.39s/it]"
     ]
    },
    {
     "name": "stdout",
     "output_type": "stream",
     "text": [
      "Epoch 95, Loss: 0.23662542142961285\n"
     ]
    },
    {
     "name": "stderr",
     "output_type": "stream",
     "text": [
      "100%|██████████| 100/100 [06:13<00:00,  3.74s/it]"
     ]
    },
    {
     "name": "stdout",
     "output_type": "stream",
     "text": [
      "Epoch 100, Loss: 0.23662542149972463\n",
      "训练完成\n"
     ]
    },
    {
     "name": "stderr",
     "output_type": "stream",
     "text": [
      "\n"
     ]
    },
    {
     "data": {
      "image/png": "[encoded data removed]",
      "text/plain": [
       "<Figure size 640x480 with 1 Axes>"
      ]
     },
     "metadata": {},
     "output_type": "display_data"
    }
   ],
   "source": [
    "from tqdm import tqdm\n",
    "import matplotlib.pyplot as plt\n",
    "from matplotlib import ticker\n",
    "\n",
    "class EncoderLSTM:\n",
    "    def __init__(self, input_dim, hidden_dim):\n",
    "        self.lstm = LSTM(input_dim, hidden_dim, hidden_dim)\n",
    "        \n",
    "    def forward(self, x):\n",
    "        _, h, c = self.lstm.forward(x)\n",
    "        return h[:, -1], c[:, -1]\n",
    "\n",
    "class DecoderLSTM:\n",
    "    def __init__(self, input_dim, hidden_dim, output_dim):\n",
    "        self.lstm = LSTM(input_dim, hidden_dim, output_dim)\n",
    "        \n",
    "    def forward(self, x, h, c):\n",
    "        T = x.shape[1]\n",
    "        output = np.zeros((self.lstm.output_dim, T))\n",
    "        for t in range(T):\n",
    "            y, h, c = self.lstm.forward(x[:, t:t+1])\n",
    "            output[:, t] = y.flatten()\n",
    "        return output, h, c\n",
    "\n",
    "class Seq2SeqLSTM:\n",
    "    def __init__(self, encoder, decoder):\n",
    "        self.encoder = encoder\n",
    "        self.decoder = decoder\n",
    "        \n",
    "    def forward(self, x_encoder, x_decoder):\n",
    "        h, c = self.encoder.forward(x_encoder)\n",
    "        output, _, _ = self.decoder.forward(x_decoder, h, c)\n",
    "        return output\n",
    "\n",
    "# 加载数据集\n",
    "src_array, tgt_array, src_vocab, tgt_vocab, src_valid_len, tgt_valid_len = load_data_nmt(batch_size=2, num_steps=8)\n",
    "\n",
    "# Hyperparameters\n",
    "input_dim = len(src_vocab)\n",
    "hidden_dim = 50\n",
    "output_dim = len(target_vocab)\n",
    "\n",
    "print(\"input_dim: {}\\nhidden_dim: {}\\noutput_dim: {}\".format(input_dim, hidden_dim, output_dim))\n",
    "\n",
    "# Initialize models\n",
    "encoder_lstm = EncoderLSTM(input_dim, hidden_dim)\n",
    "decoder_lstm = DecoderLSTM(output_dim, hidden_dim, output_dim)\n",
    "seq2seq_lstm = Seq2SeqLSTM(encoder_lstm, decoder_lstm)\n",
    "\n",
    "# Simple training loop (not using any framework, just for illustration)\n",
    "learning_rate = 0.0001\n",
    "num_epochs = 100\n",
    "\n",
    "def cross_entropy_loss(output, target):\n",
    "    m = target.shape[0]\n",
    "    return -np.sum(np.log(output[np.arange(m), target])) / m\n",
    "\n",
    "tot_loss = []\n",
    "for epoch in tqdm(range(num_epochs)):\n",
    "    total_loss = 0\n",
    "    for src_seq, tgt_seq in zip(src_array, tgt_array):\n",
    "        src_seq = np.eye(input_dim)[src_seq].T  # One-hot encoding\n",
    "        tgt_seq_input = np.eye(output_dim)[tgt_seq[:-1]].T  # Exclude last token for input\n",
    "        tgt_seq_target = tgt_seq[1:] # Exclude first token for target\n",
    "\n",
    "        output = seq2seq_lstm.forward(src_seq, tgt_seq_input)\n",
    "\n",
    "        output = np.exp(output) / np.sum(np.exp(output), axis=0)\n",
    "        \n",
    "        loss = cross_entropy_loss(output.T, tgt_seq_target)\n",
    "        total_loss += loss\n",
    "        \n",
    "        # Backpropagation (gradient descent)\n",
    "        # Simplified, normally you would need to implement backpropagation through time (BPTT)\n",
    "        for param in [encoder_lstm.lstm.W_i, encoder_lstm.lstm.U_i, encoder_lstm.lstm.b_i,\n",
    "                      encoder_lstm.lstm.W_f, encoder_lstm.lstm.U_f, encoder_lstm.lstm.b_f,\n",
    "                      encoder_lstm.lstm.W_c, encoder_lstm.lstm.U_c, encoder_lstm.lstm.b_c,\n",
    "                      encoder_lstm.lstm.W_o, encoder_lstm.lstm.U_o, encoder_lstm.lstm.b_o,\n",
    "                      encoder_lstm.lstm.V, encoder_lstm.lstm.c,\n",
    "                      decoder_lstm.lstm.W_i, decoder_lstm.lstm.U_i, decoder_lstm.lstm.b_i,\n",
    "                      decoder_lstm.lstm.W_f, decoder_lstm.lstm.U_f, decoder_lstm.lstm.b_f,\n",
    "                      decoder_lstm.lstm.W_c, decoder_lstm.lstm.U_c, decoder_lstm.lstm.b_c,\n",
    "                      decoder_lstm.lstm.W_o, decoder_lstm.lstm.U_o, decoder_lstm.lstm.b_o,\n",
    "                      decoder_lstm.lstm.V, decoder_lstm.lstm.c]:\n",
    "            param -= learning_rate * param  # Simplified gradient descent update\n",
    "\n",
    "    if (epoch + 1) % 5 == 0:\n",
    "        print(f\"Epoch {epoch + 1}, Loss: {total_loss / len(raw_text)}\")\n",
    "    tot_loss.append(total_loss / len(raw_text))\n",
    "print(\"训练完成\")\n",
    "_, ax = plt.subplots()\n",
    "ax.plot(range(len(tot_loss)), tot_loss)\n",
    "ax.set_xlabel(\"Epoch\")\n",
    "ax.set_ylabel(\"Loss\")\n",
    "ax.xaxis.set_major_locator(ticker.MaxNLocator(integer=True))\n",
    "ax.yaxis.set_major_locator(ticker.MaxNLocator(integer=True))\n",
    "plt.show()"
   ]
  },
  {
   "cell_type": "code",
   "execution_count": null,
   "metadata": {},
   "outputs": [],
   "source": [
    "def translate(sentence, seq2seq, source_vocab, target_vocab, num_steps):\n",
    "    # Convert sentence to indices\n",
    "    src_seq = sentence.lower().split(' ')\n",
    "    print(src_seq)\n",
    "    for idx, word in enumerate(src_seq):\n",
    "        src_seq[idx] = source_vocab[word]\n",
    "    src_seq = truncate_pad(src_seq, num_steps, src_vocab['<pad>'])\n",
    "    print(src_seq)\n",
    "    src_seq = np.eye(input_dim)[src_seq].T  # One-hot encoding\n",
    "\n",
    "    # Initialize decoder input with <PAD> tokens\n",
    "    tgt_seq_input = np.zeros((output_dim, num_steps))\n",
    "    tgt_seq_input[target_vocab['<PAD>'], :] = 1\n",
    "\n",
    "    output = seq2seq.forward(src_seq, tgt_seq_input)\n",
    "    \n",
    "    # Convert output indices to words\n",
    "    translated_sentence = []\n",
    "    for idx in np.argmax(output, axis=0):\n",
    "        translated_sentence.append(target_vocab.to_token(idx))\n",
    "\n",
    "    return \" \".join(translated_sentence)\n",
    "\n",
    "# Example translation\n",
    "test_sentence = \"I am a student\"\n",
    "num_steps = 8\n",
    "translation = translate(test_sentence, seq2seq_lstm, src_vocab, target_vocab, num_steps)\n",
    "print(f\"Translation: {translation}\")"
   ]
  },
  {
   "cell_type": "code",
   "execution_count": 160,
   "metadata": {},
   "outputs": [
    {
     "name": "stdout",
     "output_type": "stream",
     "text": [
      "1\n"
     ]
    }
   ],
   "source": [
    "test_sentence = \"I am a student\"\n",
    "\n",
    "source, target = tokenize_nmt(test_sentence)\n",
    "print(src_vocab['<pad>'])"
   ]
  },
  {
   "cell_type": "code",
   "execution_count": null,
   "metadata": {},
   "outputs": [],
   "source": []
  }
 ],
 "metadata": {
  "kernelspec": {
   "display_name": "Python 3",
   "language": "python",
   "name": "python3"
  },
  "language_info": {
   "codemirror_mode": {
    "name": "ipython",
    "version": 3
   },
   "file_extension": ".py",
   "mimetype": "text/x-python",
   "name": "python",
   "nbconvert_exporter": "python",
   "pygments_lexer": "ipython3",
   "version": "3.11.4"
  }
 },
 "nbformat": 4,
 "nbformat_minor": 2
}
