{
 "cells": [
  {
   "cell_type": "code",
   "execution_count": 33,
   "metadata": {},
   "outputs": [
    {
     "name": "stdout",
     "output_type": "stream",
     "text": [
      "模型在训练cuda:0上训练\n"
     ]
    },
    {
     "name": "stderr",
     "output_type": "stream",
     "text": [
      " 10%|█         | 102/1000 [00:08<01:12, 12.31it/s]"
     ]
    },
    {
     "name": "stdout",
     "output_type": "stream",
     "text": [
      "第100轮训练 ==> 训练损失:  1.08336 \t 测试损失:  2.45488\n"
     ]
    },
    {
     "name": "stderr",
     "output_type": "stream",
     "text": [
      " 20%|██        | 202/1000 [00:16<01:03, 12.48it/s]"
     ]
    },
    {
     "name": "stdout",
     "output_type": "stream",
     "text": [
      "第200轮训练 ==> 训练损失:  0.63746 \t 测试损失:  2.93847\n"
     ]
    },
    {
     "name": "stderr",
     "output_type": "stream",
     "text": [
      " 30%|███       | 302/1000 [00:24<00:55, 12.54it/s]"
     ]
    },
    {
     "name": "stdout",
     "output_type": "stream",
     "text": [
      "第300轮训练 ==> 训练损失:  0.53458 \t 测试损失:  3.93154\n"
     ]
    },
    {
     "name": "stderr",
     "output_type": "stream",
     "text": [
      " 40%|████      | 402/1000 [00:32<00:46, 12.84it/s]"
     ]
    },
    {
     "name": "stdout",
     "output_type": "stream",
     "text": [
      "第400轮训练 ==> 训练损失:  0.43464 \t 测试损失:  2.99142\n"
     ]
    },
    {
     "name": "stderr",
     "output_type": "stream",
     "text": [
      " 50%|█████     | 502/1000 [00:40<00:38, 12.99it/s]"
     ]
    },
    {
     "name": "stdout",
     "output_type": "stream",
     "text": [
      "第500轮训练 ==> 训练损失:  0.43126 \t 测试损失:  2.64165\n"
     ]
    },
    {
     "name": "stderr",
     "output_type": "stream",
     "text": [
      " 60%|██████    | 602/1000 [00:47<00:30, 12.95it/s]"
     ]
    },
    {
     "name": "stdout",
     "output_type": "stream",
     "text": [
      "第600轮训练 ==> 训练损失:  0.35657 \t 测试损失:  1.79701\n"
     ]
    },
    {
     "name": "stderr",
     "output_type": "stream",
     "text": [
      " 70%|███████   | 702/1000 [00:55<00:23, 12.91it/s]"
     ]
    },
    {
     "name": "stdout",
     "output_type": "stream",
     "text": [
      "第700轮训练 ==> 训练损失:  0.40219 \t 测试损失:  1.96348\n"
     ]
    },
    {
     "name": "stderr",
     "output_type": "stream",
     "text": [
      " 80%|████████  | 802/1000 [01:03<00:15, 12.93it/s]"
     ]
    },
    {
     "name": "stdout",
     "output_type": "stream",
     "text": [
      "第800轮训练 ==> 训练损失:  0.31457 \t 测试损失:  1.71826\n"
     ]
    },
    {
     "name": "stderr",
     "output_type": "stream",
     "text": [
      " 90%|█████████ | 902/1000 [01:11<00:07, 12.89it/s]"
     ]
    },
    {
     "name": "stdout",
     "output_type": "stream",
     "text": [
      "第900轮训练 ==> 训练损失:  0.30112 \t 测试损失:  1.59837\n"
     ]
    },
    {
     "name": "stderr",
     "output_type": "stream",
     "text": [
      "100%|██████████| 1000/1000 [01:18<00:00, 12.71it/s]\n"
     ]
    },
    {
     "name": "stdout",
     "output_type": "stream",
     "text": [
      "第1000轮训练 ==> 训练损失:  0.27594 \t 测试损失:  1.74599\n"
     ]
    },
    {
     "data": {
      "image/png": "[encoded data removed]",
      "text/plain": [
       "<Figure size 800x300 with 2 Axes>"
      ]
     },
     "metadata": {},
     "output_type": "display_data"
    }
   ],
   "source": [
    "import random\n",
    "import torch.utils\n",
    "from torchvision.transforms import ToTensor, Resize, Normalize, Compose\n",
    "from torchvision.datasets import CIFAR10, MNIST\n",
    "from torch.utils.data import DataLoader, Dataset\n",
    "from tqdm import tqdm\n",
    "from matplotlib import ticker\n",
    "\n",
    "import torch.nn as nn\n",
    "import torch\n",
    "import matplotlib.pyplot as plt\n",
    "import pandas as pd\n",
    "\n",
    "\n",
    "torch.cuda.manual_seed(43)\n",
    "torch.manual_seed(43)\n",
    "random.seed(43)\n",
    "\n",
    "def load_dataset():\n",
    "    dataset = pd.read_csv(\"../dataset/boston/HousingData.csv\")\n",
    "\n",
    "    columns = list(dataset.columns)\n",
    "    for i in range(len(columns) - 1):\n",
    "        col_name = columns[i]\n",
    "        dataset.fillna(dataset[col_name].mean(), inplace=True)\n",
    "\n",
    "\n",
    "    X = dataset.values[:, :-1]\n",
    "    Y = dataset.values[:, -1].reshape(506, -1)\n",
    "\n",
    "    num = X.shape[0]\n",
    "\n",
    "    train_X = X[:int(num * 0.6), :]\n",
    "    test_X = X[int(num * 0.6):, :]\n",
    "    train_Y = Y[:int(num * 0.6), :]\n",
    "    test_Y = Y[int(num * 0.6):, :]\n",
    "\n",
    "    return train_X, train_Y, test_X, test_Y\n",
    "\n",
    "class WrapperDataset(Dataset):\n",
    "    def __init__(self, data_x, data_y):\n",
    "        super().__init__()\n",
    "        self.data_x = data_x\n",
    "        self.data_y = data_y\n",
    "    \n",
    "    def __getitem__(self, idx):\n",
    "        x = self.data_x[idx]\n",
    "        y = self.data_y[idx]\n",
    "        return torch.Tensor(x), torch.Tensor(y)\n",
    "    \n",
    "    def __len__(self):\n",
    "        return len(self.data_x)\n",
    "\n",
    "train_X, train_Y, test_X, test_Y = load_dataset()\n",
    "dataset_train = WrapperDataset(train_X, train_Y)\n",
    "dataset_test = WrapperDataset(test_X, test_Y)\n",
    "\n",
    "train_loader = DataLoader(dataset_train, batch_size=32, shuffle=True)\n",
    "test_loader = DataLoader(dataset_test, batch_size=32, shuffle=True)\n",
    "\n",
    "class MLP(nn.Module):\n",
    "    def __init__(self):\n",
    "        super().__init__()\n",
    "        self.model = nn.Sequential(\n",
    "            nn.Linear(13, 10),\n",
    "            nn.LeakyReLU(negative_slope=0.01),\n",
    "            nn.Linear(10, 5),\n",
    "            nn.BatchNorm1d(5),\n",
    "            nn.LeakyReLU(negative_slope=0.01),\n",
    "            nn.Linear(5, 5),\n",
    "            nn.LeakyReLU(negative_slope=0.01),\n",
    "            nn.Linear(5, 1)\n",
    "        )\n",
    "    \n",
    "    def forward(self, x):\n",
    "        return self.model(x)\n",
    "\n",
    "\n",
    "def model_eval(data_iter, device, loss):\n",
    "    model.eval()\n",
    "    total_loss = 0.0\n",
    "    total_num = 0\n",
    "    with torch.no_grad():\n",
    "        for idx, (images, labels) in enumerate(data_iter):\n",
    "            images, labels = images.to(device), labels.to(device)\n",
    "            output = model(images)\n",
    "            l = loss(output, labels)\n",
    "            \n",
    "            total_loss += l.item()\n",
    "            total_num += labels.shape[0]\n",
    "    return total_loss / total_num\n",
    "\n",
    "def train(model, train_loader, test_loader, optimizer, loss, epoches, device):\n",
    "    train_accuracy_array = []\n",
    "    test_accuracy_array = []\n",
    "    for epoch in tqdm(range(epoches)):\n",
    "        losses, nums = 0.0, 0\n",
    "        for X, y in train_loader:\n",
    "            X, y = X.to(device), y.to(device)\n",
    "            output = model(X)\n",
    "            l = loss(output, y)\n",
    "\n",
    "            losses += l.item()\n",
    "            nums += y.shape[0]\n",
    "\n",
    "            # Update net params\n",
    "            optimizer.zero_grad()\n",
    "            l.backward()\n",
    "            optimizer.step()\n",
    "        \n",
    "        train_loss = model_eval(train_loader, device, loss)\n",
    "        test_loss = model_eval(test_loader, device, loss)\n",
    "        train_accuracy_array.append(train_loss)\n",
    "        test_accuracy_array.append(test_loss)\n",
    "        if (epoch + 1) % 100 == 0:\n",
    "            print(f\"第{epoch + 1}轮训练 ==> 训练损失: {train_loss: .5f} \\t 测试损失: {test_loss: .5f}\")\n",
    "    \n",
    "    return train_accuracy_array, test_accuracy_array\n",
    "\n",
    "device = \"cuda:0\" if torch.cuda.is_available else \"cpu\"\n",
    "model = MLP().to(device)\n",
    "epoches = 1000\n",
    "lr = 0.001\n",
    "optimizer = torch.optim.Adam(model.parameters(), lr)\n",
    "loss = torch.nn.MSELoss()\n",
    "\n",
    "print(f\"模型在训练{device}上训练\")\n",
    "\n",
    "train_loss_array, test_loss_array = train(model, train_loader, test_loader, optimizer, loss, epoches, device)\n",
    "\n",
    "_, axes = plt.subplots(1, 2, figsize=(8, 3))\n",
    "axes[0].plot(range(len(train_loss_array)), train_loss_array, c='r') \n",
    "axes[0].set_xlabel(\"epoch\")\n",
    "axes[0].set_ylabel(\"Train Loss\")\n",
    "axes[0].set_title(\"MNIST\")\n",
    "axes[0].yaxis.set_major_locator(ticker.MaxNLocator(integer=True))\n",
    "axes[0].xaxis.set_major_locator(ticker.MaxNLocator(integer=True))\n",
    "\n",
    "axes[1].plot(range(len(test_loss_array)), test_loss_array, c='b')\n",
    "axes[1].set_xlabel(\"epoch\")\n",
    "axes[1].set_ylabel(\"Train Loss\")\n",
    "axes[1].set_title(\"MNIST\")\n",
    "axes[1].yaxis.set_major_locator(ticker.MaxNLocator(integer=True))\n",
    "axes[1].xaxis.set_major_locator(ticker.MaxNLocator(integer=True))\n",
    "\n",
    "plt.subplots_adjust(wspace=0.5)\n",
    "plt.show()"
   ]
  },
  {
   "cell_type": "code",
   "execution_count": null,
   "metadata": {},
   "outputs": [],
   "source": []
  }
 ],
 "metadata": {
  "kernelspec": {
   "display_name": "Python 3",
   "language": "python",
   "name": "python3"
  },
  "language_info": {
   "codemirror_mode": {
    "name": "ipython",
    "version": 3
   },
   "file_extension": ".py",
   "mimetype": "text/x-python",
   "name": "python",
   "nbconvert_exporter": "python",
   "pygments_lexer": "ipython3",
   "version": "3.11.7"
  }
 },
 "nbformat": 4,
 "nbformat_minor": 2
}
