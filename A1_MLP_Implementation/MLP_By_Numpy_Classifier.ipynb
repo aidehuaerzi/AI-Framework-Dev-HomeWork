{
 "cells": [
  {
   "cell_type": "code",
   "execution_count": 5,
   "metadata": {},
   "outputs": [],
   "source": [
    "import numpy as np\n",
    "import matplotlib.pyplot as plt\n",
    "import pandas as pd\n",
    "from matplotlib import ticker\n",
    "from tqdm import tqdm\n",
    "\n",
    "# 激活函数\n",
    "def sigmod(Z):\n",
    "    A = 1 / (1 + np.exp(-Z))\n",
    "    cache = Z\n",
    "    return A, cache\n",
    "\n",
    "def relu(Z):\n",
    "    A = np.maximum(0, Z)\n",
    "    cache = Z\n",
    "    return A, cache\n",
    "\n",
    "def softmax(Z):\n",
    "    cache = Z\n",
    "    Z -= np.max(Z, axis=0, keepdims=True)\n",
    "    # Compute softmax\n",
    "    e_Z = np.exp(Z)\n",
    "    A = e_Z / np.sum(e_Z, axis=0, keepdims=True)\n",
    "    return A, cache\n",
    "\n",
    "# 随机初始化权重参数\n",
    "def init_parameters(layers_dims):\n",
    "    '''\n",
    "    :param layers_dims: 网络中每层节点的数量列表\n",
    "    :return:\n",
    "    '''\n",
    "    '''\n",
    "        z_i = w_i * x_{i-1} + b_i\n",
    "        第i层w的维度为：(n_i, n_{i-1})\n",
    "        第i层b的维度为：(n_i, 1)\n",
    "    '''\n",
    "    params = {}\n",
    "    for i in range(1, len(layers_dims)):\n",
    "        params[\"W\" + str(i)] = np.random.randn(layers_dims[i], layers_dims[i-1]) * np.sqrt(2 / (layers_dims[i-1]))\n",
    "        params[\"b\" + str(i)] = np.zeros((layers_dims[i], 1))\n",
    "\n",
    "        assert (params[\"W\" + str(i)].shape == (layers_dims[i], layers_dims[i-1]))\n",
    "        assert (params[\"b\" + str(i)].shape == (layers_dims[i], 1))\n",
    "    return params\n",
    "\n",
    "def init_zeros(layers_dims):\n",
    "    parameters = {}\n",
    "    # np.random.seed(3)\n",
    "    for i in range(1, len(layers_dims)):\n",
    "        parameters[\"W\" + str(i)] = np.zeros((layers_dims[i], layers_dims[i-1]))\n",
    "        parameters[\"b\" + str(i)] = np.zeros((layers_dims[i], 1))\n",
    "\n",
    "        assert (parameters[\"W\" + str(i)].shape == (layers_dims[i], layers_dims[i - 1]))\n",
    "        assert (parameters[\"b\" + str(i)].shape == (layers_dims[i], 1))\n",
    "    return parameters\n",
    "\n",
    "def init_random(layers_dims):\n",
    "    parameters = {}\n",
    "    # np.random.seed(3)\n",
    "    for i in range(1, len(layers_dims)):\n",
    "        parameters[\"W\" + str(i)] = np.random.randn(layers_dims[i], layers_dims[i - 1]) * 0.001\n",
    "        parameters[\"b\" + str(i)] = np.zeros((layer_dims[i], 1))\n",
    "\n",
    "        assert (parameters[\"W\" + str(i)].shape == (layers_dims[i], layers_dims[i - 1]))\n",
    "        assert (parameters[\"b\" + str(i)].shape == (layers_dims[i], 1))\n",
    "    return parameters"
   ]
  },
  {
   "cell_type": "code",
   "execution_count": 6,
   "metadata": {},
   "outputs": [],
   "source": [
    "\n",
    "'''\n",
    " 前向传播:\n",
    "    1. 计算预测值\n",
    "    2. 计算激活函数值\n",
    "'''\n",
    "def linear_forward(A, W, b):\n",
    "    '''\n",
    "    :param A: 上一层的输出值\n",
    "    :param W: 权重矩阵\n",
    "    :param b: 偏向量\n",
    "    :return:\n",
    "    '''\n",
    "    Z = np.dot(W, A) + b\n",
    "    cache = (A, W, b)\n",
    "    assert (Z.shape == (W.shape[0], A.shape[1]))\n",
    "    return (Z, cache)\n",
    "\n",
    "def linear_activation_forward(A, W, b, activation):\n",
    "    Z, linear_cache = linear_forward(A, W, b)\n",
    "    activation_cache = []\n",
    "    if activation == \"sigmod\":\n",
    "        A, activation_cache = sigmod(Z)\n",
    "    if activation == \"relu\":\n",
    "        A, activation_cache = relu(Z)\n",
    "    if activation == \"softmax\":\n",
    "        A, activation_cache = softmax(Z)\n",
    "    cache = (linear_cache, activation_cache)\n",
    "    return A, cache\n",
    "\n",
    "def L_model_forward(X, parameters):\n",
    "    L = len(parameters) // 2\n",
    "    A = X\n",
    "    caches = []\n",
    "    for i in range(1, L):\n",
    "        prev_A = A # 上一层的输出值\n",
    "        A, cache = linear_activation_forward(prev_A, parameters[\"W\" + str(i)], parameters[\"b\" + str(i)], \"relu\")\n",
    "        caches.append(cache)\n",
    "    # 输出层的输出值: AL\n",
    "    AL, cache = linear_activation_forward(A, parameters[\"W\" + str(L)], parameters[\"b\" + str(L)], \"softmax\")\n",
    "    caches.append(cache)\n",
    "    assert (AL.shape == (10, X.shape[1]))\n",
    "    return AL, caches\n",
    "\n",
    "# 计算成本函数\n",
    "def compute_cost(AL, y):\n",
    "    m = AL.shape[1]\n",
    "    # cost = - (np.sum(y * np.log(AL) + (1 - y) * np.log(1 - AL), axis=1)) / m\n",
    "    cost = - (np.sum(y * np.log(AL + 1e-8), axis=1)) / m\n",
    "    return cost\n",
    "\n",
    "'''\n",
    "    反向传播：\n",
    "        第一步：计算激活函数的梯度\n",
    "        第二步：计算线性的梯度\n",
    "'''\n",
    "# sigmod 激活函数的梯度\n",
    "def sigmod_backward(dA, cache):\n",
    "    Z = cache\n",
    "    a = 1 / (1 + np.exp(-Z))\n",
    "    dZ = dA * a * (1 - a)\n",
    "    assert (Z.shape == dZ.shape)\n",
    "    return dZ\n",
    "\n",
    "# relu 激活函数的梯度\n",
    "def relu_backward(dA, cache):\n",
    "    Z = cache\n",
    "    dZ = np.array(dA, copy=True)\n",
    "    dZ[Z <= 0] = 0\n",
    "    assert (Z.shape == dZ.shape)\n",
    "    return dZ\n",
    "\n",
    "def softmax_backward(dA, cache):\n",
    "    Z = cache\n",
    "    N = Z.shape[0]  # Assuming Z is a column vector\n",
    "    dZ = np.zeros_like(Z)\n",
    "    for i in range(N):\n",
    "        for j in range(N):\n",
    "            dZ[i] += dA[j] * Z[i] * (int(i == j) - Z[j])\n",
    "    return dZ\n",
    "\n",
    "# 线性部分的梯度\n",
    "def linear_backward(dZ, cache):\n",
    "    # A表示当前层的输入\n",
    "    A, W, b = cache\n",
    "    # 样本的个数\n",
    "    m = A.shape[1]\n",
    "    dW = np.dot(dZ, A.T) * (1 / m)\n",
    "    db = np.sum(dZ, axis=1, keepdims=True) * (1 / m) # keepdims=True, 表示保持维度\n",
    "    dA_prev = np.dot(W.T, dZ) # 表示前一层输出的梯度，也就是当前层的输入值的梯度\n",
    "    return dA_prev, dW, db\n",
    "\n",
    "# 整合一层的线性和激活函数的梯度\n",
    "def linear_activation_backward(dA, cache, activation):\n",
    "    linear_cache, activation_cache = cache\n",
    "    if activation == \"sigmod\":\n",
    "        # 先计算激活函数的梯度\n",
    "        dZ = sigmod_backward(dA, activation_cache)\n",
    "        # 计算线性部分的梯度\n",
    "        dA_prev, dW, db = linear_backward(dZ, linear_cache)\n",
    "    if activation == \"relu\":\n",
    "        dZ = relu_backward(dA, activation_cache)\n",
    "        dA_prev, dW, db = linear_backward(dZ, linear_cache)\n",
    "    if activation == \"softmax\":\n",
    "        # dZ = softmax_backward(dA, activation_cache)\n",
    "        dA_prev, dW, db = linear_backward(dA, linear_cache)\n",
    "\n",
    "    return dA_prev, dW, db\n",
    "\n",
    "# 整合反向传播的梯度下降过程\n",
    "def L_model_backward(AL, y, caches):\n",
    "    '''\n",
    "    :param AL: 前向传播的输出值\n",
    "    :param y: 输出标签值\n",
    "    :param caches: 存储了前向传播过程中计算得到的线性部分和激活部分的相关值\n",
    "    :return:\n",
    "    '''\n",
    "    grads = {} # 存储参数梯度值，用于更新每层的参数\n",
    "    y = y.reshape(AL.shape)\n",
    "    L = len(caches)\n",
    "\n",
    "    dZ = AL + 1e-8 - y\n",
    "\n",
    "    dA_prev, dW, db = linear_activation_backward(dZ, caches[L-1], \"softmax\")\n",
    "    grads[\"dA\" + str(L)], grads[\"dW\" + str(L)], grads[\"db\" + str(L)] = dA_prev, dW, db\n",
    "    for i in reversed(range(L-1)):\n",
    "        dA = grads[\"dA\" + str(i+2)]\n",
    "        dA_prev, dW, db = linear_activation_backward(dA, caches[i], \"relu\")\n",
    "        grads[\"dA\" + str(i+1)], grads[\"dW\" + str(i+1)], grads[\"db\" + str(i+1)] = dA_prev, dW, db\n",
    "\n",
    "    return grads\n",
    "\n",
    "# 更新每一层的参数\n",
    "def update_parameters(parameters, grads, learning_rate):\n",
    "    '''\n",
    "    :param parameters: 参数\n",
    "    :param grads: 梯度值\n",
    "    :param learning_rate: 学习率\n",
    "    :return:\n",
    "    '''\n",
    "    L = len(parameters) // 2\n",
    "    for i in range(L):\n",
    "        parameters[\"W\" + str(i+1)] -= learning_rate * grads[\"dW\" + str(i+1)]\n",
    "        parameters[\"b\" + str(i+1)] -= learning_rate * grads[\"db\" + str(i+1)]\n",
    "    return parameters\n",
    "\n",
    "def eval_model(test_bacthes, parameters):\n",
    "    correct_num = 0\n",
    "    total_num = 0\n",
    "    for X, Y in test_bacthes:\n",
    "        total_num += Y.shape[1]\n",
    "        # print(X.shape)\n",
    "        # print(Y.shape)\n",
    "        # print(correct_num)\n",
    "        correct_num += prediction(X, Y, parameters)\n",
    "    return correct_num / total_num\n",
    "\n",
    "# 封装成一个L层神经网络\n",
    "def L_layer_model(train_bathces, test_bacthes, layer_dims,learning_rate=0.0075, iteration_num=3000, print_cost=True, isPlot=True, initialization=\"he\"):\n",
    "    '''\n",
    "    :param X: 输入特征\n",
    "    :param Y:  输出标签\n",
    "    :param layer_dims: 层数向量\n",
    "    :param learning_rate: 学习率\n",
    "    :param iteration_num: 迭代次数\n",
    "    :param print_cost: 是否打印成本值\n",
    "    :param isPlot: 是否绘制学习曲线\n",
    "    :return: 返回学习到的模型参数\n",
    "    '''\n",
    "    # 1.初始化参数W和b\n",
    "    if initialization == \"zeros\":\n",
    "        parameters = init_zeros(layer_dims)\n",
    "    elif initialization == \"random\":\n",
    "        parameters = init_random(layer_dims)\n",
    "    elif initialization == \"he\":\n",
    "        parameters = init_parameters(layer_dims)\n",
    "    else:\n",
    "        print(\"请选择正确的初始化参数的方法！\")\n",
    "    costs = []\n",
    "    test_accuracy_epoch = []\n",
    "    for i in tqdm(range(iteration_num)):\n",
    "        for X, Y in train_bathces:\n",
    "            AL, caches = L_model_forward(X, parameters)  # 2.前向传播\n",
    "            cost = compute_cost(AL, Y)  # 3.计算成本值\n",
    "            grads = L_model_backward(AL, Y, caches)  # 4.反向传播\n",
    "            parameters = update_parameters(parameters, grads, learning_rate)  # 5.更新参数\n",
    "\n",
    "        test_accuracy = eval_model(test_bacthes, parameters)\n",
    "        test_accuracy_epoch.append(test_accuracy * 100)\n",
    "        if (i + 1) % 50 == 0:\n",
    "            print(f\"第{i}轮测试准确率为：{test_accuracy * 100: .4} % \")\n",
    "    if isPlot:\n",
    "        x = [i for i in range(iteration_num)]\n",
    "        # print(\"costs\", costs)\n",
    "        # print(\"np.array(costs)\", np.array(costs))\n",
    "        y = test_accuracy_epoch\n",
    "        _, ax = plt.subplots()\n",
    "        ax.plot(x, y)\n",
    "        ax.set_xlabel(\"Epoch\")\n",
    "        ax.set_ylabel(\"Accuracy(%)\")\n",
    "        ax.set_title(f\"learning_rate={learning_rate}\")\n",
    "        ax.yaxis.set_major_locator(ticker.MaxNLocator(integer=True))\n",
    "        ax.xaxis.set_major_locator(ticker.MaxNLocator(integer=True))\n",
    "        plt.show()\n",
    "    return parameters\n",
    "\n",
    "def prediction(X, Y, parameters):\n",
    "    # 进行一次前向传播计算预测值\n",
    "    AL, caches = L_model_forward(X, parameters)\n",
    "    return np.sum(np.argmax(Y, axis=0, keepdims=True) == np.argmax(AL, axis=0, keepdims=True))\n",
    "\n",
    "def f1_score(prediction_Y, Y):\n",
    "    tp, fp, fn = 0, 0, 0\n",
    "    for i in range(prediction_Y.shape[1]):\n",
    "        if prediction_Y[0, i] == Y[0, i] and Y[0, i] == 1:\n",
    "            tp += 1\n",
    "        if prediction_Y[0, i] == 1 and Y[0, i] == 0:\n",
    "            fp += 1\n",
    "        if prediction_Y[0, i] == 0 and Y[0, i] == 1:\n",
    "            fn += 1\n",
    "    P = tp / (tp + fp) if tp + fp != 0 else 0\n",
    "    R = tp / (tp + fn) if tp + fn != 0 else 0\n",
    "    return 2*P*R / (P+R) if P+R != 0 else 0\n",
    "\n",
    "def plot_decision_boundary(X, Y, parameters):\n",
    "    minx1, maxx1 = X[0, :].min() - 0.3, X[0, :].max() + 0.3\n",
    "    minx2, maxx2 = X[1, :].min() - 0.3, X[1, :].max() + 0.3\n",
    "    x = np.linspace(minx1, maxx1, 100)\n",
    "    y = np.linspace(minx2, maxx2, 100)\n",
    "    meshX, meshY = np.meshgrid(x, y)\n",
    "    edge_data = np.vstack((meshX.ravel(), meshY.ravel()))\n",
    "    print(X.shape)\n",
    "    print(edge_data.shape)\n",
    "    meshZ = prediction(edge_data, parameters).reshape(meshX.shape)\n",
    "    print(meshX.shape)\n",
    "    plt.contourf(meshX, meshY, meshZ, cmap=plt.cm.Spectral)\n",
    "    plt.scatter(X[0, :], X[1, :], c=Y, marker=\".\", cmap=plt.cm.Spectral)\n",
    "    plt.contour(meshX, meshY, meshZ, cmap=plt.cm.Spectral)\n",
    "    plt.show()"
   ]
  },
  {
   "cell_type": "code",
   "execution_count": 7,
   "metadata": {},
   "outputs": [],
   "source": [
    "# 将批量的数据集划分成大小为mini_batch_size的小批次数据集\n",
    "def random_mini_batches(X, Y, mini_batch_size=64, seed=3):\n",
    "    # np.random.seed(seed)\n",
    "    m = X.shape[1] # 样本的数量\n",
    "    mini_batches = []\n",
    "\n",
    "    # 1. 第一步：打乱顺序\n",
    "    permuation = np.random.permutation(m) # 产生一个0~m-1的随机排列\n",
    "    shuffled_X = X[:, permuation] # 以数组的形式取X中的数据\n",
    "    shuffled_Y = Y[:, permuation]\n",
    "\n",
    "    # 2. 第二步：分割数据集\n",
    "    num_complete_minibatches = np.math.floor(m / mini_batch_size) # 批次数\n",
    "    for k in range(num_complete_minibatches):\n",
    "        mini_bacth_X = shuffled_X[:, k*mini_batch_size : (k+1)*mini_batch_size]\n",
    "        mini_bacth_Y = shuffled_Y[:, k*mini_batch_size : (k+1)*mini_batch_size]\n",
    "        mini_batches.append((mini_bacth_X, mini_bacth_Y))\n",
    "\n",
    "    # 3. 第三步：如果m不是mini_batch_size的整数倍，那么剩余的样本需要重新整合到一个mini-batch中\n",
    "    if m % mini_batch_size != 0:\n",
    "        mini_bacth_X = shuffled_X[:, num_complete_minibatches*mini_batch_size : m]\n",
    "        mini_bacth_Y = shuffled_Y[:, num_complete_minibatches*mini_batch_size : m]\n",
    "        mini_batches.append((mini_bacth_X, mini_bacth_Y))\n",
    "\n",
    "    return mini_batches\n",
    "\n",
    "\n",
    "def load_dataset():\n",
    "    train_df = pd.read_csv(\"../dataset/mnist/mnist_train.csv\")\n",
    "    test_df = pd.read_csv(\"../dataset/mnist/mnist_test.csv\")\n",
    "    train_Y = train_df.iloc[:, 0].values\n",
    "    print(train_Y.shape)\n",
    "    train_X = train_df.iloc[:, 1:].values\n",
    "    print(train_X.shape)\n",
    "    test_Y = test_df.iloc[:, 0].values\n",
    "    print(test_Y.shape)\n",
    "    test_X = test_df.iloc[:, 1:].values\n",
    "    print(test_X.shape)\n",
    "    return train_X, train_Y.reshape(1, -1), test_X, test_Y.reshape(1, -1)\n",
    "\n",
    "def one_shot(Y):\n",
    "    _, c = Y.shape\n",
    "    one_Y = np.zeros((10, c))\n",
    "    for i in range(c):\n",
    "        one_Y[Y[0][i]][i] = 1\n",
    "    return one_Y"
   ]
  },
  {
   "cell_type": "code",
   "execution_count": 8,
   "metadata": {},
   "outputs": [
    {
     "name": "stdout",
     "output_type": "stream",
     "text": [
      "(60000,)\n",
      "(60000, 784)\n",
      "(10000,)\n",
      "(10000, 784)\n",
      "235\n"
     ]
    },
    {
     "name": "stderr",
     "output_type": "stream",
     "text": [
      " 10%|█         | 50/500 [00:34<05:19,  1.41it/s]"
     ]
    },
    {
     "name": "stdout",
     "output_type": "stream",
     "text": [
      "第49轮测试准确率为： 96.71 % \n"
     ]
    },
    {
     "name": "stderr",
     "output_type": "stream",
     "text": [
      " 20%|██        | 100/500 [01:09<04:41,  1.42it/s]"
     ]
    },
    {
     "name": "stdout",
     "output_type": "stream",
     "text": [
      "第99轮测试准确率为： 97.49 % \n"
     ]
    },
    {
     "name": "stderr",
     "output_type": "stream",
     "text": [
      " 30%|███       | 150/500 [01:43<04:09,  1.40it/s]"
     ]
    },
    {
     "name": "stdout",
     "output_type": "stream",
     "text": [
      "第149轮测试准确率为： 97.58 % \n"
     ]
    },
    {
     "name": "stderr",
     "output_type": "stream",
     "text": [
      " 40%|████      | 200/500 [02:18<03:32,  1.41it/s]"
     ]
    },
    {
     "name": "stdout",
     "output_type": "stream",
     "text": [
      "第199轮测试准确率为： 97.71 % \n"
     ]
    },
    {
     "name": "stderr",
     "output_type": "stream",
     "text": [
      " 50%|█████     | 250/500 [02:53<02:53,  1.44it/s]"
     ]
    },
    {
     "name": "stdout",
     "output_type": "stream",
     "text": [
      "第249轮测试准确率为： 97.73 % \n"
     ]
    },
    {
     "name": "stderr",
     "output_type": "stream",
     "text": [
      " 60%|██████    | 300/500 [03:27<02:13,  1.50it/s]"
     ]
    },
    {
     "name": "stdout",
     "output_type": "stream",
     "text": [
      "第299轮测试准确率为： 97.77 % \n"
     ]
    },
    {
     "name": "stderr",
     "output_type": "stream",
     "text": [
      " 70%|███████   | 350/500 [04:01<01:42,  1.46it/s]"
     ]
    },
    {
     "name": "stdout",
     "output_type": "stream",
     "text": [
      "第349轮测试准确率为： 97.78 % \n"
     ]
    },
    {
     "name": "stderr",
     "output_type": "stream",
     "text": [
      " 80%|████████  | 400/500 [04:36<01:11,  1.39it/s]"
     ]
    },
    {
     "name": "stdout",
     "output_type": "stream",
     "text": [
      "第399轮测试准确率为： 97.78 % \n"
     ]
    },
    {
     "name": "stderr",
     "output_type": "stream",
     "text": [
      " 90%|█████████ | 450/500 [05:10<00:33,  1.47it/s]"
     ]
    },
    {
     "name": "stdout",
     "output_type": "stream",
     "text": [
      "第449轮测试准确率为： 97.82 % \n"
     ]
    },
    {
     "name": "stderr",
     "output_type": "stream",
     "text": [
      "100%|██████████| 500/500 [05:45<00:00,  1.45it/s]"
     ]
    },
    {
     "name": "stdout",
     "output_type": "stream",
     "text": [
      "第499轮测试准确率为： 97.83 % \n"
     ]
    },
    {
     "name": "stderr",
     "output_type": "stream",
     "text": [
      "\n"
     ]
    },
    {
     "data": {
      "image/png": "[encoded data removed]",
      "text/plain": [
       "<Figure size 640x480 with 1 Axes>"
      ]
     },
     "metadata": {},
     "output_type": "display_data"
    }
   ],
   "source": [
    "np.random.seed(3) # 保证每次得到的都是相同的随机数\n",
    "\n",
    "train_X, train_Y, test_X, test_Y = load_dataset()\n",
    "\n",
    "# 将每个训练的特征压缩成一个大的一维特征向量\n",
    "train_X = train_X.T # (784, 60000)\n",
    "test_X = test_X.T # (784, 10000)\n",
    "# print(train_set_x)\n",
    "\n",
    "# 归一化特征向量\n",
    "train_X = train_X / 255\n",
    "test_X = test_X / 255\n",
    "\n",
    "train_Y = one_shot(train_Y)\n",
    "test_Y = one_shot(test_Y)\n",
    "\n",
    "# 批量化数据\n",
    "train_batches = random_mini_batches(train_X, train_Y, 256, 3)\n",
    "test_batches = random_mini_batches(test_X, test_Y, 256, 3)\n",
    "\n",
    "print(len(train_batches))\n",
    "\n",
    "# 使用封装好的神经网络进行训练\n",
    "layer_dims = [784, 256, 128, 32, 10] # 构建一个五层的神经网络， 输入层的神经元个数是输入特征向量的个数\n",
    "parameters = L_layer_model(train_batches, test_batches, layer_dims, learning_rate=0.01, iteration_num=500, print_cost=True, isPlot=True)\n",
    "\n",
    "# 用训练得到的参数进行预测\n",
    "# prediction_train = prediction(train_X, parameters)\n",
    "# prediction_test = prediction(test_Y, parameters)\n",
    "\n",
    "# print(\"训练集准确率：\", 100 - np.mean(np.abs(prediction_train - train_Y)) % 100)\n",
    "# print(\"测试集准确率：\", 100 - np.mean(np.abs(prediction_test - test_Y)) % 100)\n",
    "\n",
    "# 计算f1—score\n",
    "# train_score = f1_score(prediction_train, train_Y)\n",
    "# test_score = f1_score(prediction_test, test_Y)\n",
    "# print(\"train_score: \", train_score)\n",
    "# print(\"test_score：\", test_score)"
   ]
  }
 ],
 "metadata": {
  "kernelspec": {
   "display_name": "bhc",
   "language": "python",
   "name": "python3"
  },
  "language_info": {
   "codemirror_mode": {
    "name": "ipython",
    "version": 3
   },
   "file_extension": ".py",
   "mimetype": "text/x-python",
   "name": "python",
   "nbconvert_exporter": "python",
   "pygments_lexer": "ipython3",
   "version": "3.9.12"
  }
 },
 "nbformat": 4,
 "nbformat_minor": 2
}
