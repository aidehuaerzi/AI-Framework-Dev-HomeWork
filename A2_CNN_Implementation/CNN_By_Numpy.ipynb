{
 "cells": [
  {
   "cell_type": "code",
   "execution_count": 14,
   "metadata": {},
   "outputs": [],
   "source": [
    "import numpy as np\n",
    "from tqdm import tqdm\n",
    "\n",
    "# Activation functions\n",
    "def sigmoid(x):\n",
    "    return 1 / (1 + np.exp(-x))\n",
    "\n",
    "def relu(x):\n",
    "    return np.maximum(0, x)\n",
    "\n",
    "def tanh(x):\n",
    "    return np.tanh(x)\n",
    "\n",
    "# Regularization functions\n",
    "def l1_regularization(weights, alpha):\n",
    "    return alpha * np.sum(np.abs(weights))\n",
    "\n",
    "def l2_regularization(weights, alpha):\n",
    "    return alpha * np.sum(weights ** 2)\n",
    "\n",
    "# Loss function (example)\n",
    "def categorical_crossentropy(predictions, targets):\n",
    "    epsilon = 1e-12\n",
    "    predictions = np.clip(predictions, epsilon, 1. - epsilon)\n",
    "    N = predictions.shape[0]\n",
    "    ce_loss = -np.sum(targets * np.log(predictions + 1e-9)) / N\n",
    "    return ce_loss\n"
   ]
  },
  {
   "cell_type": "code",
   "execution_count": 15,
   "metadata": {},
   "outputs": [],
   "source": [
    "class Conv2D:\n",
    "    def __init__(self, filters, kernel_size, stride=1, padding=0):\n",
    "        self.filters = filters\n",
    "        self.kernel_size = kernel_size\n",
    "        self.stride = stride\n",
    "        self.padding = padding\n",
    "        self.weights = None\n",
    "        self.bias = None\n",
    "        self.grad_weights = None\n",
    "        self.grad_bias = None\n",
    "        self.input = None\n",
    "\n",
    "    def initialize_parameters(self, input_shape):\n",
    "        self.input_shape = input_shape\n",
    "        self.weights = np.random.randn(self.filters, input_shape[1], self.kernel_size, self.kernel_size) * np.sqrt(2.0 / (input_shape[1] * self.kernel_size * self.kernel_size))\n",
    "        self.bias = np.zeros((self.filters, 1))\n",
    "        self.grad_weights = np.zeros_like(self.weights)\n",
    "        self.grad_bias = np.zeros_like(self.bias)\n",
    "\n",
    "    def forward(self, input):\n",
    "        self.input = input\n",
    "        batch_size, channels, height, width = input.shape\n",
    "        if self.weights is None:\n",
    "            self.initialize_parameters(input.shape)\n",
    "        padded_input = np.pad(input, ((0, 0), (0, 0), (self.padding, self.padding), (self.padding, self.padding)), 'constant')\n",
    "        height_out = (height + 2 * self.padding - self.kernel_size) // self.stride + 1\n",
    "        width_out = (width + 2 * self.padding - self.kernel_size) // self.stride + 1\n",
    "        output = np.zeros((batch_size, self.filters, height_out, width_out))\n",
    "\n",
    "        for b in range(batch_size):\n",
    "            for f in range(self.filters):\n",
    "                for i in range(0, height_out):\n",
    "                    for j in range(0, width_out):\n",
    "                        h_start = i * self.stride\n",
    "                        h_end = h_start + self.kernel_size\n",
    "                        w_start = j * self.stride\n",
    "                        w_end = w_start + self.kernel_size\n",
    "                        patch = padded_input[b, :, h_start:h_end, w_start:w_end]\n",
    "                        output[b, f, i, j] = np.sum(patch * self.weights[f]) + self.bias[f]\n",
    "\n",
    "        return output\n",
    "\n",
    "    def backward(self, d_output, learning_rate):\n",
    "        batch_size, _, height, width = self.input.shape\n",
    "        padded_input = np.pad(self.input, ((0, 0), (0, 0), (self.padding, self.padding), (self.padding, self.padding)), 'constant')\n",
    "        d_input = np.zeros_like(padded_input)\n",
    "        height_out, width_out = d_output.shape[2], d_output.shape[3]\n",
    "\n",
    "        for b in range(batch_size):\n",
    "            for f in range(self.filters):\n",
    "                for i in range(0, height_out):\n",
    "                    for j in range(0, width_out):\n",
    "                        h_start = i * self.stride\n",
    "                        h_end = h_start + self.kernel_size\n",
    "                        w_start = j * self.stride\n",
    "                        w_end = w_start + self.kernel_size\n",
    "                        patch = padded_input[b, :, h_start:h_end, w_start:w_end]\n",
    "                        self.grad_weights[f] += d_output[b, f, i, j] * patch\n",
    "                        self.grad_bias[f] += d_output[b, f, i, j]\n",
    "                        d_input[b, :, h_start:h_end, w_start:w_end] += d_output[b, f, i, j] * self.weights[f]\n",
    "\n",
    "        if self.padding != 0:\n",
    "            d_input = d_input[:, :, self.padding:-self.padding, self.padding:-self.padding]\n",
    "\n",
    "        self.weights -= learning_rate * self.grad_weights / batch_size\n",
    "        self.bias -= learning_rate * self.grad_bias / batch_size\n",
    "\n",
    "        return d_input\n"
   ]
  },
  {
   "cell_type": "code",
   "execution_count": 16,
   "metadata": {},
   "outputs": [],
   "source": [
    "class MaxPooling2D:\n",
    "    def __init__(self, pool_size=(2, 2), stride=2):\n",
    "        self.pool_size = pool_size\n",
    "        self.stride = stride\n",
    "        self.input = None\n",
    "        self.height_out = None\n",
    "        self.width_out = None\n",
    "    \n",
    "    def forward(self, input):\n",
    "        self.input = input\n",
    "        batch_size, channels, height, width = input.shape\n",
    "        self.height_out = (height - self.pool_size[0]) // self.stride + 1\n",
    "        self.width_out = (width - self.pool_size[1]) // self.stride + 1\n",
    "        \n",
    "        output = np.zeros((batch_size, channels, self.height_out, self.width_out))\n",
    "        \n",
    "        for b in range(batch_size):\n",
    "            for c in range(channels):\n",
    "                for i in range(self.height_out):\n",
    "                    for j in range(self.width_out):\n",
    "                        h_start = i * self.stride\n",
    "                        h_end = h_start + self.pool_size[0]\n",
    "                        w_start = j * self.stride\n",
    "                        w_end = w_start + self.pool_size[1]\n",
    "                        \n",
    "                        patch = input[b, c, h_start:h_end, w_start:w_end]\n",
    "                        output[b, c, i, j] = np.max(patch)\n",
    "        \n",
    "        return output\n",
    "    \n",
    "    def backward(self, d_output, learning_rate):\n",
    "        batch_size, channels, _, _ = self.input.shape\n",
    "        d_input = np.zeros_like(self.input)\n",
    "        \n",
    "        for b in range(batch_size):\n",
    "            for c in range(channels):\n",
    "                for i in range(self.height_out):\n",
    "                    for j in range(self.width_out):\n",
    "                        h_start = i * self.stride\n",
    "                        h_end = h_start + self.pool_size[0]\n",
    "                        w_start = j * self.stride\n",
    "                        w_end = w_start + self.pool_size[1]\n",
    "                        \n",
    "                        patch = self.input[b, c, h_start:h_end, w_start:w_end]\n",
    "                        mask = (patch == np.max(patch))\n",
    "                        d_input[b, c, h_start:h_end, w_start:w_end] += mask * d_output[b, c, i, j]\n",
    "        \n",
    "        return d_input\n"
   ]
  },
  {
   "cell_type": "code",
   "execution_count": 17,
   "metadata": {},
   "outputs": [],
   "source": [
    "class Dense:\n",
    "    def __init__(self, input_units, units, activation=None, weight_regularizer=None):\n",
    "        self.input_units = input_units\n",
    "        self.units = units\n",
    "        self.activation = activation\n",
    "        self.weight_regularizer = weight_regularizer\n",
    "        \n",
    "        self.weights = None\n",
    "        self.bias = None\n",
    "        self.grad_weights = None\n",
    "        self.grad_bias = None\n",
    "        self.input = None\n",
    "        \n",
    "        self.initialize_parameters()\n",
    "        \n",
    "    def initialize_parameters(self):\n",
    "        # Initialize weights and bias\n",
    "        self.weights = np.random.randn(self.input_units, self.units) * np.sqrt(2.0 / self.input_units)\n",
    "        self.bias = np.zeros((1, self.units))\n",
    "        \n",
    "    def forward(self, input):\n",
    "        self.input = input\n",
    "        output = np.dot(input, self.weights) + self.bias\n",
    "        \n",
    "        if self.activation == 'relu':\n",
    "            return np.maximum(0, output)\n",
    "        elif self.activation == 'sigmoid':\n",
    "            return 1 / (1 + np.exp(-output))\n",
    "        elif self.activation == 'tanh':\n",
    "            return np.tanh(output)\n",
    "        elif self.activation == 'softmax':\n",
    "            exp_scores = np.exp(output)\n",
    "            return exp_scores / np.sum(exp_scores, axis=1, keepdims=True)\n",
    "        else:\n",
    "            return output  # Linear activation\n",
    "    \n",
    "    def backward(self, d_output, learning_rate):\n",
    "        batch_size = self.input.shape[0]\n",
    "        \n",
    "        if self.activation == 'relu':\n",
    "            grad_activation = (self.input > 0).astype(float)\n",
    "        elif self.activation == 'sigmoid':\n",
    "            grad_activation = sigmoid(self.input) * (1 - sigmoid(self.input))\n",
    "        elif self.activation == 'tanh':\n",
    "            grad_activation = 1 - np.tanh(self.input) ** 2\n",
    "        elif self.activation == 'softmax':\n",
    "            # Softmax gradient is handled separately in cross-entropy loss function\n",
    "            grad_activation = 1\n",
    "        else:\n",
    "            grad_activation = 1  # Linear activation\n",
    "        \n",
    "        d_input = np.dot(d_output, self.weights.T) * grad_activation\n",
    "        self.grad_weights = np.dot(self.input.T, d_output) / batch_size\n",
    "        self.grad_bias = np.mean(d_output, axis=0, keepdims=True)\n",
    "        \n",
    "        if self.weight_regularizer == 'L1':\n",
    "            self.grad_weights += np.sign(self.weights) * self.weight_regularizer_strength\n",
    "        elif self.weight_regularizer == 'L2':\n",
    "            self.grad_weights += 2 * self.weights * self.weight_regularizer_strength\n",
    "        \n",
    "        self.weights -= learning_rate * self.grad_weights\n",
    "        self.bias -= learning_rate * self.grad_bias\n",
    "        \n",
    "        return d_input\n"
   ]
  },
  {
   "cell_type": "code",
   "execution_count": 18,
   "metadata": {},
   "outputs": [],
   "source": [
    "class BatchNormalization:\n",
    "    def __init__(self, epsilon=1e-5, momentum=0.9):\n",
    "        self.epsilon = epsilon\n",
    "        self.momentum = momentum\n",
    "        self.running_mean = None\n",
    "        self.running_var = None\n",
    "        self.beta = None\n",
    "        self.gamma = None\n",
    "        self.grad_beta = None\n",
    "        self.grad_gamma = None\n",
    "        self.input = None\n",
    "        self.batch_size = None\n",
    "        \n",
    "    def initialize(self, input_shape):\n",
    "        self.gamma = np.ones((1, input_shape[0], 1, 1))\n",
    "        self.beta = np.zeros((1, input_shape[0], 1, 1))\n",
    "        self.running_mean = np.zeros((1, input_shape[0], 1, 1))\n",
    "        self.running_var = np.ones((1, input_shape[0], 1, 1))\n",
    "        \n",
    "    def forward(self, input, mode='train'):\n",
    "        self.input = input\n",
    "        self.batch_size, self.channels, self.height, self.width = input.shape\n",
    "        \n",
    "        if self.gamma is None or self.beta is None:\n",
    "            self.initialize((self.channels,))\n",
    "        \n",
    "        if mode == 'train':\n",
    "            sample_mean = np.mean(input, axis=(0, 2, 3), keepdims=True)\n",
    "            sample_var = np.var(input, axis=(0, 2, 3), keepdims=True)\n",
    "            self.running_mean = self.momentum * self.running_mean + (1 - self.momentum) * sample_mean\n",
    "            self.running_var = self.momentum * self.running_var + (1 - self.momentum) * sample_var\n",
    "        else:\n",
    "            sample_mean = self.running_mean\n",
    "            sample_var = self.running_var\n",
    "        \n",
    "        self.x_hat = (input - sample_mean) / np.sqrt(sample_var + self.epsilon)\n",
    "        output = self.gamma * self.x_hat + self.beta\n",
    "        \n",
    "        return output\n",
    "    \n",
    "    def backward(self, d_output, learning_rate):\n",
    "        d_gamma = np.sum(d_output * self.x_hat, axis=(0, 2, 3), keepdims=True)\n",
    "        d_beta = np.sum(d_output, axis=(0, 2, 3), keepdims=True)\n",
    "        \n",
    "        d_x_hat = d_output * self.gamma\n",
    "        N = self.batch_size * self.height * self.width\n",
    "        d_var = np.sum(d_x_hat * (self.input - self.running_mean) * (-0.5) * np.power(self.running_var + self.epsilon, -1.5), axis=(0, 2, 3), keepdims=True)\n",
    "        d_mean = np.sum(d_x_hat * (-1) / np.sqrt(self.running_var + self.epsilon), axis=(0, 2, 3), keepdims=True) + d_var * np.sum(-2 * (self.input - self.running_mean), axis=(0, 2, 3), keepdims=True) / N\n",
    "        \n",
    "        d_input = d_x_hat / np.sqrt(self.running_var + self.epsilon) + d_var * 2 * (self.input - self.running_mean) / N + d_mean / N\n",
    "        self.grad_gamma = d_gamma\n",
    "        self.grad_beta = d_beta\n",
    "        \n",
    "        self.gamma -= learning_rate * self.grad_gamma\n",
    "        self.beta -= learning_rate * self.grad_beta\n",
    "        \n",
    "        return d_input\n"
   ]
  },
  {
   "cell_type": "code",
   "execution_count": 19,
   "metadata": {},
   "outputs": [],
   "source": [
    "class Activation:\n",
    "    def __init__(self, activation_type):\n",
    "        self.activation_type = activation_type\n",
    "        self.input = None\n",
    "        \n",
    "    def forward(self, input):\n",
    "        self.input = input\n",
    "        \n",
    "        if self.activation_type == 'relu':\n",
    "            return np.maximum(0, input)\n",
    "        elif self.activation_type == 'sigmoid':\n",
    "            return 1 / (1 + np.exp(-input))\n",
    "        elif self.activation_type == 'tanh':\n",
    "            return np.tanh(input)\n",
    "        else:\n",
    "            raise ValueError(f\"Activation '{self.activation_type}' is not supported.\")\n",
    "    \n",
    "    def backward(self, d_output, learning_rate):\n",
    "        if self.activation_type == 'relu':\n",
    "            grad = (self.input > 0).astype(float)\n",
    "        elif self.activation_type == 'sigmoid':\n",
    "            grad = sigmoid(self.input) * (1 - sigmoid(self.input))\n",
    "        elif self.activation_type == 'tanh':\n",
    "            grad = 1 - np.tanh(self.input) ** 2\n",
    "        else:\n",
    "            raise ValueError(f\"Activation '{self.activation_type}' is not supported.\")\n",
    "        \n",
    "        return d_output * grad\n"
   ]
  },
  {
   "cell_type": "code",
   "execution_count": 20,
   "metadata": {},
   "outputs": [],
   "source": [
    "class Dropout:\n",
    "    def __init__(self, dropout_rate=0.5):\n",
    "        self.dropout_rate = dropout_rate\n",
    "        self.mask = None\n",
    "        \n",
    "    def forward(self, input, mode='train'):\n",
    "        if mode == 'train':\n",
    "            self.mask = (np.random.rand(*input.shape) >= self.dropout_rate) / (1 - self.dropout_rate)\n",
    "            output = input * self.mask\n",
    "        else:\n",
    "            output = input\n",
    "        \n",
    "        return output\n",
    "    \n",
    "    def backward(self, d_output, learning_rate):\n",
    "        d_input = d_output * self.mask\n",
    "        return d_input\n"
   ]
  },
  {
   "cell_type": "code",
   "execution_count": 21,
   "metadata": {},
   "outputs": [],
   "source": [
    "class Flatten:\n",
    "    def forward(self, input):\n",
    "        self.input_shape = input.shape\n",
    "        batch_size = input.shape[0]\n",
    "        return input.reshape(batch_size, -1)\n",
    "    \n",
    "    def backward(self, d_output, learning_rate):\n",
    "        return d_output.reshape(self.input_shape)"
   ]
  },
  {
   "cell_type": "code",
   "execution_count": 22,
   "metadata": {},
   "outputs": [],
   "source": [
    "class SGD:\n",
    "    def __init__(self, learning_rate=0.01):\n",
    "        self.learning_rate = learning_rate\n",
    "        \n",
    "    def update(self, params, gradients):\n",
    "        for param, grad in zip(params, gradients):\n",
    "            param -= self.learning_rate * grad\n",
    "\n",
    "class Adam:\n",
    "    def __init__(self, learning_rate=0.001, beta1=0.9, beta2=0.999, epsilon=1e-8):\n",
    "        self.learning_rate = learning_rate\n",
    "        self.beta1 = beta1\n",
    "        self.beta2 = beta2\n",
    "        self.epsilon = epsilon\n",
    "        self.m = None\n",
    "        self.v = None\n",
    "        self.t = 0\n",
    "        \n",
    "    def update(self, params, gradients):\n",
    "        if self.m is None:\n",
    "            self.m = [np.zeros_like(param) for param in params]\n",
    "            self.v = [np.zeros_like(param) for param in params]\n",
    "        \n",
    "        self.t += 1\n",
    "        for i in range(len(params)):\n",
    "            self.m[i] = self.beta1 * self.m[i] + (1 - self.beta1) * gradients[i]\n",
    "            self.v[i] = self.beta2 * self.v[i] + (1 - self.beta2) * (gradients[i] ** 2)\n",
    "            \n",
    "            m_hat = self.m[i] / (1 - self.beta1 ** self.t)\n",
    "            v_hat = self.v[i] / (1 - self.beta2 ** self.t)\n",
    "            \n",
    "            params[i] -= self.learning_rate * m_hat / (np.sqrt(v_hat) + self.epsilon)\n"
   ]
  },
  {
   "cell_type": "code",
   "execution_count": 23,
   "metadata": {},
   "outputs": [],
   "source": [
    "class VGG:\n",
    "    def __init__(self):\n",
    "        self.layers = [\n",
    "            Conv2D(filters=64, kernel_size=3, stride=1, padding=1),\n",
    "            BatchNormalization(),\n",
    "            Activation('relu'),\n",
    "            Conv2D(filters=64, kernel_size=3, stride=1, padding=1),\n",
    "            BatchNormalization(),\n",
    "            Activation('relu'),\n",
    "            MaxPooling2D(pool_size=(2, 2), stride=2),\n",
    "            Conv2D(filters=128, kernel_size=3, stride=1, padding=1),\n",
    "            BatchNormalization(),\n",
    "            Activation('relu'),\n",
    "            Conv2D(filters=128, kernel_size=3, stride=1, padding=1),\n",
    "            BatchNormalization(),\n",
    "            Activation('relu'),\n",
    "            MaxPooling2D(pool_size=(2, 2), stride=2),\n",
    "            Dropout(dropout_rate=0.5),\n",
    "            Flatten(),\n",
    "            Dense(input_units=6272, units=10, activation='softmax')\n",
    "        ]\n",
    "\n",
    "    def forward(self, x):\n",
    "        for layer in self.layers:\n",
    "            x = layer.forward(x)\n",
    "        return x\n",
    "\n",
    "    def backward(self, d_output, learning_rate):\n",
    "        for layer in reversed(self.layers):\n",
    "            d_output = layer.backward(d_output, learning_rate)\n",
    "        return d_output\n",
    "\n",
    "    def get_params(self):\n",
    "        params = []\n",
    "        for layer in self.layers:\n",
    "            if hasattr(layer, 'weights'):\n",
    "                params.append(layer.weights)\n",
    "                params.append(layer.bias)\n",
    "        return params\n",
    "\n",
    "    def get_gradients(self):\n",
    "        gradients = []\n",
    "        for layer in self.layers:\n",
    "            if hasattr(layer, 'grad_weights'):\n",
    "                gradients.append(layer.grad_weights)\n",
    "                gradients.append(layer.grad_bias)\n",
    "        return gradients\n"
   ]
  },
  {
   "cell_type": "code",
   "execution_count": 24,
   "metadata": {},
   "outputs": [],
   "source": [
    "def eval(model, x_test, y_test, batch_size=32):\n",
    "    correct_num, tot_num = 0, 0\n",
    "    for i in range(0, len(x_test), batch_size):\n",
    "        x_batch = x_test[i: i+batch_size]\n",
    "        y_batch = y_test[i: i+batch_size]\n",
    "\n",
    "        predictions = model.forward(x_batch)\n",
    "        predictions_classes = np.argmax(predictions, axis=1)\n",
    "        true_classes = np.argmax(y_batch, axis=1)\n",
    "\n",
    "        correct_num += np.sum(predictions_classes == true_classes)\n",
    "        tot_num += batch_size\n",
    "    \n",
    "    accuracy = correct_num / tot_num\n",
    "\n",
    "    return accuracy\n"
   ]
  },
  {
   "cell_type": "code",
   "execution_count": 25,
   "metadata": {},
   "outputs": [],
   "source": [
    "def train(model, x_train, y_train, x_test, y_test, optimizer, batch_size=32, epochs=10):\n",
    "    num_samples = x_train.shape[0]\n",
    "    num_batches = num_samples // batch_size\n",
    "    \n",
    "    losses, acces = [], []\n",
    "    for epoch in tqdm(range(epochs)):\n",
    "        epoch_loss = 0.0\n",
    "        \n",
    "        for batch in range(num_batches):\n",
    "            start_idx = batch * batch_size\n",
    "            end_idx = (batch + 1) * batch_size\n",
    "            \n",
    "            x_batch = x_train[start_idx:end_idx]\n",
    "            y_batch = y_train[start_idx:end_idx]\n",
    "            \n",
    "            # Forward pass\n",
    "            predictions = model.forward(x_batch)\n",
    "            loss = categorical_crossentropy(predictions, y_batch)\n",
    "            \n",
    "            # Backward pass\n",
    "            grad_output = predictions - y_batch\n",
    "            model.backward(grad_output, optimizer.learning_rate)\n",
    "            \n",
    "            # Update parameters\n",
    "            optimizer.update(model.get_params(), model.get_gradients())\n",
    "            \n",
    "            epoch_loss += loss\n",
    "        accuracy = eval(model, x_test, y_test, batch_size)\n",
    "        epoch_loss /= num_batches\n",
    "        print(f\"Epoch {epoch+1}/{epochs}, Loss: {epoch_loss: .4f}, Accuracy: {accuracy * 100: .2f} %\")\n",
    "\n",
    "        losses.append(epoch_loss)\n",
    "        acces.append(accuracy * 100)\n",
    "\n",
    "    return losses, acces\n"
   ]
  },
  {
   "cell_type": "code",
   "execution_count": 26,
   "metadata": {},
   "outputs": [
    {
     "name": "stderr",
     "output_type": "stream",
     "text": [
      "  5%|▌         | 1/20 [18:50<5:58:03, 1130.71s/it]"
     ]
    },
    {
     "name": "stdout",
     "output_type": "stream",
     "text": [
      "Epoch 1/20, Loss:  2.8767, Accuracy:  57.62 %\n"
     ]
    },
    {
     "name": "stderr",
     "output_type": "stream",
     "text": [
      " 10%|█         | 2/20 [37:41<5:39:10, 1130.60s/it]"
     ]
    },
    {
     "name": "stdout",
     "output_type": "stream",
     "text": [
      "Epoch 2/20, Loss:  0.6957, Accuracy:  71.09 %\n"
     ]
    },
    {
     "name": "stderr",
     "output_type": "stream",
     "text": [
      " 15%|█▌        | 3/20 [56:31<5:20:21, 1130.67s/it]"
     ]
    },
    {
     "name": "stdout",
     "output_type": "stream",
     "text": [
      "Epoch 3/20, Loss:  0.5944, Accuracy:  73.63 %\n"
     ]
    },
    {
     "name": "stderr",
     "output_type": "stream",
     "text": [
      " 20%|██        | 4/20 [1:15:21<5:01:26, 1130.38s/it]"
     ]
    },
    {
     "name": "stdout",
     "output_type": "stream",
     "text": [
      "Epoch 4/20, Loss:  0.3902, Accuracy:  77.73 %\n"
     ]
    },
    {
     "name": "stderr",
     "output_type": "stream",
     "text": [
      " 25%|██▌       | 5/20 [1:34:15<4:42:51, 1131.45s/it]"
     ]
    },
    {
     "name": "stdout",
     "output_type": "stream",
     "text": [
      "Epoch 5/20, Loss:  0.3011, Accuracy:  81.45 %\n"
     ]
    },
    {
     "name": "stderr",
     "output_type": "stream",
     "text": [
      " 30%|███       | 6/20 [1:53:09<4:24:12, 1132.31s/it]"
     ]
    },
    {
     "name": "stdout",
     "output_type": "stream",
     "text": [
      "Epoch 6/20, Loss:  0.2452, Accuracy:  84.57 %\n"
     ]
    },
    {
     "name": "stderr",
     "output_type": "stream",
     "text": [
      " 35%|███▌      | 7/20 [2:12:03<4:05:30, 1133.10s/it]"
     ]
    },
    {
     "name": "stdout",
     "output_type": "stream",
     "text": [
      "Epoch 7/20, Loss:  0.1885, Accuracy:  86.91 %\n"
     ]
    },
    {
     "name": "stderr",
     "output_type": "stream",
     "text": [
      " 40%|████      | 8/20 [2:30:57<3:46:38, 1133.17s/it]"
     ]
    },
    {
     "name": "stdout",
     "output_type": "stream",
     "text": [
      "Epoch 8/20, Loss:  0.1835, Accuracy:  88.09 %\n"
     ]
    },
    {
     "name": "stderr",
     "output_type": "stream",
     "text": [
      " 45%|████▌     | 9/20 [2:49:50<3:27:45, 1133.22s/it]"
     ]
    },
    {
     "name": "stdout",
     "output_type": "stream",
     "text": [
      "Epoch 9/20, Loss:  0.1717, Accuracy:  88.09 %\n"
     ]
    },
    {
     "name": "stderr",
     "output_type": "stream",
     "text": [
      " 50%|█████     | 10/20 [3:08:43<3:08:52, 1133.21s/it]"
     ]
    },
    {
     "name": "stdout",
     "output_type": "stream",
     "text": [
      "Epoch 10/20, Loss:  0.1241, Accuracy:  87.89 %\n"
     ]
    },
    {
     "name": "stderr",
     "output_type": "stream",
     "text": [
      " 55%|█████▌    | 11/20 [3:27:37<2:50:00, 1133.37s/it]"
     ]
    },
    {
     "name": "stdout",
     "output_type": "stream",
     "text": [
      "Epoch 11/20, Loss:  0.0976, Accuracy:  84.77 %\n"
     ]
    },
    {
     "name": "stderr",
     "output_type": "stream",
     "text": [
      " 60%|██████    | 12/20 [3:46:29<2:31:04, 1133.02s/it]"
     ]
    },
    {
     "name": "stdout",
     "output_type": "stream",
     "text": [
      "Epoch 12/20, Loss:  0.0830, Accuracy:  88.09 %\n"
     ]
    },
    {
     "name": "stderr",
     "output_type": "stream",
     "text": [
      " 65%|██████▌   | 13/20 [4:05:23<2:12:12, 1133.16s/it]"
     ]
    },
    {
     "name": "stdout",
     "output_type": "stream",
     "text": [
      "Epoch 13/20, Loss:  0.0753, Accuracy:  88.28 %\n"
     ]
    },
    {
     "name": "stderr",
     "output_type": "stream",
     "text": [
      " 70%|███████   | 14/20 [4:24:14<1:53:15, 1132.60s/it]"
     ]
    },
    {
     "name": "stdout",
     "output_type": "stream",
     "text": [
      "Epoch 14/20, Loss:  0.0708, Accuracy:  88.28 %\n"
     ]
    },
    {
     "name": "stderr",
     "output_type": "stream",
     "text": [
      " 75%|███████▌  | 15/20 [4:43:06<1:34:21, 1132.34s/it]"
     ]
    },
    {
     "name": "stdout",
     "output_type": "stream",
     "text": [
      "Epoch 15/20, Loss:  0.0564, Accuracy:  88.09 %\n"
     ]
    },
    {
     "name": "stderr",
     "output_type": "stream",
     "text": [
      " 80%|████████  | 16/20 [5:01:57<1:15:27, 1131.99s/it]"
     ]
    },
    {
     "name": "stdout",
     "output_type": "stream",
     "text": [
      "Epoch 16/20, Loss:  0.0415, Accuracy:  88.48 %\n"
     ]
    },
    {
     "name": "stderr",
     "output_type": "stream",
     "text": [
      " 85%|████████▌ | 17/20 [5:20:50<56:37, 1132.34s/it]  "
     ]
    },
    {
     "name": "stdout",
     "output_type": "stream",
     "text": [
      "Epoch 17/20, Loss:  0.0672, Accuracy:  90.62 %\n"
     ]
    },
    {
     "name": "stderr",
     "output_type": "stream",
     "text": [
      " 90%|█████████ | 18/20 [5:39:41<37:43, 1131.83s/it]"
     ]
    },
    {
     "name": "stdout",
     "output_type": "stream",
     "text": [
      "Epoch 18/20, Loss:  0.0587, Accuracy:  89.26 %\n"
     ]
    },
    {
     "name": "stderr",
     "output_type": "stream",
     "text": [
      " 95%|█████████▌| 19/20 [5:58:29<18:50, 1130.67s/it]"
     ]
    },
    {
     "name": "stdout",
     "output_type": "stream",
     "text": [
      "Epoch 19/20, Loss:  0.0296, Accuracy:  90.62 %\n"
     ]
    },
    {
     "name": "stderr",
     "output_type": "stream",
     "text": [
      "100%|██████████| 20/20 [6:17:20<00:00, 1132.03s/it]"
     ]
    },
    {
     "name": "stdout",
     "output_type": "stream",
     "text": [
      "Epoch 20/20, Loss:  0.0328, Accuracy:  90.62 %\n"
     ]
    },
    {
     "name": "stderr",
     "output_type": "stream",
     "text": [
      "\n"
     ]
    },
    {
     "data": {
      "image/png": "[encoded data removed]",
      "text/plain": [
       "<Figure size 800x300 with 2 Axes>"
      ]
     },
     "metadata": {},
     "output_type": "display_data"
    }
   ],
   "source": [
    "from matplotlib import ticker\n",
    "import numpy as np\n",
    "from torch.utils.data import Subset\n",
    "\n",
    "import torch\n",
    "import torchvision\n",
    "import torchvision.transforms as transforms\n",
    "import matplotlib.pyplot as plt\n",
    "\n",
    "# 数据预处理和加载\n",
    "# transform = transforms.Compose(\n",
    "#     [transforms.ToTensor(),|\n",
    "#      transforms.Normalize((0.4914, 0.4822, 0.4465), (0.2023, 0.1994, 0.2010))])\n",
    "\n",
    "# trainset = torchvision.datasets.CIFAR10(root='../dataset/cifar10', train=True,\n",
    "#                                         download=True, transform=transform)\n",
    "# trainloader = torch.utils.data.DataLoader(trainset, batch_size=128,\n",
    "#                                           shuffle=True, num_workers=2)\n",
    "\n",
    "# testset = torchvision.datasets.CIFAR10(root='../dataset/cifar10', train=False,\n",
    "#                                        download=True, transform=transform)\n",
    "# testloader = torch.utils.data.DataLoader(testset, batch_size=100,\n",
    "#                                          shuffle=False, num_workers=2)\n",
    "\n",
    "transform = transforms.Compose([\n",
    "    transforms.ToTensor(),  # 将图像转换为张量\n",
    "    transforms.Normalize((0.5,), (0.5,))  # 标准化图像数据\n",
    "])\n",
    "\n",
    "subset_train_indices = list(range(500)) # 只取前500个样本\n",
    "subset_test_indices = list(range(500))\n",
    "\n",
    "trainset = torchvision.datasets.MNIST(root='../dataset/mnist', train=True,\n",
    "                                        download=True, transform=transform)\n",
    "trainset = Subset(trainset, subset_train_indices)\n",
    "\n",
    "trainloader = torch.utils.data.DataLoader(trainset, batch_size=128,\n",
    "                                          shuffle=True, num_workers=2)\n",
    "\n",
    "testset = torchvision.datasets.MNIST(root='../dataset/mnist', train=False,\n",
    "                                       download=True, transform=transform)\n",
    "testset = Subset(testset, subset_test_indices)\n",
    "testloader = torch.utils.data.DataLoader(testset, batch_size=100,\n",
    "                                         shuffle=False, num_workers=2)\n",
    "\n",
    "\n",
    "# classes = ('plane', 'car', 'bird', 'cat', 'deer', 'dog', 'frog', 'horse', 'ship', 'truck')\n",
    "\n",
    "# 转换训练数据为numpy格式\n",
    "train_data = []\n",
    "train_labels = []\n",
    "\n",
    "for images, labels in trainloader:\n",
    "    for i in range(len(images)):\n",
    "        train_data.append(images[i].numpy())\n",
    "        train_labels.append(np.eye(10)[labels[i]])\n",
    "\n",
    "x_train = np.array(train_data)\n",
    "y_train = np.array(train_labels)\n",
    "\n",
    "# 转换测试数据为numpy格式\n",
    "test_data = []\n",
    "test_labels = []\n",
    "\n",
    "for images, labels in testloader:\n",
    "    for i in range(len(images)):\n",
    "        test_data.append(images[i].numpy())\n",
    "        test_labels.append(np.eye(10)[labels[i]])\n",
    "\n",
    "x_test = np.array(test_data)\n",
    "y_test = np.array(test_labels)\n",
    "\n",
    "model = VGG()\n",
    "optimizer = Adam(learning_rate=0.001)\n",
    "losses, acces = train(model, x_train, y_train, x_test, y_test, optimizer, batch_size=32, epochs=20)\n",
    "\n",
    "# losses = [1.5, 2.5, 3.5, 4.5, 5.5, 30.78, 45.69]\n",
    "# acces = [1, 2, 3, 4, 5, 1, 2, 3, 4, 5, 1, 2, 3, 4, 5, 1, 2, 3, 4, 5]\n",
    "\n",
    "_, axes = plt.subplots(1, 2, figsize=(8, 3))\n",
    "axes[0].plot(range(len(acces)), acces, c='r') \n",
    "axes[0].set_xlabel(\"epoch\")\n",
    "axes[0].set_ylabel(\"Test Accuracy(%)\")\n",
    "axes[0].set_title(\"MNIST\")\n",
    "axes[0].yaxis.set_major_locator(ticker.MaxNLocator(integer=True))\n",
    "axes[0].xaxis.set_major_locator(ticker.MaxNLocator(integer=True))\n",
    "\n",
    "axes[1].plot(range(len(losses)), losses, c='b')\n",
    "axes[1].set_xlabel(\"epoch\")\n",
    "axes[1].set_ylabel(\"Test Loss\")\n",
    "axes[1].set_title(\"MNIST\")\n",
    "axes[1].yaxis.set_major_locator(ticker.MaxNLocator(integer=True))\n",
    "axes[1].xaxis.set_major_locator(ticker.MaxNLocator(integer=True))\n",
    "\n",
    "plt.subplots_adjust(wspace=0.5)\n",
    "plt.show()"
   ]
  }
 ],
 "metadata": {
  "kernelspec": {
   "display_name": "bhc",
   "language": "python",
   "name": "python3"
  },
  "language_info": {
   "codemirror_mode": {
    "name": "ipython",
    "version": 3
   },
   "file_extension": ".py",
   "mimetype": "text/x-python",
   "name": "python",
   "nbconvert_exporter": "python",
   "pygments_lexer": "ipython3",
   "version": "3.9.12"
  }
 },
 "nbformat": 4,
 "nbformat_minor": 2
}
