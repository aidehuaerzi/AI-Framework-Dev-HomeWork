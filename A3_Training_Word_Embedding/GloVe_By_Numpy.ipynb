{
 "cells": [
  {
   "cell_type": "code",
   "execution_count": 1,
   "metadata": {},
   "outputs": [
    {
     "name": "stdout",
     "output_type": "stream",
     "text": [
      "text长度为: 713069767\n",
      " anarchism originated as a term of abuse first used against early working class radicals including the diggers of the english revolution and the sans culottes of the french revolution whilst the term is still used in a pejorative way to describe any act that used violent means to destroy the organization of society it has also been taken up as a positive label by self defined anarchists the word anarchism is derived from the greek without archons ruler chief king anarchism as a political philosophy is the belief that rulers are unnecessary and should be abolished although there are differing interpretations of what this means anarchism also refers to related social movements that advocate the elimination of authoritarian institutions particularly the state the word anarchy as most anarchists use it does not imply chaos nihilism or anomie but rather a harmonious anti authoritarian society in place of what are regarded as authoritarian political structures and coercive economic institutions anarchists advocate social relations based upon voluntary association of autonomous individuals mutual aid and self governance while anarchism is most easily defined by what it is against anarchists also offer positive visions of what they believe to be a truly free society however ideas about how an anarchist society might work vary considerably especially with respect to economics there is also disagreement about how a free society might be brought about origins and predecessors kropotkin and others argue that before recorded history human society was organized on anarchist principles most anthropologists follow kropotkin and engels in believing that hunter gatherer bands were egalitarian and lacked division of labour accumulated wealth or decreed law and had equal access to resources william godwin anarchists including the the anarchy organisation and rothbard find anarchist attitudes in taoism from ancient china kropotkin found similar ideas in stoic zeno of citium according to kropotkin zeno repudiated the omnipotence of the state its intervention and regimentation and proclaimed the sovereignty of the moral law of the individual the anabaptists of one six th century europe are sometimes considered to be religious forerunners of modern anarchism bertrand russell in his history of western philosophy writes that the anabaptists repudiated all law since they held that the good man will be guided at every moment by the holy spirit from this premise they arrive at communism the diggers or true levellers were an early communistic movement during the time of the english civil war and are considered by some as forerunners of modern anarchism in the modern era the first to use the term to mean something other than chaos was louis armand baron de lahontan in his nouveaux voyages dans l am rique septentrionale one seven zero three where he described the indigenous american society which had no state laws prisons priests or private property as being in anarchy russell means a libertarian and leader in the american indian movement has repeatedly stated that he is an anarchist and so are all his ancestors in one seven nine three in the thick of the french revolution william godwin published an enquiry concerning political justice although godwin did not use the word anarchism many later anarchists have regarded this book as the first major anarchist text and godwin as the founder of philosophical anarchism but at this point no anarchist movement yet existed and the term anarchiste was known mainly as an insult hurled by the bourgeois girondins at more radical elements in the french revolution the first self labelled anarchist pierre joseph proudhon it is commonly held that it wasn t until pierre joseph proudhon published what is property in one eight four zero that the term anarchist was adopted as a self description it is for this reason that some claim proudhon as the founder of modern anarchist theory in what is property proudhon answers with the famous accusation property is theft in this work he opposed the institution of decreed property propri t where owners have complete rights to use and abuse their property as they wish such as exploiting workers for profit in its place proudhon supported what he called possession individuals can have limited rights to use resources capital and goods in accordance with principles of equality and justice proudhon s vision of anarchy which he called mutualism mutuellisme involved an exchange economy where individuals and groups could trade the products of their labor using labor notes which represented the amount of working time involved in production this would ensure that no one would profit from the labor of others workers could freely join together in co operative workshops an interest free bank would be set up to provide everyone with access to the means of production proudhon s ideas were influential within french working class movements and his followers were active in the revolution\n",
      "[(' ', 800), ('e', 459), ('t', 361), ('i', 359), ('a', 354), ('o', 336), ('n', 304), ('r', 302), ('s', 302), ('h', 223), ('d', 162), ('l', 160), ('c', 143), ('u', 126), ('m', 100), ('p', 94), ('f', 75), ('w', 69), ('g', 63)]\n",
      "['anarchism', 'originated', 'as', 'a', 'term', 'of', 'abuse', 'first', 'used', 'against', 'early', 'working', 'class', 'radicals', 'including', 'the', 'diggers', 'of', 'the', 'english', 'revolution', 'and', 'the', 'sans', 'culottes', 'of', 'the', 'french', 'revolution', 'whilst', 'the', 'term', 'is', 'still', 'used', 'in', 'a', 'pejorative', 'way', 'to', 'describe', 'any', 'act', 'that', 'used', 'violent', 'means', 'to', 'destroy', 'the', 'organization', 'of', 'society', 'it', 'has', 'also', 'been', 'taken', 'up', 'as', 'a', 'positive', 'label', 'by', 'self', 'defined', 'anarchists', 'the', 'word', 'anarchism', 'is', 'derived', 'from', 'the', 'greek', 'without', 'archons', 'ruler', 'chief', 'king', 'anarchism', 'as', 'a', 'political', 'philosophy', 'is', 'the', 'belief', 'that', 'rulers', 'are', 'unnecessary', 'and', 'should', 'be', 'abolished', 'although', 'there', 'are', 'differing', 'interpretations', 'of', 'what', 'this', 'means', 'anarchism', 'also', 'refers', 'to', 'related', 'social', 'movements', 'that', 'advocate', 'the', 'elimination', 'of', 'authoritarian', 'institutions', 'particularly', 'the', 'state', 'the', 'word', 'anarchy', 'as', 'most', 'anarchists', 'use', 'it', 'does', 'not', 'imply', 'chaos', 'nihilism', 'or', 'anomie', 'but', 'rather', 'a', 'harmonious', 'anti', 'authoritarian', 'society', 'in', 'place', 'of', 'what', 'are', 'regarded', 'as', 'authoritarian', 'political', 'structures', 'and', 'coercive', 'economic', 'institutions', 'anarchists', 'advocate', 'social', 'relations', 'based', 'upon', 'voluntary', 'association', 'of', 'autonomous', 'individuals', 'mutual', 'aid', 'and', 'self', 'governance', 'while', 'anarchism', 'is', 'most', 'easily', 'defined', 'by', 'what', 'it', 'is', 'against', 'anarchists', 'also', 'offer', 'positive', 'visions', 'of', 'what', 'they', 'believe', 'to', 'be', 'a', 'truly', 'free', 'society', 'however', 'ideas', 'about', 'how', 'an', 'anarchist', 'society', 'might', 'work', 'vary', 'considerably', 'especially', 'with', 'respect', 'to', 'economics', 'there', 'is', 'also', 'disagreement', 'about', 'how', 'a', 'free', 'society', 'might', 'be', 'brought', 'about', 'origins', 'and', 'predecessors', 'kropotkin', 'and', 'others', 'argue', 'that', 'before', 'recorded', 'history', 'human', 'society', 'was', 'organized', 'on', 'anarchist', 'principles', 'most', 'anthropologists', 'follow', 'kropotkin', 'and', 'engels', 'in', 'believing', 'that', 'hunter', 'gatherer', 'bands', 'were', 'egalitarian', 'and', 'lacked', 'division', 'of', 'labour', 'accumulated', 'wealth', 'or', 'decreed', 'law', 'and', 'had', 'equal', 'access', 'to', 'resources', 'william', 'godwin', 'anarchists', 'including', 'the', 'the', 'anarchy', 'organisation', 'and', 'rothbard', 'find', 'anarchist', 'attitudes', 'in', 'taoism', 'from', 'ancient', 'china', 'kropotkin', 'found', 'similar', 'ideas', 'in', 'stoic', 'zeno', 'of', 'citium', 'according', 'to', 'kropotkin', 'zeno', 'repudiated', 'the', 'omnipotence', 'of', 'the', 'state', 'its', 'intervention', 'and', 'regimentation', 'and', 'proclaimed', 'the', 'sovereignty', 'of', 'the', 'moral', 'law', 'of', 'the', 'individual', 'the', 'anabaptists', 'of', 'one', 'six', 'th', 'century', 'europe', 'are', 'sometimes', 'considered', 'to', 'be', 'religious', 'forerunners', 'of', 'modern', 'anarchism', 'bertrand', 'russell', 'in', 'his', 'history', 'of', 'western', 'philosophy', 'writes', 'that', 'the', 'anabaptists', 'repudiated', 'all', 'law', 'since', 'they', 'held', 'that', 'the', 'good', 'man', 'will', 'be', 'guided', 'at', 'every', 'moment', 'by', 'the', 'holy', 'spirit', 'from', 'this', 'premise', 'they', 'arrive', 'at', 'communism', 'the', 'diggers', 'or', 'true', 'levellers', 'were', 'an', 'early', 'communistic', 'movement', 'during', 'the', 'time', 'of', 'the', 'english', 'civil', 'war', 'and', 'are', 'considered', 'by', 'some', 'as', 'forerunners', 'of', 'modern', 'anarchism', 'in', 'the', 'modern', 'era', 'the', 'first', 'to', 'use', 'the', 'term', 'to', 'mean', 'something', 'other', 'than', 'chaos', 'was', 'louis', 'armand', 'baron', 'de', 'lahontan', 'in', 'his', 'nouveaux', 'voyages', 'dans', 'l', 'am', 'rique', 'septentrionale', 'one', 'seven', 'zero', 'three', 'where', 'he', 'described', 'the', 'indigenous', 'american', 'society', 'which', 'had', 'no', 'state', 'laws', 'prisons', 'priests', 'or', 'private', 'property', 'as', 'being', 'in', 'anarchy', 'russell', 'means', 'a', 'libertarian', 'and', 'leader', 'in', 'the', 'american', 'indian', 'movement', 'has', 'repeatedly', 'stated', 'that', 'he', 'is', 'an', 'anarchist', 'and', 'so', 'are', 'all', 'his', 'ancestors', 'in', 'one', 'seven', 'nine', 'three', 'in', 'the', 'thick', 'of', 'the', 'french', 'revolution', 'william', 'godwin', 'published', 'an', 'enquiry', 'concerning', 'political', 'justice', 'although', 'godwin', 'did', 'not', 'use', 'the', 'word', 'anarchism', 'many', 'later', 'anarchists', 'have', 'regarded', 'this', 'book', 'as', 'the', 'first', 'major', 'anarchist', 'text', 'and', 'godwin', 'as', 'the', 'founder', 'of', 'philosophical', 'anarchism', 'but', 'at', 'this', 'point', 'no', 'anarchist', 'movement', 'yet', 'existed', 'and', 'the', 'term', 'anarchiste', 'was', 'known', 'mainly', 'as', 'an', 'insult', 'hurled', 'by', 'the', 'bourgeois', 'girondins', 'at', 'more', 'radical', 'elements', 'in', 'the', 'french', 'revolution', 'the', 'first', 'self', 'labelled', 'anarchist', 'pierre', 'joseph', 'proudhon', 'it', 'is', 'commonly', 'held', 'that', 'it', 'wasn', 't', 'until', 'pierre', 'joseph', 'proudhon', 'published', 'what', 'is', 'property', 'in', 'one', 'eight', 'four', 'zero', 'that', 'the', 'term', 'anarchist', 'was', 'adopted', 'as', 'a', 'self', 'description', 'it', 'is', 'for', 'this', 'reason', 'that', 'some', 'claim', 'proudhon', 'as', 'the', 'founder', 'of', 'modern', 'anarchist', 'theory', 'in', 'what', 'is', 'property', 'proudhon', 'answers', 'with', 'the', 'famous', 'accusation', 'property', 'is', 'theft', 'in', 'this', 'work', 'he', 'opposed', 'the', 'institution', 'of', 'decreed', 'property', 'propri', 't', 'where', 'owners', 'have', 'complete', 'rights', 'to', 'use', 'and', 'abuse', 'their', 'property', 'as', 'they', 'wish', 'such', 'as', 'exploiting', 'workers', 'for', 'profit', 'in', 'its', 'place', 'proudhon', 'supported', 'what', 'he', 'called', 'possession', 'individuals', 'can', 'have', 'limited', 'rights', 'to', 'use', 'resources', 'capital', 'and', 'goods', 'in', 'accordance', 'with', 'principles', 'of', 'equality', 'and', 'justice', 'proudhon', 's', 'vision', 'of', 'anarchy', 'which', 'he', 'called', 'mutualism', 'mutuellisme', 'involved', 'an', 'exchange', 'economy', 'where', 'individuals', 'and', 'groups', 'could', 'trade', 'the', 'products', 'of', 'their', 'labor', 'using', 'labor', 'notes', 'which', 'represented', 'the', 'amount', 'of', 'working', 'time', 'involved', 'in', 'production', 'this', 'would', 'ensure', 'that', 'no', 'one', 'would', 'profit', 'from', 'the', 'labor', 'of', 'others', 'workers', 'could', 'freely', 'join', 'together', 'in', 'co', 'operative', 'workshops', 'an', 'interest', 'free', 'bank', 'would', 'be', 'set', 'up', 'to', 'provide', 'everyone', 'with', 'access', 'to', 'the', 'means', 'of', 'production', 'proudhon', 's', 'ideas', 'were', 'influential', 'within', 'french', 'working', 'class', 'movements', 'and', 'his', 'followers', 'were', 'active', 'in', 'the', 'revolution']\n",
      "Counter({'the': 49, 'of': 29, 'and': 22, 'in': 21, 'as': 14, 'to': 14, 'is': 12, 'that': 12, 'anarchism': 9, 'a': 9, 'anarchist': 9, 'society': 7, 'what': 7, 'this': 7, 'an': 7, 'proudhon': 7, 'it': 6, 'anarchists': 6, 'are': 6, 'be': 6, 'property': 6, 'term': 5, 'revolution': 5, 'by': 5, 'use': 5, 'one': 5, 'he': 5, 'first': 4, 'french': 4, 'means': 4, 'also': 4, 'self': 4, 'from': 4, 'anarchy': 4, 'or': 4, 'they': 4, 'with': 4, 'kropotkin': 4, 'was': 4, 'were': 4, 'godwin': 4, 'modern': 4, 'his': 4, 'at': 4, 'used': 3, 'working': 3, 'word': 3, 'political': 3, 'authoritarian': 3, 'state': 3, 'most': 3, 'individuals': 3, 'free': 3, 'ideas': 3, 'about': 3, 'law': 3, 'movement': 3, 'where': 3, 'which': 3, 'no': 3, 'have': 3, 'labor': 3, 'would': 3, 'abuse': 2, 'against': 2, 'early': 2, 'class': 2, 'including': 2, 'diggers': 2, 'english': 2, 'has': 2, 'up': 2, 'positive': 2, 'defined': 2, 'philosophy': 2, 'although': 2, 'there': 2, 'social': 2, 'movements': 2, 'advocate': 2, 'institutions': 2, 'not': 2, 'chaos': 2, 'but': 2, 'place': 2, 'regarded': 2, 'how': 2, 'might': 2, 'work': 2, 'others': 2, 'history': 2, 'principles': 2, 'decreed': 2, 'had': 2, 'access': 2, 'resources': 2, 'william': 2, 'zeno': 2, 'repudiated': 2, 'its': 2, 'anabaptists': 2, 'considered': 2, 'forerunners': 2, 'russell': 2, 'all': 2, 'held': 2, 'time': 2, 'some': 2, 'seven': 2, 'zero': 2, 'three': 2, 'american': 2, 'published': 2, 'justice': 2, 'founder': 2, 'pierre': 2, 'joseph': 2, 't': 2, 'for': 2, 'rights': 2, 'their': 2, 'workers': 2, 'profit': 2, 'called': 2, 's': 2, 'involved': 2, 'could': 2, 'production': 2, 'originated': 1, 'radicals': 1, 'sans': 1, 'culottes': 1, 'whilst': 1, 'still': 1, 'pejorative': 1, 'way': 1, 'describe': 1, 'any': 1, 'act': 1, 'violent': 1, 'destroy': 1, 'organization': 1, 'been': 1, 'taken': 1, 'label': 1, 'derived': 1, 'greek': 1, 'without': 1, 'archons': 1, 'ruler': 1, 'chief': 1, 'king': 1, 'belief': 1, 'rulers': 1, 'unnecessary': 1, 'should': 1, 'abolished': 1, 'differing': 1, 'interpretations': 1, 'refers': 1, 'related': 1, 'elimination': 1, 'particularly': 1, 'does': 1, 'imply': 1, 'nihilism': 1, 'anomie': 1, 'rather': 1, 'harmonious': 1, 'anti': 1, 'structures': 1, 'coercive': 1, 'economic': 1, 'relations': 1, 'based': 1, 'upon': 1, 'voluntary': 1, 'association': 1, 'autonomous': 1, 'mutual': 1, 'aid': 1, 'governance': 1, 'while': 1, 'easily': 1, 'offer': 1, 'visions': 1, 'believe': 1, 'truly': 1, 'however': 1, 'vary': 1, 'considerably': 1, 'especially': 1, 'respect': 1, 'economics': 1, 'disagreement': 1, 'brought': 1, 'origins': 1, 'predecessors': 1, 'argue': 1, 'before': 1, 'recorded': 1, 'human': 1, 'organized': 1, 'on': 1, 'anthropologists': 1, 'follow': 1, 'engels': 1, 'believing': 1, 'hunter': 1, 'gatherer': 1, 'bands': 1, 'egalitarian': 1, 'lacked': 1, 'division': 1, 'labour': 1, 'accumulated': 1, 'wealth': 1, 'equal': 1, 'organisation': 1, 'rothbard': 1, 'find': 1, 'attitudes': 1, 'taoism': 1, 'ancient': 1, 'china': 1, 'found': 1, 'similar': 1, 'stoic': 1, 'citium': 1, 'according': 1, 'omnipotence': 1, 'intervention': 1, 'regimentation': 1, 'proclaimed': 1, 'sovereignty': 1, 'moral': 1, 'individual': 1, 'six': 1, 'th': 1, 'century': 1, 'europe': 1, 'sometimes': 1, 'religious': 1, 'bertrand': 1, 'western': 1, 'writes': 1, 'since': 1, 'good': 1, 'man': 1, 'will': 1, 'guided': 1, 'every': 1, 'moment': 1, 'holy': 1, 'spirit': 1, 'premise': 1, 'arrive': 1, 'communism': 1, 'true': 1, 'levellers': 1, 'communistic': 1, 'during': 1, 'civil': 1, 'war': 1, 'era': 1, 'mean': 1, 'something': 1, 'other': 1, 'than': 1, 'louis': 1, 'armand': 1, 'baron': 1, 'de': 1, 'lahontan': 1, 'nouveaux': 1, 'voyages': 1, 'dans': 1, 'l': 1, 'am': 1, 'rique': 1, 'septentrionale': 1, 'described': 1, 'indigenous': 1, 'laws': 1, 'prisons': 1, 'priests': 1, 'private': 1, 'being': 1, 'libertarian': 1, 'leader': 1, 'indian': 1, 'repeatedly': 1, 'stated': 1, 'so': 1, 'ancestors': 1, 'nine': 1, 'thick': 1, 'enquiry': 1, 'concerning': 1, 'did': 1, 'many': 1, 'later': 1, 'book': 1, 'major': 1, 'text': 1, 'philosophical': 1, 'point': 1, 'yet': 1, 'existed': 1, 'anarchiste': 1, 'known': 1, 'mainly': 1, 'insult': 1, 'hurled': 1, 'bourgeois': 1, 'girondins': 1, 'more': 1, 'radical': 1, 'elements': 1, 'labelled': 1, 'commonly': 1, 'wasn': 1, 'until': 1, 'eight': 1, 'four': 1, 'adopted': 1, 'description': 1, 'reason': 1, 'claim': 1, 'theory': 1, 'answers': 1, 'famous': 1, 'accusation': 1, 'theft': 1, 'opposed': 1, 'institution': 1, 'propri': 1, 'owners': 1, 'complete': 1, 'wish': 1, 'such': 1, 'exploiting': 1, 'supported': 1, 'possession': 1, 'can': 1, 'limited': 1, 'capital': 1, 'goods': 1, 'accordance': 1, 'equality': 1, 'vision': 1, 'mutualism': 1, 'mutuellisme': 1, 'exchange': 1, 'economy': 1, 'groups': 1, 'trade': 1, 'products': 1, 'using': 1, 'notes': 1, 'represented': 1, 'amount': 1, 'ensure': 1, 'freely': 1, 'join': 1, 'together': 1, 'co': 1, 'operative': 1, 'workshops': 1, 'interest': 1, 'bank': 1, 'set': 1, 'provide': 1, 'everyone': 1, 'influential': 1, 'within': 1, 'followers': 1, 'active': 1})\n",
      "[['UNK', -1], 'anarchism', 'originated', 'as', 'a', 'term', 'of', 'abuse', 'first', 'used', 'against', 'early', 'working', 'class', 'radicals', 'including', 'the', 'diggers', 'english', 'revolution', 'and', 'sans', 'culottes', 'french', 'whilst', 'is', 'still', 'in', 'pejorative', 'way', 'to', 'describe', 'any', 'act', 'that', 'violent', 'means', 'destroy', 'organization', 'society', 'it', 'has', 'also', 'been', 'taken', 'up', 'positive', 'label', 'by', 'self', 'defined', 'anarchists', 'word', 'derived', 'from', 'greek', 'without', 'archons', 'ruler', 'chief', 'king', 'political', 'philosophy', 'belief', 'rulers', 'are', 'unnecessary', 'should', 'be', 'abolished', 'although', 'there', 'differing', 'interpretations', 'what', 'this', 'refers', 'related', 'social', 'movements', 'advocate', 'elimination', 'authoritarian', 'institutions', 'particularly', 'state', 'anarchy', 'most', 'use', 'does', 'not', 'imply', 'chaos', 'nihilism', 'or', 'anomie', 'but', 'rather', 'harmonious', 'anti', 'place', 'regarded', 'structures', 'coercive', 'economic', 'relations', 'based', 'upon', 'voluntary', 'association', 'autonomous', 'individuals', 'mutual', 'aid', 'governance', 'while', 'easily', 'offer', 'visions', 'they', 'believe', 'truly', 'free', 'however', 'ideas', 'about', 'how', 'an', 'anarchist', 'might', 'work', 'vary', 'considerably', 'especially', 'with', 'respect', 'economics', 'disagreement', 'brought', 'origins', 'predecessors', 'kropotkin', 'others', 'argue', 'before', 'recorded', 'history', 'human', 'was', 'organized', 'on', 'principles', 'anthropologists', 'follow', 'engels', 'believing', 'hunter', 'gatherer', 'bands', 'were', 'egalitarian', 'lacked', 'division', 'labour', 'accumulated', 'wealth', 'decreed', 'law', 'had', 'equal', 'access', 'resources', 'william', 'godwin', 'organisation', 'rothbard', 'find', 'attitudes', 'taoism', 'ancient', 'china', 'found', 'similar', 'stoic', 'zeno', 'citium', 'according', 'repudiated', 'omnipotence', 'its', 'intervention', 'regimentation', 'proclaimed', 'sovereignty', 'moral', 'individual', 'anabaptists', 'one', 'six', 'th', 'century', 'europe', 'sometimes', 'considered', 'religious', 'forerunners', 'modern', 'bertrand', 'russell', 'his', 'western', 'writes', 'all', 'since', 'held', 'good', 'man', 'will', 'guided', 'at', 'every', 'moment', 'holy', 'spirit', 'premise', 'arrive', 'communism', 'true', 'levellers', 'communistic', 'movement', 'during', 'time', 'civil', 'war', 'some', 'era', 'mean', 'something', 'other', 'than', 'louis', 'armand', 'baron', 'de', 'lahontan', 'nouveaux', 'voyages', 'dans', 'l', 'am', 'rique', 'septentrionale', 'seven', 'zero', 'three', 'where', 'he', 'described', 'indigenous', 'american', 'which', 'no', 'laws', 'prisons', 'priests', 'private', 'property', 'being', 'libertarian', 'leader', 'indian', 'repeatedly', 'stated', 'so', 'ancestors', 'nine', 'thick', 'published', 'enquiry', 'concerning', 'justice', 'did', 'many', 'later', 'have', 'book', 'major', 'text', 'founder', 'philosophical', 'point', 'yet', 'existed', 'anarchiste', 'known', 'mainly', 'insult', 'hurled', 'bourgeois', 'girondins', 'more', 'radical', 'elements', 'labelled', 'pierre', 'joseph', 'proudhon', 'commonly', 'wasn', 't', 'until', 'eight', 'four', 'adopted', 'description', 'for', 'reason', 'claim', 'theory', 'answers', 'famous', 'accusation', 'theft', 'opposed', 'institution', 'propri', 'owners', 'complete', 'rights', 'their', 'wish', 'such', 'exploiting', 'workers', 'profit', 'supported', 'called', 'possession', 'can', 'limited', 'capital', 'goods', 'accordance', 'equality', 's', 'vision', 'mutualism', 'mutuellisme', 'involved', 'exchange', 'economy', 'groups', 'could', 'trade', 'products', 'labor', 'using', 'notes', 'represented', 'amount', 'production', 'would', 'ensure', 'freely', 'join', 'together', 'co', 'operative', 'workshops', 'interest', 'bank', 'set', 'provide', 'everyone', 'influential', 'within', 'followers', 'active']\n"
     ]
    }
   ],
   "source": [
    "import os\n",
    "import mmap\n",
    "import collections\n",
    "import numpy as np\n",
    "import random\n",
    "\n",
    "\n",
    "# 数据预处理\n",
    "# 读取数据\n",
    "data_dir = \"../dataset\"\n",
    "text = []\n",
    "with open(os.path.join(data_dir, \"text8\"), \"r\") as f:\n",
    "    # 创建内存映射\n",
    "    mmapped_file = mmap.mmap(f.fileno(), 0, access=mmap.ACCESS_READ)\n",
    "    text = mmapped_file.read().decode('utf-8')\n",
    "    mmapped_file.close()\n",
    "\n",
    "\n",
    "# 字符太多，只取前1000\n",
    "print(\"text长度为: \" + str(len(text)))\n",
    "text = text[:5000]\n",
    "print(text)\n",
    "print(collections.Counter(text).most_common(20 - 1))\n",
    "count = [['UNK', -1]]\n",
    "print(text.split())\n",
    "words = text.split()\n",
    "print(collections.Counter(words))\n",
    "count.extend(collections.Counter(words))\n",
    "print(count)"
   ]
  },
  {
   "cell_type": "code",
   "execution_count": 2,
   "metadata": {},
   "outputs": [
    {
     "name": "stdout",
     "output_type": "stream",
     "text": [
      "统计单词数量： [['UNK', -1], ('the', 49), ('of', 29), ('and', 22), ('in', 21), ('as', 14), ('to', 14), ('is', 12), ('that', 12), ('anarchism', 9), ('a', 9), ('anarchist', 9), ('society', 7), ('what', 7), ('this', 7), ('an', 7), ('proudhon', 7), ('it', 6), ('anarchists', 6), ('are', 6), ('be', 6), ('property', 6), ('term', 5), ('revolution', 5), ('by', 5), ('use', 5), ('one', 5), ('he', 5), ('first', 4), ('french', 4), ('means', 4), ('also', 4), ('self', 4), ('from', 4), ('anarchy', 4), ('or', 4), ('they', 4), ('with', 4), ('kropotkin', 4), ('was', 4), ('were', 4), ('godwin', 4), ('modern', 4), ('his', 4), ('at', 4), ('used', 3), ('working', 3), ('word', 3), ('political', 3), ('authoritarian', 3), ('state', 3), ('most', 3), ('individuals', 3), ('free', 3), ('ideas', 3), ('about', 3), ('law', 3), ('movement', 3), ('where', 3), ('which', 3), ('no', 3), ('have', 3), ('labor', 3), ('would', 3), ('abuse', 2), ('against', 2), ('early', 2), ('class', 2), ('including', 2), ('diggers', 2), ('english', 2), ('has', 2), ('up', 2), ('positive', 2), ('defined', 2), ('philosophy', 2), ('although', 2), ('there', 2), ('social', 2), ('movements', 2), ('advocate', 2), ('institutions', 2), ('not', 2), ('chaos', 2), ('but', 2), ('place', 2), ('regarded', 2), ('how', 2), ('might', 2), ('work', 2), ('others', 2), ('history', 2), ('principles', 2), ('decreed', 2), ('had', 2), ('access', 2), ('resources', 2), ('william', 2), ('zeno', 2), ('repudiated', 2), ('its', 2), ('anabaptists', 2), ('considered', 2), ('forerunners', 2), ('russell', 2), ('all', 2), ('held', 2), ('time', 2), ('some', 2), ('seven', 2), ('zero', 2), ('three', 2), ('american', 2), ('published', 2), ('justice', 2), ('founder', 2), ('pierre', 2), ('joseph', 2), ('t', 2), ('for', 2), ('rights', 2), ('their', 2), ('workers', 2), ('profit', 2), ('called', 2), ('s', 2), ('involved', 2), ('could', 2), ('production', 2), ('originated', 1), ('radicals', 1), ('sans', 1), ('culottes', 1), ('whilst', 1), ('still', 1), ('pejorative', 1), ('way', 1), ('describe', 1), ('any', 1), ('act', 1), ('violent', 1), ('destroy', 1), ('organization', 1), ('been', 1), ('taken', 1), ('label', 1), ('derived', 1), ('greek', 1), ('without', 1), ('archons', 1), ('ruler', 1), ('chief', 1), ('king', 1), ('belief', 1), ('rulers', 1), ('unnecessary', 1), ('should', 1), ('abolished', 1), ('differing', 1), ('interpretations', 1), ('refers', 1), ('related', 1), ('elimination', 1), ('particularly', 1), ('does', 1), ('imply', 1), ('nihilism', 1), ('anomie', 1), ('rather', 1), ('harmonious', 1), ('anti', 1), ('structures', 1), ('coercive', 1), ('economic', 1), ('relations', 1), ('based', 1), ('upon', 1), ('voluntary', 1), ('association', 1), ('autonomous', 1), ('mutual', 1), ('aid', 1), ('governance', 1), ('while', 1), ('easily', 1), ('offer', 1), ('visions', 1), ('believe', 1), ('truly', 1), ('however', 1), ('vary', 1), ('considerably', 1), ('especially', 1), ('respect', 1), ('economics', 1), ('disagreement', 1), ('brought', 1), ('origins', 1), ('predecessors', 1), ('argue', 1), ('before', 1), ('recorded', 1), ('human', 1), ('organized', 1), ('on', 1), ('anthropologists', 1), ('follow', 1), ('engels', 1), ('believing', 1), ('hunter', 1), ('gatherer', 1), ('bands', 1), ('egalitarian', 1), ('lacked', 1), ('division', 1), ('labour', 1), ('accumulated', 1), ('wealth', 1), ('equal', 1), ('organisation', 1), ('rothbard', 1), ('find', 1), ('attitudes', 1), ('taoism', 1), ('ancient', 1), ('china', 1), ('found', 1), ('similar', 1), ('stoic', 1), ('citium', 1), ('according', 1), ('omnipotence', 1), ('intervention', 1), ('regimentation', 1), ('proclaimed', 1), ('sovereignty', 1), ('moral', 1), ('individual', 1), ('six', 1), ('th', 1), ('century', 1), ('europe', 1), ('sometimes', 1), ('religious', 1), ('bertrand', 1), ('western', 1), ('writes', 1), ('since', 1), ('good', 1), ('man', 1), ('will', 1), ('guided', 1), ('every', 1), ('moment', 1), ('holy', 1), ('spirit', 1), ('premise', 1), ('arrive', 1), ('communism', 1), ('true', 1), ('levellers', 1), ('communistic', 1), ('during', 1), ('civil', 1), ('war', 1), ('era', 1), ('mean', 1), ('something', 1), ('other', 1), ('than', 1), ('louis', 1), ('armand', 1), ('baron', 1), ('de', 1), ('lahontan', 1), ('nouveaux', 1), ('voyages', 1), ('dans', 1), ('l', 1), ('am', 1), ('rique', 1), ('septentrionale', 1), ('described', 1), ('indigenous', 1), ('laws', 1), ('prisons', 1), ('priests', 1), ('private', 1), ('being', 1), ('libertarian', 1), ('leader', 1), ('indian', 1), ('repeatedly', 1), ('stated', 1), ('so', 1), ('ancestors', 1), ('nine', 1), ('thick', 1), ('enquiry', 1), ('concerning', 1), ('did', 1), ('many', 1), ('later', 1), ('book', 1), ('major', 1), ('text', 1), ('philosophical', 1), ('point', 1), ('yet', 1), ('existed', 1), ('anarchiste', 1), ('known', 1), ('mainly', 1), ('insult', 1), ('hurled', 1), ('bourgeois', 1), ('girondins', 1), ('more', 1), ('radical', 1), ('elements', 1), ('labelled', 1), ('commonly', 1), ('wasn', 1), ('until', 1), ('eight', 1), ('four', 1), ('adopted', 1), ('description', 1), ('reason', 1), ('claim', 1), ('theory', 1), ('answers', 1), ('famous', 1), ('accusation', 1), ('theft', 1), ('opposed', 1), ('institution', 1), ('propri', 1), ('owners', 1), ('complete', 1), ('wish', 1), ('such', 1), ('exploiting', 1), ('supported', 1), ('possession', 1), ('can', 1), ('limited', 1), ('capital', 1), ('goods', 1), ('accordance', 1), ('equality', 1), ('vision', 1), ('mutualism', 1), ('mutuellisme', 1), ('exchange', 1), ('economy', 1), ('groups', 1), ('trade', 1), ('products', 1), ('using', 1), ('notes', 1), ('represented', 1), ('amount', 1), ('ensure', 1), ('freely', 1), ('join', 1), ('together', 1), ('co', 1), ('operative', 1), ('workshops', 1), ('interest', 1), ('bank', 1), ('set', 1), ('provide', 1), ('everyone', 1), ('influential', 1), ('within', 1), ('followers', 1), ('active', 1)]\n"
     ]
    }
   ],
   "source": [
    "# 构造数据集\n",
    "def build_dataset(words, vocab_size):\n",
    "    count = [['UNK', -1]]\n",
    "    # 选出最常见的vocab_size - 1个单词\n",
    "    # count.extend(collections.Counter(words).most_common(vocab_size - 1))\n",
    "    count.extend(collections.Counter(words).most_common())\n",
    "    print(\"统计单词数量：\", count)\n",
    "    dictionary = {word: index for index, (word, _) in enumerate(count)}\n",
    "    # 得到每个单词的索引\n",
    "    data = [dictionary.get(word, 0) for word in words]\n",
    "    count[0][1] = sum([1 for word in words if word not in dictionary])\n",
    "    reverse_dictionary = dict(zip(dictionary.values(), dictionary.keys()))\n",
    "    return data, count, dictionary, reverse_dictionary\n",
    "\n",
    "words = text.split() # 得到text中的每个单词\n",
    "vocab_size = len(words)\n",
    "data, count, dictionary, reverse_dictionary = build_dataset(words, vocab_size)\n",
    "\n",
    "del words  # 释放内存"
   ]
  },
  {
   "cell_type": "code",
   "execution_count": 3,
   "metadata": {},
   "outputs": [
    {
     "name": "stdout",
     "output_type": "stream",
     "text": [
      "129 originated -> 5 as\n",
      "129 originated -> 9 anarchism\n",
      "5 as -> 10 a\n",
      "5 as -> 129 originated\n",
      "10 a -> 5 as\n",
      "10 a -> 22 term\n",
      "22 term -> 2 of\n",
      "22 term -> 10 a\n"
     ]
    }
   ],
   "source": [
    "# 生成训练数据 采用skip-gram模型\n",
    "def generate_batch(data, batch_size, num_skips, skip_window):\n",
    "    global data_index\n",
    "    assert batch_size % num_skips == 0\n",
    "    assert num_skips <= 2 * skip_window\n",
    "    batch = np.ndarray(shape=(batch_size), dtype=np.int32)\n",
    "    labels = np.ndarray(shape=(batch_size, 1), dtype=np.int32)\n",
    "    span = 2 * skip_window + 1\n",
    "    buffer = collections.deque(maxlen=span)\n",
    "    if data_index + span > len(data):\n",
    "        data_index = 0\n",
    "    buffer.extend(data[data_index:data_index + span])\n",
    "    data_index += span\n",
    "    for i in range(batch_size // num_skips):\n",
    "        context_words = [w for w in range(span) if w != skip_window]\n",
    "        words_to_use = random.sample(context_words, num_skips)\n",
    "        for j, context_word in enumerate(words_to_use):\n",
    "            batch[i * num_skips + j] = buffer[skip_window]\n",
    "            labels[i * num_skips + j, 0] = buffer[context_word]\n",
    "        if data_index == len(data):\n",
    "            buffer[:] = data[:span]\n",
    "            data_index = span\n",
    "        else:\n",
    "            buffer.append(data[data_index])\n",
    "            data_index += 1\n",
    "    data_index = (data_index + len(data) - span) % len(data)\n",
    "    return batch, labels\n",
    "\n",
    "data_index = 0\n",
    "batch, labels = generate_batch(data, batch_size=8, num_skips=2, skip_window=1)\n",
    "for i in range(8):\n",
    "    print(batch[i], reverse_dictionary[batch[i]], '->', labels[i, 0], reverse_dictionary[labels[i, 0]])"
   ]
  },
  {
   "cell_type": "code",
   "execution_count": 4,
   "metadata": {},
   "outputs": [],
   "source": [
    "# 计算余弦相似度\n",
    "def cosine_similarity(vec1, vec2):\n",
    "    dot_product = np.dot(vec1, vec2)\n",
    "    norm_vec1 = np.linalg.norm(vec1)\n",
    "    norm_vec2 = np.linalg.norm(vec2)\n",
    "    return dot_product / (norm_vec1 * norm_vec2)\n",
    "\n",
    "\n",
    "# 最近邻查询\n",
    "def get_nearest_neighbors(embedding_matrix, word_id, reverse_dictionary, top_k=10):\n",
    "    word_vector = embedding_matrix[word_id]\n",
    "    similarities = []\n",
    "    for idx, vector in enumerate(embedding_matrix):\n",
    "        if idx != word_id:\n",
    "            similarity = cosine_similarity(word_vector, vector)\n",
    "            similarities.append((idx, similarity))\n",
    "    similarities.sort(key=lambda x: x[1], reverse=True)\n",
    "    neighbors = [(reverse_dictionary[idx], similarity) for idx, similarity in similarities[:top_k]]\n",
    "    return neighbors\n",
    "\n",
    "def analogy_test(embedding_matrix, word1, word2, word3, dictionary, reverse_dictionary):\n",
    "    vec1 = embedding_matrix[dictionary[word1]]\n",
    "    vec2 = embedding_matrix[dictionary[word2]]\n",
    "    vec3 = embedding_matrix[dictionary[word3]]\n",
    "    target_vector = vec2 - vec1 + vec3\n",
    "\n",
    "    similarities = []\n",
    "    for idx, vector in enumerate(embedding_matrix):\n",
    "        if idx not in [dictionary[word1], dictionary[word2], dictionary[word3]]:\n",
    "            similarity = cosine_similarity(target_vector, vector)\n",
    "            similarities.append((idx, similarity))\n",
    "    similarities.sort(key=lambda x: x[1], reverse=True)\n",
    "    return reverse_dictionary[similarities[0][0]]\n"
   ]
  },
  {
   "cell_type": "code",
   "execution_count": 5,
   "metadata": {},
   "outputs": [
    {
     "name": "stderr",
     "output_type": "stream",
     "text": [
      " 10%|█         | 10/100 [00:24<03:41,  2.47s/it]"
     ]
    },
    {
     "name": "stdout",
     "output_type": "stream",
     "text": [
      "Epoch 10 completed\n"
     ]
    },
    {
     "name": "stderr",
     "output_type": "stream",
     "text": [
      " 20%|██        | 20/100 [00:48<03:15,  2.44s/it]"
     ]
    },
    {
     "name": "stdout",
     "output_type": "stream",
     "text": [
      "Epoch 20 completed\n"
     ]
    },
    {
     "name": "stderr",
     "output_type": "stream",
     "text": [
      " 30%|███       | 30/100 [01:13<02:53,  2.48s/it]"
     ]
    },
    {
     "name": "stdout",
     "output_type": "stream",
     "text": [
      "Epoch 30 completed\n"
     ]
    },
    {
     "name": "stderr",
     "output_type": "stream",
     "text": [
      " 40%|████      | 40/100 [01:38<02:27,  2.46s/it]"
     ]
    },
    {
     "name": "stdout",
     "output_type": "stream",
     "text": [
      "Epoch 40 completed\n"
     ]
    },
    {
     "name": "stderr",
     "output_type": "stream",
     "text": [
      " 50%|█████     | 50/100 [02:03<02:08,  2.58s/it]"
     ]
    },
    {
     "name": "stdout",
     "output_type": "stream",
     "text": [
      "Epoch 50 completed\n"
     ]
    },
    {
     "name": "stderr",
     "output_type": "stream",
     "text": [
      " 60%|██████    | 60/100 [02:30<01:48,  2.71s/it]"
     ]
    },
    {
     "name": "stdout",
     "output_type": "stream",
     "text": [
      "Epoch 60 completed\n"
     ]
    },
    {
     "name": "stderr",
     "output_type": "stream",
     "text": [
      " 70%|███████   | 70/100 [02:58<01:21,  2.70s/it]"
     ]
    },
    {
     "name": "stdout",
     "output_type": "stream",
     "text": [
      "Epoch 70 completed\n"
     ]
    },
    {
     "name": "stderr",
     "output_type": "stream",
     "text": [
      " 80%|████████  | 80/100 [03:25<00:54,  2.74s/it]"
     ]
    },
    {
     "name": "stdout",
     "output_type": "stream",
     "text": [
      "Epoch 80 completed\n"
     ]
    },
    {
     "name": "stderr",
     "output_type": "stream",
     "text": [
      " 90%|█████████ | 90/100 [03:53<00:27,  2.72s/it]"
     ]
    },
    {
     "name": "stdout",
     "output_type": "stream",
     "text": [
      "Epoch 90 completed\n"
     ]
    },
    {
     "name": "stderr",
     "output_type": "stream",
     "text": [
      "100%|██████████| 100/100 [04:20<00:00,  2.60s/it]"
     ]
    },
    {
     "name": "stdout",
     "output_type": "stream",
     "text": [
      "Epoch 100 completed\n"
     ]
    },
    {
     "name": "stderr",
     "output_type": "stream",
     "text": [
      "\n"
     ]
    }
   ],
   "source": [
    "import numpy as np\n",
    "from tqdm import tqdm\n",
    "\n",
    "class GloVe:\n",
    "    def __init__(self, vocab_size, vector_dim, learning_rate, x_max=100, alpha=0.75):\n",
    "        self.vocab_size = vocab_size\n",
    "        self.vector_dim = vector_dim\n",
    "        self.learning_rate = learning_rate\n",
    "        self.x_max = x_max\n",
    "        self.alpha = alpha\n",
    "        self.W = np.random.rand(vocab_size, vector_dim)\n",
    "        self.bias = np.random.rand(vocab_size)\n",
    "        self.grad_W = np.zeros_like(self.W)\n",
    "        self.grad_bias = np.zeros_like(self.bias)\n",
    "\n",
    "    def train(self, co_occurrence_matrix, epochs):\n",
    "        for epoch in tqdm(range(epochs)):\n",
    "            for i in range(self.vocab_size):\n",
    "                for j in range(self.vocab_size):\n",
    "                    if co_occurrence_matrix[i][j] > 0:\n",
    "                        weight = self.weighting_function(co_occurrence_matrix[i][j])\n",
    "                        diff = np.dot(self.W[i], self.W[j]) + self.bias[i] + self.bias[j] - np.log(co_occurrence_matrix[i][j])\n",
    "                        self.grad_W[i] += weight * diff * self.W[j]\n",
    "                        self.grad_W[j] += weight * diff * self.W[i]\n",
    "                        self.grad_bias[i] += weight * diff\n",
    "                        self.grad_bias[j] += weight * diff\n",
    "            self.W -= self.learning_rate * self.grad_W\n",
    "            self.bias -= self.learning_rate * self.grad_bias\n",
    "            if (epoch + 1) % 10 == 0:\n",
    "                print(f'Epoch {epoch + 1} completed')\n",
    "\n",
    "    def weighting_function(self, x):\n",
    "        return (x / self.x_max) ** self.alpha if x < self.x_max else 1\n",
    "\n",
    "    def get_word_vector(self, word_id):\n",
    "        return self.W[word_id]\n",
    "\n",
    "vector_dim = 100\n",
    "learning_rate = 0.00001\n",
    "epochs = 100\n",
    "batch_size = 128\n",
    "num_skips = 2\n",
    "skip_window = 1\n",
    "co_occurrence_matrix = np.random.randint(0, 100, size=(vocab_size, vocab_size))\n",
    "\n",
    "glove = GloVe(vocab_size, vector_dim, learning_rate)\n",
    "glove.train(co_occurrence_matrix, epochs)"
   ]
  },
  {
   "cell_type": "code",
   "execution_count": 6,
   "metadata": {},
   "outputs": [],
   "source": [
    "import numpy as np\n",
    "import pickle\n",
    "\n",
    "# 保存和加载预训练词嵌入向量，计算相似度\n",
    "class WordEmbedding:\n",
    "    def __init__(self, embedding_matrix):\n",
    "        self.embedding_matrix = embedding_matrix\n",
    "\n",
    "    def save_embeddings(self, filename):\n",
    "        with open(filename, 'wb') as f:\n",
    "            pickle.dump(self.embedding_matrix, f)\n",
    "\n",
    "    def load_embeddings(self, filename):\n",
    "        with open(filename, 'rb') as f:\n",
    "            self.embedding_matrix = pickle.load(f)\n",
    "\n",
    "    def get_similarity(self, word_id1, word_id2):\n",
    "        vec1 = self.embedding_matrix[word_id1]\n",
    "        vec2 = self.embedding_matrix[word_id2]\n",
    "        return np.dot(vec1, vec2) / (np.linalg.norm(vec1) * np.linalg.norm(vec2))"
   ]
  },
  {
   "cell_type": "code",
   "execution_count": 7,
   "metadata": {},
   "outputs": [
    {
     "name": "stdout",
     "output_type": "stream",
     "text": [
      "The Similarity of pejorative and describe: 0.019961320341522336\n"
     ]
    }
   ],
   "source": [
    "# 测试Word2Vec\n",
    "embedding_matrix = glove.W\n",
    "we = WordEmbedding(embedding_matrix)\n",
    "we.save_embeddings(\"glove_wordembedding.pkl\")\n",
    "we.load_embeddings(\"glove_wordembedding.pkl\")\n",
    "similarity = we.get_similarity(dictionary[\"anarchism\"], dictionary[\"originated\"])\n",
    "print(f\"The Similarity of pejorative and describe: {similarity}\")"
   ]
  }
 ],
 "metadata": {
  "kernelspec": {
   "display_name": "bhc",
   "language": "python",
   "name": "python3"
  },
  "language_info": {
   "codemirror_mode": {
    "name": "ipython",
    "version": 3
   },
   "file_extension": ".py",
   "mimetype": "text/x-python",
   "name": "python",
   "nbconvert_exporter": "python",
   "pygments_lexer": "ipython3",
   "version": "3.9.12"
  }
 },
 "nbformat": 4,
 "nbformat_minor": 2
}
