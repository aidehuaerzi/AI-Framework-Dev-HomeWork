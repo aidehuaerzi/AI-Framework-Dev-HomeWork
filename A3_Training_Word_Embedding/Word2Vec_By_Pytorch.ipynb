{
 "cells": [
  {
   "cell_type": "code",
   "execution_count": 1,
   "metadata": {},
   "outputs": [
    {
     "name": "stderr",
     "output_type": "stream",
     "text": [
      "[nltk_data] Downloading package reuters to\n",
      "[nltk_data]     /home/disk1/xiaoliangyang/nltk_data...\n",
      "[nltk_data]   Package reuters is already up-to-date!\n",
      "[nltk_data] Downloading package punkt to\n",
      "[nltk_data]     /home/disk1/xiaoliangyang/nltk_data...\n",
      "[nltk_data]   Package punkt is already up-to-date!\n"
     ]
    },
    {
     "name": "stdout",
     "output_type": "stream",
     "text": [
      "字典大小: 52877\n"
     ]
    }
   ],
   "source": [
    "import nltk\n",
    "from collections import Counter\n",
    "from nltk.corpus import reuters\n",
    "from nltk import word_tokenize\n",
    "\n",
    "# Load and tokenize the dataset\n",
    "nltk.download('reuters')\n",
    "nltk.download('punkt')\n",
    "\n",
    "# Load and tokenize the dataset\n",
    "corpus = reuters.raw().lower()\n",
    "words = word_tokenize(corpus)\n",
    "\n",
    "# Build vocabulary\n",
    "vocab = Counter(words)\n",
    "vocab = {word: idx for idx, (word, _) in enumerate(vocab.items())}\n",
    "idx_to_word = {idx: word for word, idx in vocab.items()}\n",
    "vocab_size = len(vocab)\n",
    "\n",
    "# Check vocab size\n",
    "print(f\"字典大小: {vocab_size}\")\n"
   ]
  },
  {
   "cell_type": "code",
   "execution_count": 2,
   "metadata": {},
   "outputs": [],
   "source": [
    "# 生成skip-gram对\n",
    "def generate_skipgram_pairs(words, vocab, window_size=2):\n",
    "    pairs = []\n",
    "    for i, word in enumerate(words):\n",
    "        if word not in vocab:\n",
    "            continue\n",
    "        for j in range(max(0, i - window_size), min(len(words), i + window_size + 1)):\n",
    "            if i != j and words[j] in vocab:\n",
    "                pairs.append((vocab[word], vocab[words[j]]))\n",
    "    return pairs\n",
    "\n",
    "skipgram_pairs = generate_skipgram_pairs(words, vocab)\n"
   ]
  },
  {
   "cell_type": "code",
   "execution_count": 3,
   "metadata": {},
   "outputs": [],
   "source": [
    "import torch\n",
    "import torch.nn as nn\n",
    "\n",
    "# 定义Word2Vec模型\n",
    "\n",
    "class Word2Vec(nn.Module):\n",
    "    def __init__(self, vocab_size, embed_size):\n",
    "        super(Word2Vec, self).__init__()\n",
    "        self.in_embed = nn.Embedding(vocab_size, embed_size)\n",
    "        self.out_embed = nn.Embedding(vocab_size, embed_size)\n",
    "        self.log_softmax = nn.LogSoftmax(dim=1)\n",
    "\n",
    "    def forward(self, center):\n",
    "        center_embed = self.in_embed(center)\n",
    "        scores = torch.matmul(center_embed, self.out_embed.weight.t())\n",
    "        return self.log_softmax(scores)\n",
    "\n",
    "    def get_embedding(self):\n",
    "        return self.in_embed.weight.data.cpu().numpy()"
   ]
  },
  {
   "cell_type": "code",
   "execution_count": 12,
   "metadata": {},
   "outputs": [
    {
     "name": "stderr",
     "output_type": "stream",
     "text": [
      " 17%|█▋        | 5/30 [04:06<20:37, 49.50s/it]"
     ]
    },
    {
     "name": "stdout",
     "output_type": "stream",
     "text": [
      "Epoch 5, Loss: 0.012595787855487229\n"
     ]
    },
    {
     "name": "stderr",
     "output_type": "stream",
     "text": [
      " 33%|███▎      | 10/30 [07:52<14:53, 44.67s/it]"
     ]
    },
    {
     "name": "stdout",
     "output_type": "stream",
     "text": [
      "Epoch 10, Loss: 0.012196570220726835\n"
     ]
    },
    {
     "name": "stderr",
     "output_type": "stream",
     "text": [
      " 50%|█████     | 15/30 [11:49<11:49, 47.28s/it]"
     ]
    },
    {
     "name": "stdout",
     "output_type": "stream",
     "text": [
      "Epoch 15, Loss: 0.012109828326129156\n"
     ]
    },
    {
     "name": "stderr",
     "output_type": "stream",
     "text": [
      " 67%|██████▋   | 20/30 [15:44<07:56, 47.69s/it]"
     ]
    },
    {
     "name": "stdout",
     "output_type": "stream",
     "text": [
      "Epoch 20, Loss: 0.01205978487055742\n"
     ]
    },
    {
     "name": "stderr",
     "output_type": "stream",
     "text": [
      " 83%|████████▎ | 25/30 [19:42<03:58, 47.61s/it]"
     ]
    },
    {
     "name": "stdout",
     "output_type": "stream",
     "text": [
      "Epoch 25, Loss: 0.012020690605085383\n"
     ]
    },
    {
     "name": "stderr",
     "output_type": "stream",
     "text": [
      "100%|██████████| 30/30 [23:39<00:00, 47.32s/it]"
     ]
    },
    {
     "name": "stdout",
     "output_type": "stream",
     "text": [
      "Epoch 30, Loss: 0.011985804468925733\n"
     ]
    },
    {
     "name": "stderr",
     "output_type": "stream",
     "text": [
      "\n"
     ]
    },
    {
     "data": {
      "image/png": "[encoded data removed]",
      "text/plain": [
       "<Figure size 640x480 with 1 Axes>"
      ]
     },
     "metadata": {},
     "output_type": "display_data"
    }
   ],
   "source": [
    "from matplotlib import pyplot as plt, ticker\n",
    "from torch import optim\n",
    "from tqdm import tqdm\n",
    "\n",
    "# 训练Word2Vec模型\n",
    "def train_word2vec(model, pairs, epochs=5, batch_size=512, learning_rate=0.001):\n",
    "    optimizer = optim.Adam(model.parameters(), lr=learning_rate)\n",
    "    criterion = nn.NLLLoss()\n",
    "\n",
    "    tot_loss = []\n",
    "    for epoch in tqdm(range(epochs)):\n",
    "        total_loss = 0\n",
    "        for i in range(0, len(pairs), batch_size):\n",
    "            batch_pairs = pairs[i:i+batch_size]\n",
    "            if not batch_pairs:\n",
    "                continue\n",
    "\n",
    "            centers, contexts = zip(*batch_pairs)\n",
    "            centers = torch.tensor(centers, dtype=torch.long).to(device)\n",
    "            contexts = torch.tensor(contexts, dtype=torch.long).to(device)\n",
    "\n",
    "            optimizer.zero_grad()\n",
    "            scores = model(centers)\n",
    "            loss = criterion(scores, contexts)\n",
    "            loss.backward()\n",
    "            optimizer.step()\n",
    "\n",
    "            total_loss += loss.item()\n",
    "\n",
    "        if (epoch + 1) % 5 == 0:\n",
    "            print(f'Epoch {epoch + 1}, Loss: {total_loss / len(pairs)}')\n",
    "        tot_loss.append(total_loss / len(pairs))\n",
    "\n",
    "    return tot_loss\n",
    "\n",
    "device = 'cuda:0' if torch.cuda.is_available() else 'cpu'\n",
    "embed_size = 100\n",
    "word2vec_model = Word2Vec(vocab_size, embed_size).to(device)\n",
    "tot_loss = train_word2vec(word2vec_model, skipgram_pairs, epochs=30)\n",
    "\n",
    "_, ax = plt.subplots()\n",
    "ax.plot(range(len(tot_loss)), tot_loss)\n",
    "ax.set_xlabel(\"Epoch\")\n",
    "ax.set_ylabel(\"Loss\")\n",
    "ax.xaxis.set_major_locator(ticker.MaxNLocator(integer=True))\n",
    "ax.yaxis.set_major_locator(ticker.MaxNLocator(integer=True))\n",
    "plt.show()"
   ]
  },
  {
   "cell_type": "code",
   "execution_count": null,
   "metadata": {},
   "outputs": [],
   "source": []
  }
 ],
 "metadata": {
  "kernelspec": {
   "display_name": "base",
   "language": "python",
   "name": "python3"
  },
  "language_info": {
   "codemirror_mode": {
    "name": "ipython",
    "version": 3
   },
   "file_extension": ".py",
   "mimetype": "text/x-python",
   "name": "python",
   "nbconvert_exporter": "python",
   "pygments_lexer": "ipython3",
   "version": "3.11.7"
  }
 },
 "nbformat": 4,
 "nbformat_minor": 2
}
