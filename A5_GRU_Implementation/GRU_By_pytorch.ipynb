{
 "cells": [
  {
   "cell_type": "code",
   "execution_count": 1,
   "metadata": {},
   "outputs": [
    {
     "name": "stdout",
     "output_type": "stream",
     "text": [
      "总共232737组英语-法语对\n",
      "前5组英语-法语对示例：\n",
      "Go.\tVa !\t\n",
      "Go.\tMarche.\t\n",
      "Go.\tEn route !\t\n",
      "Go.\tBouge !\t\n",
      "Hi.\tSalut !\t\n"
     ]
    }
   ],
   "source": [
    "import os\n",
    "import torch\n",
    "import random\n",
    "\n",
    "torch.cuda.manual_seed(43)\n",
    "torch.manual_seed(43)\n",
    "random.seed(43)\n",
    "\n",
    "def read_data_nmt():\n",
    "    \"\"\"载入“英语－法语”数据集\"\"\"\n",
    "    data_dir = \"../dataset\"\n",
    "    with open(os.path.join(data_dir, 'fra.txt'), 'r',\n",
    "             encoding='utf-8') as f:\n",
    "        return f.read()\n",
    "\n",
    "raw_text = read_data_nmt()\n",
    "raw_text = raw_text.split('\\n')\n",
    "for idx, text in enumerate(raw_text):\n",
    "    raw_text[idx] = text.split('CC-BY 2.0')[0]\n",
    "\n",
    "print(\"总共\" + str(len(raw_text)) + \"组英语-法语对\")\n",
    "print(\"前5组英语-法语对示例：\")\n",
    "\n",
    "for i in range(5):\n",
    "    print(raw_text[i])\n",
    "\n",
    "raw_text = \"\\n\".join(raw_text[:5000])"
   ]
  },
  {
   "cell_type": "code",
   "execution_count": 2,
   "metadata": {},
   "outputs": [
    {
     "name": "stdout",
     "output_type": "stream",
     "text": [
      "go .\tva !\t\n",
      "go .\tmarche .\t\n",
      "go .\ten route !\t\n",
      "go .\tbouge !\t\n",
      "hi .\tsalut !\t\n",
      "hi .\tsalu\n"
     ]
    }
   ],
   "source": [
    "def preprocess_nmt(text):\n",
    "    \"\"\"预处理“英语－法语”数据集\"\"\"\n",
    "    def no_space(char, prev_char):\n",
    "        return char in set(',.!?') and prev_char != ' '\n",
    "\n",
    "    # 使用空格替换不间断空格\n",
    "    # 使用小写字母替换大写字母\n",
    "    text = text.replace('\\u202f', ' ').replace('\\xa0', ' ').lower()\n",
    "    # 在单词和标点符号之间插入空格\n",
    "    out = [' ' + char if i > 0 and no_space(char, text[i - 1]) else char\n",
    "           for i, char in enumerate(text)]\n",
    "    return ''.join(out)\n",
    "\n",
    "text = preprocess_nmt(raw_text)\n",
    "print(text[:80])"
   ]
  },
  {
   "cell_type": "code",
   "execution_count": 3,
   "metadata": {},
   "outputs": [
    {
     "data": {
      "text/plain": [
       "([['go', '.'],\n",
       "  ['go', '.'],\n",
       "  ['go', '.'],\n",
       "  ['go', '.'],\n",
       "  ['hi', '.'],\n",
       "  ['hi', '.']],\n",
       " [['va', '!'],\n",
       "  ['marche', '.'],\n",
       "  ['en', 'route', '!'],\n",
       "  ['bouge', '!'],\n",
       "  ['salut', '!'],\n",
       "  ['salut', '.']])"
      ]
     },
     "execution_count": 3,
     "metadata": {},
     "output_type": "execute_result"
    }
   ],
   "source": [
    "def tokenize_nmt(text, num_examples=None):\n",
    "    \"\"\"词元化“英语－法语”数据数据集\"\"\"\n",
    "    source, target = [], []\n",
    "    for i, line in enumerate(text.split('\\n')):\n",
    "        if num_examples and i > num_examples:\n",
    "            break\n",
    "        parts = line.split('\\t')\n",
    "        if len(parts) == 3:\n",
    "            source.append(parts[0].split(' '))\n",
    "            target.append(parts[1].split(' '))\n",
    "    return source, target\n",
    "\n",
    "source, target = tokenize_nmt(text)\n",
    "source[:6], target[:6]"
   ]
  },
  {
   "cell_type": "code",
   "execution_count": 4,
   "metadata": {},
   "outputs": [],
   "source": [
    "import collections\n",
    "\n",
    "# 构建字典（词汇表：单词与索引之间的映射）\n",
    "class Vocab:\n",
    "    def __init__(self, tokens=None, min_freq=0, reversed_tokens=None):\n",
    "        if tokens is None:\n",
    "            tokens = []\n",
    "        if reversed_tokens is None:\n",
    "            reversed_tokens = []\n",
    "        counter = self.count_corpus(tokens)\n",
    "        self.token_freqs = sorted(counter.items(), key=lambda x: x[1], reverse=True) # 词元出现的次数\n",
    "        self.unk, uniq_tokens = 0, ['<unk>'] + reversed_tokens\n",
    "        # 去除词频小于min_freq的词\n",
    "        uniq_tokens += [token for token, freq in self.token_freqs\n",
    "                        if freq >= min_freq and token not in uniq_tokens]\n",
    "        self.idx_to_token, self.token_to_idx = [], {}\n",
    "        # 构建词元和数字索引间的映射\n",
    "        for i in range(len(uniq_tokens)):\n",
    "            self.idx_to_token.append(uniq_tokens[i])\n",
    "            self.token_to_idx[uniq_tokens[i]] = i\n",
    "\n",
    "    # 返回字典的大小\n",
    "    def __len__(self):\n",
    "        return len(self.idx_to_token)\n",
    "\n",
    "    # 获取词元的数字索引\n",
    "    def __getitem__(self, tokens):\n",
    "        # tokens 可以是单个单词，也可以是几个单词组成的一段文本\n",
    "        if not isinstance(tokens, (list, tuple)):\n",
    "            return self.token_to_idx.get(tokens, self.unk)\n",
    "        return [self.__getitem__(token) for token in tokens]\n",
    "\n",
    "    def to_token(self, indices):\n",
    "        if not isinstance(indices, (list, tuple)):\n",
    "            return self.idx_to_token[indices]\n",
    "        return [self.idx_to_token[indice] for indice in indices]\n",
    "\n",
    "    # 统计唯一词元和频率\n",
    "    def count_corpus(self, tokens):\n",
    "        if len(tokens) == 0 or isinstance(tokens[0], list):\n",
    "            tokens = [token for line in tokens for token in line] # 取出所有的词元，组成一个一维列表\n",
    "        return collections.Counter(tokens)"
   ]
  },
  {
   "cell_type": "code",
   "execution_count": 5,
   "metadata": {},
   "outputs": [
    {
     "name": "stdout",
     "output_type": "stream",
     "text": [
      "源语言字典大小：819\n",
      "目标语言字典大小：1190\n"
     ]
    }
   ],
   "source": [
    "src_vocab = Vocab(source, min_freq=2, reversed_tokens=['<pad>', '<bos>', '<eos>'])\n",
    "target_vocab = Vocab(target, min_freq=2, reversed_tokens=['<pad>', '<bos>', '<eos>'])\n",
    "print(\"源语言字典大小：\" + str(len(src_vocab)))\n",
    "print(\"目标语言字典大小：\" + str(len(target_vocab)))"
   ]
  },
  {
   "cell_type": "code",
   "execution_count": 6,
   "metadata": {},
   "outputs": [
    {
     "data": {
      "text/plain": [
       "[13, 4, 1, 1, 1, 1, 1, 1, 1, 1]"
      ]
     },
     "execution_count": 6,
     "metadata": {},
     "output_type": "execute_result"
    }
   ],
   "source": [
    "def truncate_pad(line, num_steps, padding_token):\n",
    "    \"\"\"截断或填充文本序列\"\"\"\n",
    "    if len(line) > num_steps:\n",
    "        return line[:num_steps]  # 截断\n",
    "    return line + [padding_token] * (num_steps - len(line))  # 填充\n",
    "\n",
    "truncate_pad(src_vocab[source[0]], 10, src_vocab['<pad>'])"
   ]
  },
  {
   "cell_type": "code",
   "execution_count": 7,
   "metadata": {},
   "outputs": [],
   "source": [
    "import numpy as np\n",
    "\n",
    "def build_array_nmt(lines, vocab, num_steps):\n",
    "    \"\"\"将机器翻译的文本序列转换成小批量\"\"\"\n",
    "    lines = [vocab[l] for l in lines]\n",
    "    lines = [l + [vocab['<eos>']] for l in lines]\n",
    "    array = np.array([truncate_pad(\n",
    "        l, num_steps, vocab['<pad>']) for l in lines])\n",
    "    valid_len = (array != vocab['<pad>']).sum(1)\n",
    "    return array, valid_len"
   ]
  },
  {
   "cell_type": "code",
   "execution_count": 8,
   "metadata": {},
   "outputs": [],
   "source": [
    "from torch.utils.data import Dataset, DataLoader\n",
    "import torch\n",
    "\n",
    "class WrapperDataset(Dataset):\n",
    "    def __init__(self, data_x, data_y):\n",
    "        super().__init__()\n",
    "        self.data_x = data_x\n",
    "        self.data_y = data_y\n",
    "    \n",
    "    def __getitem__(self, idx):\n",
    "        x = self.data_x[idx]\n",
    "        y = self.data_y[idx]\n",
    "        return torch.LongTensor(x), torch.LongTensor(y)\n",
    "    \n",
    "    def __len__(self):\n",
    "        return len(self.data_x)\n",
    "\n",
    "\n",
    "\n",
    "def load_data_nmt(batch_size, num_steps, num_examples=600):\n",
    "    \"\"\"返回翻译数据集的迭代器和词表\"\"\"\n",
    "    # text = preprocess_nmt(read_data_nmt())\n",
    "    # source, target = tokenize_nmt(text, num_examples)\n",
    "    src_vocab = Vocab(source, min_freq=2, reversed_tokens=['<pad>', '<bos>', '<eos>'])\n",
    "    tgt_vocab = Vocab(target, min_freq=2, reversed_tokens=['<pad>', '<bos>', '<eos>'])\n",
    "    src_array, src_valid_len = build_array_nmt(source, src_vocab, num_steps)\n",
    "    tgt_array, tgt_valid_len = build_array_nmt(target, tgt_vocab, num_steps)\n",
    "    data_arrays = (src_array, src_valid_len, tgt_array, tgt_valid_len)\n",
    "    # data_iter = load_array(data_arrays, batch_size)\n",
    "    dataset_train = WrapperDataset(src_array[:int(len(src_vocab) * 0.7)], tgt_array[:int(len(src_vocab) * 0.7)])\n",
    "    dataset_test = WrapperDataset(src_array[int(len(src_vocab) * 0.7):], tgt_array[int(len(src_vocab) * 0.7):])\n",
    "\n",
    "    train_loader = DataLoader(dataset_train, shuffle=True, batch_size=batch_size)\n",
    "    test_loader = DataLoader(dataset_test, shuffle=True, batch_size=batch_size)\n",
    "    return train_loader, test_loader, src_vocab, tgt_vocab\n",
    "    # return src_array, tgt_array, src_vocab, tgt_vocab, src_valid_len, tgt_valid_len\n",
    "\n",
    "batch_size = 64\n",
    "num_steps = 8\n",
    "train_loader, test_loader, src_vocab, tgt_vocab = load_data_nmt(batch_size, num_steps, num_examples=600)"
   ]
  },
  {
   "cell_type": "code",
   "execution_count": 9,
   "metadata": {},
   "outputs": [],
   "source": [
    "import torch.nn as nn\n",
    "import torch\n",
    "\n",
    "class Encoder(nn.Module):\n",
    "    def __init__(self, input_dim, emb_dim, hid_dim, n_layers, dropout):\n",
    "        super().__init__()\n",
    "        self.embedding = nn.Embedding(input_dim, emb_dim)\n",
    "        self.gru = nn.GRU(emb_dim, hid_dim, n_layers, dropout=dropout)\n",
    "        self.dropout = nn.Dropout(dropout)\n",
    "        \n",
    "    def forward(self, src):\n",
    "        embedded = self.dropout(self.embedding(src))\n",
    "        outputs, hidden = self.gru(embedded)\n",
    "        return hidden\n",
    "\n",
    "class Decoder(nn.Module):\n",
    "    def __init__(self, output_dim, emb_dim, hid_dim, n_layers, dropout):\n",
    "        super().__init__()\n",
    "        self.embedding = nn.Embedding(output_dim, emb_dim)\n",
    "        self.gru = nn.GRU(emb_dim, hid_dim, n_layers, dropout=dropout)\n",
    "        self.out = nn.Linear(hid_dim, output_dim)\n",
    "        self.dropout = nn.Dropout(dropout)\n",
    "        self.output_dim = output_dim\n",
    "        \n",
    "    def forward(self, input, hidden):\n",
    "        input = input.unsqueeze(0)\n",
    "        embedded = self.dropout(self.embedding(input))\n",
    "        output, hidden = self.gru(embedded, hidden)\n",
    "        prediction = self.out(output.squeeze(0))\n",
    "        return prediction, hidden"
   ]
  },
  {
   "cell_type": "code",
   "execution_count": 10,
   "metadata": {},
   "outputs": [],
   "source": [
    "import random\n",
    "\n",
    "\n",
    "class Seq2Seq(nn.Module):\n",
    "    def __init__(self, encoder, decoder, device):\n",
    "        super().__init__()\n",
    "        self.encoder = encoder\n",
    "        self.decoder = decoder\n",
    "        self.device = device\n",
    "        \n",
    "    def forward(self, src, trg, teacher_forcing_ratio=0.5):\n",
    "        batch_size = trg.shape[1]\n",
    "        trg_len = trg.shape[0]\n",
    "        trg_vocab_size = self.decoder.output_dim\n",
    "        outputs = torch.zeros(trg_len, batch_size, trg_vocab_size).to(self.device)\n",
    "        \n",
    "        hidden = self.encoder(src)\n",
    "        \n",
    "        input = trg[0,:]\n",
    "        \n",
    "        for t in range(1, trg_len):\n",
    "            output, hidden = self.decoder(input, hidden)\n",
    "            outputs[t] = output\n",
    "            teacher_force = random.random() < teacher_forcing_ratio\n",
    "            top1 = output.argmax(1) \n",
    "            input = trg[t] if teacher_force else top1\n",
    "\n",
    "        return outputs"
   ]
  },
  {
   "cell_type": "code",
   "execution_count": 11,
   "metadata": {},
   "outputs": [
    {
     "name": "stdout",
     "output_type": "stream",
     "text": [
      "input_dim: 819 \t output_dim: 1190 \t enc_bed_dim: 256 \t dec_emb_dim: 512\t\n",
      "\n",
      "模型在cuda上训练\n"
     ]
    },
    {
     "name": "stderr",
     "output_type": "stream",
     "text": [
      " 10%|█         | 10/100 [00:12<01:44,  1.17s/it]"
     ]
    },
    {
     "name": "stdout",
     "output_type": "stream",
     "text": [
      "Epoch: 10 \t 训练损失: 6.388 \t 测试损失: 6.449\n"
     ]
    },
    {
     "name": "stderr",
     "output_type": "stream",
     "text": [
      " 20%|██        | 20/100 [00:24<01:34,  1.18s/it]"
     ]
    },
    {
     "name": "stdout",
     "output_type": "stream",
     "text": [
      "Epoch: 20 \t 训练损失: 4.308 \t 测试损失: 5.013\n"
     ]
    },
    {
     "name": "stderr",
     "output_type": "stream",
     "text": [
      " 30%|███       | 30/100 [00:35<01:21,  1.17s/it]"
     ]
    },
    {
     "name": "stdout",
     "output_type": "stream",
     "text": [
      "Epoch: 30 \t 训练损失: 3.010 \t 测试损失: 4.471\n"
     ]
    },
    {
     "name": "stderr",
     "output_type": "stream",
     "text": [
      " 40%|████      | 40/100 [00:47<01:14,  1.24s/it]"
     ]
    },
    {
     "name": "stdout",
     "output_type": "stream",
     "text": [
      "Epoch: 40 \t 训练损失: 2.672 \t 测试损失: 4.373\n"
     ]
    },
    {
     "name": "stderr",
     "output_type": "stream",
     "text": [
      " 50%|█████     | 50/100 [01:00<00:59,  1.20s/it]"
     ]
    },
    {
     "name": "stdout",
     "output_type": "stream",
     "text": [
      "Epoch: 50 \t 训练损失: 2.563 \t 测试损失: 4.324\n"
     ]
    },
    {
     "name": "stderr",
     "output_type": "stream",
     "text": [
      " 60%|██████    | 60/100 [01:11<00:46,  1.17s/it]"
     ]
    },
    {
     "name": "stdout",
     "output_type": "stream",
     "text": [
      "Epoch: 60 \t 训练损失: 2.490 \t 测试损失: 4.355\n"
     ]
    },
    {
     "name": "stderr",
     "output_type": "stream",
     "text": [
      " 70%|███████   | 70/100 [01:22<00:34,  1.16s/it]"
     ]
    },
    {
     "name": "stdout",
     "output_type": "stream",
     "text": [
      "Epoch: 70 \t 训练损失: 2.410 \t 测试损失: 4.361\n"
     ]
    },
    {
     "name": "stderr",
     "output_type": "stream",
     "text": [
      " 80%|████████  | 80/100 [01:34<00:22,  1.15s/it]"
     ]
    },
    {
     "name": "stdout",
     "output_type": "stream",
     "text": [
      "Epoch: 80 \t 训练损失: 2.351 \t 测试损失: 4.351\n"
     ]
    },
    {
     "name": "stderr",
     "output_type": "stream",
     "text": [
      " 90%|█████████ | 90/100 [01:44<00:10,  1.02s/it]"
     ]
    },
    {
     "name": "stdout",
     "output_type": "stream",
     "text": [
      "Epoch: 90 \t 训练损失: 2.303 \t 测试损失: 4.375\n"
     ]
    },
    {
     "name": "stderr",
     "output_type": "stream",
     "text": [
      "100%|██████████| 100/100 [01:54<00:00,  1.15s/it]"
     ]
    },
    {
     "name": "stdout",
     "output_type": "stream",
     "text": [
      "Epoch: 100 \t 训练损失: 2.312 \t 测试损失: 4.351\n"
     ]
    },
    {
     "name": "stderr",
     "output_type": "stream",
     "text": [
      "\n"
     ]
    },
    {
     "data": {
      "image/png": "[encoded data removed]",
      "text/plain": [
       "<Figure size 800x300 with 2 Axes>"
      ]
     },
     "metadata": {},
     "output_type": "display_data"
    }
   ],
   "source": [
    "from matplotlib import pyplot as plt, ticker\n",
    "from torch import optim\n",
    "from tqdm import tqdm\n",
    "\n",
    "input_dim = len(src_vocab)\n",
    "output_dim = len(tgt_vocab)\n",
    "enc_emd_dim = 256\n",
    "dec_emb_dim = 512\n",
    "hid_dim = 512\n",
    "n_layers = 2\n",
    "enc_dropout = 0.5\n",
    "dec_dropout = 0.5\n",
    "\n",
    "print(\"input_dim: {} \\t output_dim: {} \\t enc_bed_dim: {} \\t dec_emb_dim: {}\\t\".format(input_dim, output_dim, enc_emd_dim, dec_emb_dim))\n",
    "\n",
    "enc = Encoder(input_dim, enc_emd_dim, hid_dim, n_layers, enc_dropout)\n",
    "dec = Decoder(output_dim, dec_emb_dim, hid_dim, n_layers, dec_dropout)\n",
    "\n",
    "device = torch.device('cuda' if torch.cuda.is_available() else 'cpu')\n",
    "\n",
    "model = Seq2Seq(enc, dec, device).to(device)\n",
    "\n",
    "optimizer = optim.Adam(model.parameters(), lr = 0.00001)\n",
    "criterion = nn.CrossEntropyLoss(ignore_index=tgt_vocab['<pad>'])\n",
    "\n",
    "print(f\"\\n模型在{device}上训练\")\n",
    "\n",
    "def train(model, train_loader, optimizer, criterion, clip):\n",
    "    model.train()\n",
    "\n",
    "    epoch_loss = 0\n",
    "\n",
    "    for i, batch in enumerate(train_loader):\n",
    "        src, trg = batch\n",
    "        src, trg = src.to(device), trg.to(device)\n",
    "        \n",
    "        src, trg = torch.transpose(src, 0, 1), torch.transpose(trg, 0, 1)\n",
    "\n",
    "        optimizer.zero_grad()\n",
    "\n",
    "        output = model(src, trg)\n",
    "\n",
    "        output_dim = output.shape[-1]\n",
    "\n",
    "        output = output[1:].view(-1, output_dim)\n",
    "\n",
    "        trg = trg[1:].reshape(-1)\n",
    "\n",
    "        loss = criterion(output, trg)\n",
    "\n",
    "        loss.backward()\n",
    "\n",
    "        torch.nn.utils.clip_grad_norm_(model.parameters(), clip)\n",
    "\n",
    "        optimizer.step()\n",
    "\n",
    "        epoch_loss += loss.item()\n",
    "\n",
    "    return epoch_loss / len(train_loader)\n",
    "\n",
    "def evaluate(model, data_iter, criterion):\n",
    "    model.eval()\n",
    "\n",
    "    epoch_loss = 0\n",
    "\n",
    "    with torch.no_grad():\n",
    "        for i, batch in enumerate(data_iter):\n",
    "            src, trg = batch\n",
    "            src, trg = src.to(device), trg.to(device)\n",
    "            \n",
    "            src, trg = torch.transpose(src, 0, 1), torch.transpose(trg, 0, 1)\n",
    "\n",
    "            output = model(src, trg, 0)\n",
    "\n",
    "            output_dim = output.shape[-1]\n",
    "\n",
    "            output = output[1:].view(-1, output_dim)\n",
    "            trg = trg[1:].reshape(-1)\n",
    "\n",
    "            loss = criterion(output, trg)\n",
    "\n",
    "            epoch_loss += loss.item()\n",
    "\n",
    "    return epoch_loss / len(data_iter)\n",
    "\n",
    "epocees = 100\n",
    "CLIP = 1\n",
    "\n",
    "tot_loss_train = []\n",
    "tot_loss_test = []\n",
    "for epoch in tqdm(range(epocees)):\n",
    "    train_loss = train(model, train_loader, optimizer, criterion, CLIP)\n",
    "    test_loss = evaluate(model, test_loader, criterion)\n",
    "\n",
    "    if (epoch + 1) % 10 == 0:\n",
    "        print(f'Epoch: {epoch+1:02} \\t 训练损失: {train_loss:.3f} \\t 测试损失: {test_loss:.3f}')\n",
    "    tot_loss_train.append(train_loss)\n",
    "    tot_loss_test.append(test_loss)\n",
    "    \n",
    "_, axes = plt.subplots(1, 2, figsize=(8, 3))\n",
    "axes[0].plot(range(len(tot_loss_train)), tot_loss_train, c='r') \n",
    "axes[0].set_xlabel(\"epoch\")\n",
    "axes[0].set_ylabel(\"Train Loss\")\n",
    "axes[0].yaxis.set_major_locator(ticker.MaxNLocator(integer=True))\n",
    "axes[0].xaxis.set_major_locator(ticker.MaxNLocator(integer=True))\n",
    "\n",
    "axes[1].plot(range(len(tot_loss_test)), tot_loss_test, c='b')\n",
    "axes[1].set_xlabel(\"epoch\")\n",
    "axes[1].set_ylabel(\"Test Loss\")\n",
    "axes[1].yaxis.set_major_locator(ticker.MaxNLocator(integer=True))\n",
    "axes[1].xaxis.set_major_locator(ticker.MaxNLocator(integer=True))\n",
    "\n",
    "plt.subplots_adjust(wspace=0.5)\n",
    "plt.show()"
   ]
  },
  {
   "cell_type": "code",
   "execution_count": null,
   "metadata": {},
   "outputs": [],
   "source": []
  }
 ],
 "metadata": {
  "kernelspec": {
   "display_name": "Python 3",
   "language": "python",
   "name": "python3"
  },
  "language_info": {
   "codemirror_mode": {
    "name": "ipython",
    "version": 3
   },
   "file_extension": ".py",
   "mimetype": "text/x-python",
   "name": "python",
   "nbconvert_exporter": "python",
   "pygments_lexer": "ipython3",
   "version": "3.11.7"
  }
 },
 "nbformat": 4,
 "nbformat_minor": 2
}
