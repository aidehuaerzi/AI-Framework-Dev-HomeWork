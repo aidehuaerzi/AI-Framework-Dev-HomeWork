{
 "cells": [
  {
   "cell_type": "code",
   "execution_count": 1,
   "metadata": {},
   "outputs": [
    {
     "name": "stdout",
     "output_type": "stream",
     "text": [
      "总共232737组英语-法语对\n",
      "前5组英语-法语对示例：\n",
      "Go.\tVa !\t\n",
      "Go.\tMarche.\t\n",
      "Go.\tEn route !\t\n",
      "Go.\tBouge !\t\n",
      "Hi.\tSalut !\t\n"
     ]
    }
   ],
   "source": [
    "import os\n",
    "\n",
    "def read_data_nmt():\n",
    "    \"\"\"载入“英语－法语”数据集\"\"\"\n",
    "    data_dir = \"../dataset\"\n",
    "    with open(os.path.join(data_dir, 'fra.txt'), 'r',\n",
    "             encoding='utf-8') as f:\n",
    "        return f.read()\n",
    "\n",
    "raw_text = read_data_nmt()\n",
    "raw_text = raw_text.split('\\n')\n",
    "for idx, text in enumerate(raw_text):\n",
    "    raw_text[idx] = text.split('CC-BY 2.0')[0]\n",
    "\n",
    "print(\"总共\" + str(len(raw_text)) + \"组英语-法语对\")\n",
    "print(\"前5组英语-法语对示例：\")\n",
    "\n",
    "for i in range(5):\n",
    "    print(raw_text[i])\n",
    "\n",
    "raw_text = \"\\n\".join(raw_text[:1000])"
   ]
  },
  {
   "cell_type": "code",
   "execution_count": 2,
   "metadata": {},
   "outputs": [
    {
     "name": "stdout",
     "output_type": "stream",
     "text": [
      "go .\tva !\t\n",
      "go .\tmarche .\t\n",
      "go .\ten route !\t\n",
      "go .\tbouge !\t\n",
      "hi .\tsalut !\t\n",
      "hi .\tsalu\n"
     ]
    }
   ],
   "source": [
    "def preprocess_nmt(text):\n",
    "    \"\"\"预处理“英语－法语”数据集\"\"\"\n",
    "    def no_space(char, prev_char):\n",
    "        return char in set(',.!?') and prev_char != ' '\n",
    "\n",
    "    # 使用空格替换不间断空格\n",
    "    # 使用小写字母替换大写字母\n",
    "    text = text.replace('\\u202f', ' ').replace('\\xa0', ' ').lower()\n",
    "    # 在单词和标点符号之间插入空格\n",
    "    out = [' ' + char if i > 0 and no_space(char, text[i - 1]) else char\n",
    "           for i, char in enumerate(text)]\n",
    "    return ''.join(out)\n",
    "\n",
    "text = preprocess_nmt(raw_text)\n",
    "print(text[:80])"
   ]
  },
  {
   "cell_type": "code",
   "execution_count": 3,
   "metadata": {},
   "outputs": [
    {
     "data": {
      "text/plain": [
       "([['go', '.'],\n",
       "  ['go', '.'],\n",
       "  ['go', '.'],\n",
       "  ['go', '.'],\n",
       "  ['hi', '.'],\n",
       "  ['hi', '.']],\n",
       " [['va', '!'],\n",
       "  ['marche', '.'],\n",
       "  ['en', 'route', '!'],\n",
       "  ['bouge', '!'],\n",
       "  ['salut', '!'],\n",
       "  ['salut', '.']])"
      ]
     },
     "execution_count": 3,
     "metadata": {},
     "output_type": "execute_result"
    }
   ],
   "source": [
    "def tokenize_nmt(text, num_examples=None):\n",
    "    \"\"\"词元化“英语－法语”数据数据集\"\"\"\n",
    "    source, target = [], []\n",
    "    for i, line in enumerate(text.split('\\n')):\n",
    "        if num_examples and i > num_examples:\n",
    "            break\n",
    "        parts = line.split('\\t')\n",
    "        if len(parts) == 3:\n",
    "            source.append(parts[0].split(' '))\n",
    "            target.append(parts[1].split(' '))\n",
    "    return source, target\n",
    "\n",
    "source, target = tokenize_nmt(text)\n",
    "source[:6], target[:6]"
   ]
  },
  {
   "cell_type": "code",
   "execution_count": 4,
   "metadata": {},
   "outputs": [],
   "source": [
    "import collections\n",
    "\n",
    "# 构建字典（词汇表：单词与索引之间的映射）\n",
    "class Vocab:\n",
    "    def __init__(self, tokens=None, min_freq=0, reversed_tokens=None):\n",
    "        if tokens is None:\n",
    "            tokens = []\n",
    "        if reversed_tokens is None:\n",
    "            reversed_tokens = []\n",
    "        counter = self.count_corpus(tokens)\n",
    "        self.token_freqs = sorted(counter.items(), key=lambda x: x[1], reverse=True) # 词元出现的次数\n",
    "        self.unk, uniq_tokens = 0, ['<unk>'] + reversed_tokens\n",
    "        # 去除词频小于min_freq的词\n",
    "        uniq_tokens += [token for token, freq in self.token_freqs\n",
    "                        if freq >= min_freq and token not in uniq_tokens]\n",
    "        self.idx_to_token, self.token_to_idx = [], {}\n",
    "        # 构建词元和数字索引间的映射\n",
    "        for i in range(len(uniq_tokens)):\n",
    "            self.idx_to_token.append(uniq_tokens[i])\n",
    "            self.token_to_idx[uniq_tokens[i]] = i\n",
    "\n",
    "    # 返回字典的大小\n",
    "    def __len__(self):\n",
    "        return len(self.idx_to_token)\n",
    "\n",
    "    # 获取词元的数字索引\n",
    "    def __getitem__(self, tokens):\n",
    "        # tokens 可以是单个单词，也可以是几个单词组成的一段文本\n",
    "        if not isinstance(tokens, (list, tuple)):\n",
    "            return self.token_to_idx.get(tokens, self.unk)\n",
    "        return [self.__getitem__(token) for token in tokens]\n",
    "\n",
    "    def to_token(self, indices):\n",
    "        if not isinstance(indices, (list, tuple)):\n",
    "            return self.idx_to_token[indices]\n",
    "        return [self.idx_to_token[indice] for indice in indices]\n",
    "\n",
    "    # 统计唯一词元和频率\n",
    "    def count_corpus(self, tokens):\n",
    "        if len(tokens) == 0 or isinstance(tokens[0], list):\n",
    "            tokens = [token for line in tokens for token in line] # 取出所有的词元，组成一个一维列表\n",
    "        return collections.Counter(tokens)"
   ]
  },
  {
   "cell_type": "code",
   "execution_count": 5,
   "metadata": {},
   "outputs": [
    {
     "name": "stdout",
     "output_type": "stream",
     "text": [
      "源语言字典大小：217\n",
      "目标语言字典大小：279\n"
     ]
    }
   ],
   "source": [
    "src_vocab = Vocab(source, min_freq=2, reversed_tokens=['<pad>', '<bos>', '<eos>'])\n",
    "target_vocab = Vocab(target, min_freq=2, reversed_tokens=['<pad>', '<bos>', '<eos>'])\n",
    "print(\"源语言字典大小：\" + str(len(src_vocab)))\n",
    "print(\"目标语言字典大小：\" + str(len(target_vocab)))"
   ]
  },
  {
   "cell_type": "code",
   "execution_count": 6,
   "metadata": {},
   "outputs": [
    {
     "data": {
      "text/plain": [
       "[9, 4, 1, 1, 1, 1, 1, 1, 1, 1]"
      ]
     },
     "execution_count": 6,
     "metadata": {},
     "output_type": "execute_result"
    }
   ],
   "source": [
    "def truncate_pad(line, num_steps, padding_token):\n",
    "    \"\"\"截断或填充文本序列\"\"\"\n",
    "    if len(line) > num_steps:\n",
    "        return line[:num_steps]  # 截断\n",
    "    return line + [padding_token] * (num_steps - len(line))  # 填充\n",
    "\n",
    "truncate_pad(src_vocab[source[0]], 10, src_vocab['<pad>'])"
   ]
  },
  {
   "cell_type": "code",
   "execution_count": 7,
   "metadata": {},
   "outputs": [],
   "source": [
    "import numpy as np\n",
    "\n",
    "def build_array_nmt(lines, vocab, num_steps):\n",
    "    \"\"\"将机器翻译的文本序列转换成小批量\"\"\"\n",
    "    lines = [vocab[l] for l in lines]\n",
    "    lines = [l + [vocab['<eos>']] for l in lines]\n",
    "    array = np.array([truncate_pad(\n",
    "        l, num_steps, vocab['<pad>']) for l in lines])\n",
    "    valid_len = (array != vocab['<pad>']).sum(1)\n",
    "    return array, valid_len"
   ]
  },
  {
   "cell_type": "code",
   "execution_count": 8,
   "metadata": {},
   "outputs": [],
   "source": [
    "#@save\n",
    "def load_data_nmt(batch_size, num_steps, num_examples=600):\n",
    "    \"\"\"返回翻译数据集的迭代器和词表\"\"\"\n",
    "    # text = preprocess_nmt(read_data_nmt())\n",
    "    # source, target = tokenize_nmt(text, num_examples)\n",
    "    src_vocab = Vocab(source, min_freq=2, reversed_tokens=['<pad>', '<bos>', '<eos>'])\n",
    "    tgt_vocab = Vocab(target, min_freq=2, reversed_tokens=['<pad>', '<bos>', '<eos>'])\n",
    "    src_array, src_valid_len = build_array_nmt(source, src_vocab, num_steps)\n",
    "    print(len(src_vocab))\n",
    "    print(len(src_array))\n",
    "    print(len(src_array[0]))\n",
    "    tgt_array, tgt_valid_len = build_array_nmt(target, tgt_vocab, num_steps)\n",
    "    # data_arrays = (src_array, src_valid_len, tgt_array, tgt_valid_len)\n",
    "    # data_iter = load_array(data_arrays, batch_size)\n",
    "    # return data_iter, src_vocab, tgt_vocab\n",
    "    return src_array, tgt_array, src_vocab, tgt_vocab, src_valid_len, tgt_valid_len"
   ]
  },
  {
   "cell_type": "code",
   "execution_count": 9,
   "metadata": {},
   "outputs": [
    {
     "name": "stdout",
     "output_type": "stream",
     "text": [
      "Many-to-one output: [[ 2.14973229 -0.12232977 -3.23072749]]\n",
      "Many-to-many hidden states: [[[ 2.20192544e-02  6.64519955e-01  5.74260389e-01  9.90120376e-01\n",
      "    9.98684428e-01  9.69214583e-01  9.32903096e-01]\n",
      "  [ 7.64106102e-01  7.07661102e-01  9.39582250e-01  9.41354293e-01\n",
      "    9.41439582e-01  6.70656623e-01  9.60939820e-01]\n",
      "  [ 9.76861164e-01  3.53751601e-01 -9.18980627e-01 -9.05899837e-01\n",
      "    6.78977136e-01  7.16504642e-01 -9.35224500e-01]\n",
      "  [ 5.01573219e-01  9.90974761e-01  9.90946036e-01  9.91044151e-01\n",
      "    9.91005596e-01  9.86126321e-01  9.93536235e-01]\n",
      "  [ 3.04190974e-02 -9.93745190e-01  4.02630039e-01 -9.68895637e-01\n",
      "   -7.72011779e-01 -8.33811908e-01  5.82990015e-01]]\n",
      "\n",
      " [[ 4.20261962e-01  1.83897945e-01 -9.88182782e-01  7.39101612e-02\n",
      "    8.73067160e-01 -4.19624165e-01 -1.62015756e-01]\n",
      "  [ 8.45695721e-04 -1.48352949e-01  4.14575088e-02 -2.00960283e-01\n",
      "    2.93096044e-01 -1.36825217e-01 -9.74477446e-02]\n",
      "  [ 4.46513996e-03 -9.95327193e-01 -8.76221217e-01 -8.57298984e-01\n",
      "   -4.01770409e-01 -1.13708242e-01 -3.13820577e-01]\n",
      "  [ 1.90167669e-01  1.19380345e-01  8.59019706e-01 -6.13402341e-01\n",
      "    9.90852155e-01  9.82166077e-01  5.41980882e-01]\n",
      "  [-9.88829682e-01 -7.97510152e-01 -7.61215983e-01 -8.71220914e-01\n",
      "   -9.40959861e-01 -9.10435277e-01 -7.19390949e-01]]\n",
      "\n",
      " [[-8.00739887e-01  7.68763264e-01  7.74385945e-01 -7.89257407e-01\n",
      "   -7.56928892e-01  7.52632253e-01 -9.01134076e-01]\n",
      "  [-8.00859712e-01 -7.60996031e-01  7.04955784e-01 -9.18712592e-01\n",
      "    6.34518343e-01  6.89831793e-01 -1.14817379e-01]\n",
      "  [-4.46186512e-03 -5.93743806e-02  6.41899656e-01  9.52473954e-01\n",
      "    9.65568529e-01  9.92250458e-01  9.92474600e-01]\n",
      "  [ 4.92229349e-02  9.06555367e-01 -5.86414212e-01  9.95756901e-01\n",
      "    6.49993442e-01  9.95360720e-01  9.85847691e-01]\n",
      "  [ 1.84328412e-02  3.33311776e-01 -8.28411744e-01 -7.94486040e-01\n",
      "   -9.19416449e-01 -7.61330410e-01 -9.52125046e-01]]]\n"
     ]
    }
   ],
   "source": [
    "import numpy as np\n",
    "\n",
    "class GRU:\n",
    "    def __init__(self, input_dim, hidden_dim, output_dim):\n",
    "        self.input_dim = input_dim\n",
    "        self.hidden_dim = hidden_dim\n",
    "        self.output_dim = output_dim\n",
    "\n",
    "        # Initialize weights\n",
    "        self.W_z = np.random.randn(hidden_dim, input_dim)\n",
    "        self.U_z = np.random.randn(hidden_dim, hidden_dim)\n",
    "        self.b_z = np.zeros((hidden_dim, 1))\n",
    "\n",
    "        self.W_r = np.random.randn(hidden_dim, input_dim)\n",
    "        self.U_r = np.random.randn(hidden_dim, hidden_dim)\n",
    "        self.b_r = np.zeros((hidden_dim, 1))\n",
    "\n",
    "        self.W_h = np.random.randn(hidden_dim, input_dim)\n",
    "        self.U_h = np.random.randn(hidden_dim, hidden_dim)\n",
    "        self.b_h = np.zeros((hidden_dim, 1))\n",
    "\n",
    "        self.V = np.random.randn(output_dim, hidden_dim)\n",
    "        self.c = np.zeros((output_dim, 1))\n",
    "\n",
    "    def sigmoid(self, x):\n",
    "        return 1 / (1 + np.exp(-x))\n",
    "\n",
    "    def tanh(self, x):\n",
    "        return np.tanh(x)\n",
    "\n",
    "    def forward(self, x):\n",
    "        T = x.shape[1]\n",
    "        batch_size = x.shape[0]\n",
    "\n",
    "        h = np.zeros((batch_size, self.hidden_dim, T))\n",
    "        h_t = np.zeros((batch_size, self.hidden_dim))\n",
    "\n",
    "        for t in range(T):\n",
    "            x_t = x[:, t].reshape(batch_size, self.input_dim)\n",
    "            \n",
    "            z_t = self.sigmoid(self.W_z @ x_t.T + self.U_z @ h_t.T + self.b_z)\n",
    "            r_t = self.sigmoid(self.W_r @ x_t.T + self.U_r @ h_t.T + self.b_r)\n",
    "            h_tilde_t = self.tanh(self.W_h @ x_t.T + self.U_h @ (r_t * h_t.T) + self.b_h)\n",
    "            \n",
    "            h_t = ((1 - z_t) * h_t.T + z_t * h_tilde_t).T\n",
    "            h[:, :, t] = h_t\n",
    "        \n",
    "        # Compute the output\n",
    "        y = self.V @ h_t.T + self.c\n",
    "\n",
    "        return y, h\n",
    "\n",
    "# Example usage\n",
    "input_dim = 10\n",
    "hidden_dim = 5\n",
    "output_dim = 1\n",
    "batch_size = 3\n",
    "seq_length = 7\n",
    "\n",
    "# Random input\n",
    "x = np.random.randn(batch_size, seq_length, input_dim)\n",
    "\n",
    "# Initialize GRU\n",
    "gru = GRU(input_dim, hidden_dim, output_dim)\n",
    "\n",
    "# Many-to-one output\n",
    "y, h = gru.forward(x)\n",
    "print(\"Many-to-one output:\", y)\n",
    "\n",
    "# Many-to-many output\n",
    "print(\"Many-to-many hidden states:\", h)\n"
   ]
  },
  {
   "cell_type": "code",
   "execution_count": 10,
   "metadata": {},
   "outputs": [],
   "source": [
    "def translate(sentence, seq2seq, source_vocab, target_vocab, num_steps):\n",
    "    # Convert sentence to indices\n",
    "    src_seq = sentence.lower().split(' ')\n",
    "    print(src_seq)\n",
    "    for idx, word in enumerate(src_seq):\n",
    "        src_seq[idx] = source_vocab[word]\n",
    "    src_seq = truncate_pad(src_seq, num_steps, src_vocab['<pad>'])\n",
    "    print(src_seq)\n",
    "    src_seq = np.eye(input_dim)[src_seq].T  # One-hot encoding\n",
    "\n",
    "    # Initialize decoder input with <PAD> tokens\n",
    "    tgt_seq_input = np.zeros((output_dim, num_steps))\n",
    "    tgt_seq_input[target_vocab['<PAD>'], :] = 1\n",
    "\n",
    "    output = seq2seq.forward(src_seq, tgt_seq_input)\n",
    "    \n",
    "    # Convert output indices to words\n",
    "    translated_sentence = []\n",
    "    for idx in np.argmax(output, axis=0):\n",
    "        translated_sentence.append(target_vocab.to_token(idx))\n",
    "\n",
    "    return \" \".join(translated_sentence)"
   ]
  },
  {
   "cell_type": "code",
   "execution_count": 11,
   "metadata": {},
   "outputs": [
    {
     "name": "stdout",
     "output_type": "stream",
     "text": [
      "217\n",
      "1000\n",
      "8\n",
      "input_dim: 217\n",
      "hidden_dim: 50\n",
      "output_dim: 279\n"
     ]
    },
    {
     "name": "stderr",
     "output_type": "stream",
     "text": [
      "  5%|▌         | 5/100 [00:12<03:54,  2.47s/it]"
     ]
    },
    {
     "name": "stdout",
     "output_type": "stream",
     "text": [
      "Epoch 5, Loss: 0.4171571420881243\n"
     ]
    },
    {
     "name": "stderr",
     "output_type": "stream",
     "text": [
      " 10%|█         | 10/100 [00:24<03:37,  2.41s/it]"
     ]
    },
    {
     "name": "stdout",
     "output_type": "stream",
     "text": [
      "Epoch 10, Loss: 0.2744019329681386\n"
     ]
    },
    {
     "name": "stderr",
     "output_type": "stream",
     "text": [
      " 15%|█▌        | 15/100 [00:36<03:25,  2.42s/it]"
     ]
    },
    {
     "name": "stdout",
     "output_type": "stream",
     "text": [
      "Epoch 15, Loss: 0.2369603886229093\n"
     ]
    },
    {
     "name": "stderr",
     "output_type": "stream",
     "text": [
      " 20%|██        | 20/100 [00:48<03:13,  2.42s/it]"
     ]
    },
    {
     "name": "stdout",
     "output_type": "stream",
     "text": [
      "Epoch 20, Loss: 0.23594038926947936\n"
     ]
    },
    {
     "name": "stderr",
     "output_type": "stream",
     "text": [
      " 25%|██▌       | 25/100 [01:00<03:02,  2.43s/it]"
     ]
    },
    {
     "name": "stdout",
     "output_type": "stream",
     "text": [
      "Epoch 25, Loss: 0.2362887662563756\n"
     ]
    },
    {
     "name": "stderr",
     "output_type": "stream",
     "text": [
      " 30%|███       | 30/100 [01:13<02:50,  2.43s/it]"
     ]
    },
    {
     "name": "stdout",
     "output_type": "stream",
     "text": [
      "Epoch 30, Loss: 0.2364982213960396\n"
     ]
    },
    {
     "name": "stderr",
     "output_type": "stream",
     "text": [
      " 35%|███▌      | 35/100 [01:25<02:36,  2.40s/it]"
     ]
    },
    {
     "name": "stdout",
     "output_type": "stream",
     "text": [
      "Epoch 35, Loss: 0.2365803274385458\n"
     ]
    },
    {
     "name": "stderr",
     "output_type": "stream",
     "text": [
      " 40%|████      | 40/100 [01:37<02:25,  2.42s/it]"
     ]
    },
    {
     "name": "stdout",
     "output_type": "stream",
     "text": [
      "Epoch 40, Loss: 0.23660955206567605\n"
     ]
    },
    {
     "name": "stderr",
     "output_type": "stream",
     "text": [
      " 45%|████▌     | 45/100 [01:49<02:12,  2.40s/it]"
     ]
    },
    {
     "name": "stdout",
     "output_type": "stream",
     "text": [
      "Epoch 45, Loss: 0.23661978972726247\n"
     ]
    },
    {
     "name": "stderr",
     "output_type": "stream",
     "text": [
      " 50%|█████     | 50/100 [02:01<02:01,  2.42s/it]"
     ]
    },
    {
     "name": "stdout",
     "output_type": "stream",
     "text": [
      "Epoch 50, Loss: 0.23662340182972585\n"
     ]
    },
    {
     "name": "stderr",
     "output_type": "stream",
     "text": [
      " 55%|█████▌    | 55/100 [02:13<01:48,  2.40s/it]"
     ]
    },
    {
     "name": "stdout",
     "output_type": "stream",
     "text": [
      "Epoch 55, Loss: 0.23662469098180422\n"
     ]
    },
    {
     "name": "stderr",
     "output_type": "stream",
     "text": [
      " 60%|██████    | 60/100 [02:25<01:36,  2.40s/it]"
     ]
    },
    {
     "name": "stdout",
     "output_type": "stream",
     "text": [
      "Epoch 60, Loss: 0.23662515567461445\n"
     ]
    },
    {
     "name": "stderr",
     "output_type": "stream",
     "text": [
      " 65%|██████▌   | 65/100 [02:37<01:24,  2.41s/it]"
     ]
    },
    {
     "name": "stdout",
     "output_type": "stream",
     "text": [
      "Epoch 65, Loss: 0.2366253243955459\n"
     ]
    },
    {
     "name": "stderr",
     "output_type": "stream",
     "text": [
      " 70%|███████   | 70/100 [02:49<01:11,  2.40s/it]"
     ]
    },
    {
     "name": "stdout",
     "output_type": "stream",
     "text": [
      "Epoch 70, Loss: 0.23662538595316018\n"
     ]
    },
    {
     "name": "stderr",
     "output_type": "stream",
     "text": [
      " 75%|███████▌  | 75/100 [03:01<01:00,  2.42s/it]"
     ]
    },
    {
     "name": "stdout",
     "output_type": "stream",
     "text": [
      "Epoch 75, Loss: 0.23662540848271346\n"
     ]
    },
    {
     "name": "stderr",
     "output_type": "stream",
     "text": [
      " 80%|████████  | 80/100 [03:13<00:48,  2.41s/it]"
     ]
    },
    {
     "name": "stdout",
     "output_type": "stream",
     "text": [
      "Epoch 80, Loss: 0.23662541674454993\n"
     ]
    },
    {
     "name": "stderr",
     "output_type": "stream",
     "text": [
      " 85%|████████▌ | 85/100 [03:25<00:36,  2.44s/it]"
     ]
    },
    {
     "name": "stdout",
     "output_type": "stream",
     "text": [
      "Epoch 85, Loss: 0.23662541977794646\n"
     ]
    },
    {
     "name": "stderr",
     "output_type": "stream",
     "text": [
      " 90%|█████████ | 90/100 [03:38<00:24,  2.49s/it]"
     ]
    },
    {
     "name": "stdout",
     "output_type": "stream",
     "text": [
      "Epoch 90, Loss: 0.23662542089251437\n"
     ]
    },
    {
     "name": "stderr",
     "output_type": "stream",
     "text": [
      " 95%|█████████▌| 95/100 [03:50<00:12,  2.43s/it]"
     ]
    },
    {
     "name": "stdout",
     "output_type": "stream",
     "text": [
      "Epoch 95, Loss: 0.23662542130222955\n"
     ]
    },
    {
     "name": "stderr",
     "output_type": "stream",
     "text": [
      "100%|██████████| 100/100 [04:02<00:00,  2.43s/it]"
     ]
    },
    {
     "name": "stdout",
     "output_type": "stream",
     "text": [
      "Epoch 100, Loss: 0.23662542145288276\n",
      "训练完成\n"
     ]
    },
    {
     "name": "stderr",
     "output_type": "stream",
     "text": [
      "\n"
     ]
    },
    {
     "data": {
      "image/png": "[encoded data removed]",
      "text/plain": [
       "<Figure size 640x480 with 1 Axes>"
      ]
     },
     "metadata": {},
     "output_type": "display_data"
    }
   ],
   "source": [
    "from tqdm import tqdm\n",
    "import matplotlib.pyplot as plt\n",
    "from matplotlib import ticker\n",
    "\n",
    "class EncoderGRU:\n",
    "    def __init__(self, input_dim, hidden_dim):\n",
    "        self.gru = GRU(input_dim, hidden_dim, hidden_dim)\n",
    "        \n",
    "    def forward(self, x):\n",
    "        _, h = self.gru.forward(x)\n",
    "        return h[:, :, -1]  # Return the last hidden state\n",
    "\n",
    "class DecoderGRU:\n",
    "    def __init__(self, input_dim, hidden_dim, output_dim):\n",
    "        self.gru = GRU(input_dim, hidden_dim, output_dim)\n",
    "        \n",
    "    def forward(self, x, h):\n",
    "        T = x.shape[1]\n",
    "        batch_size = x.shape[0]\n",
    "        output = np.zeros((batch_size, self.gru.output_dim, T))\n",
    "        \n",
    "        for t in range(T):\n",
    "            x_t = x[:, t].reshape(batch_size, self.gru.input_dim)\n",
    "            y_t, h = self.forward_step(x_t, h)\n",
    "            output[:, :, t] = y_t\n",
    "        \n",
    "        return output, h\n",
    "    \n",
    "    def forward_step(self, x_t, h):\n",
    "        z_t = self.gru.sigmoid(self.gru.W_z @ x_t.T + self.gru.U_z @ h.T + self.gru.b_z)\n",
    "        r_t = self.gru.sigmoid(self.gru.W_r @ x_t.T + self.gru.U_r @ h.T + self.gru.b_r)\n",
    "        h_tilde_t = self.gru.tanh(self.gru.W_h @ x_t.T + self.gru.U_h @ (r_t * h.T) + self.gru.b_h)\n",
    "        h = ((1 - z_t) * h.T + z_t * h_tilde_t).T\n",
    "        y_t = self.gru.V @ h.T + self.gru.c\n",
    "        return y_t.T, h\n",
    "\n",
    "class Seq2SeqGRU:\n",
    "    def __init__(self, encoder, decoder):\n",
    "        self.encoder = encoder\n",
    "        self.decoder = decoder\n",
    "        \n",
    "    def forward(self, x_encoder, x_decoder):\n",
    "        h = self.encoder.forward(x_encoder)\n",
    "        output, _ = self.decoder.forward(x_decoder, h)\n",
    "        return output\n",
    "\n",
    "# 加载数据集\n",
    "src_array, tgt_array, src_vocab, tgt_vocab, src_valid_len, tgt_valid_len = load_data_nmt(batch_size=2, num_steps=8)\n",
    "\n",
    "# Hyperparameters\n",
    "input_dim = len(src_vocab)\n",
    "hidden_dim = 50\n",
    "output_dim = len(target_vocab)\n",
    "\n",
    "print(\"input_dim: {}\\nhidden_dim: {}\\noutput_dim: {}\".format(input_dim, hidden_dim, output_dim))\n",
    "\n",
    "# Initialize models\n",
    "encoder_gru = EncoderGRU(input_dim, hidden_dim)\n",
    "decoder_gru = DecoderGRU(output_dim, hidden_dim, output_dim)\n",
    "seq2seq_gru = Seq2SeqGRU(encoder_gru, decoder_gru)\n",
    "\n",
    "# Simple training loop (not using any framework, just for illustration)\n",
    "learning_rate = 0.0001\n",
    "num_epochs = 100\n",
    "\n",
    "def cross_entropy_loss(output, target):\n",
    "    m = target.shape[0]\n",
    "    return -np.sum(np.log(output[np.arange(m), target])) / m\n",
    "\n",
    "tot_loss = []\n",
    "for epoch in tqdm(range(num_epochs)):\n",
    "    total_loss = 0\n",
    "    for src_seq, tgt_seq in zip(src_array, tgt_array):\n",
    "        \n",
    "        src_seq = np.eye(input_dim)[src_seq]  # One-hot encoding\n",
    "        # print(src_seq.shape)\n",
    "        tgt_seq_input = np.eye(output_dim)[tgt_seq[:-1]]  # Exclude last token for input\n",
    "        tgt_seq_target = tgt_seq[1:] # Exclude first token for target\n",
    "\n",
    "        output = seq2seq_gru.forward(np.expand_dims(src_seq, axis=0), np.expand_dims(tgt_seq_input, axis=0))\n",
    "        output = np.squeeze(output, axis=0)\n",
    "\n",
    "        output = np.exp(output) / np.sum(np.exp(output), axis=0)\n",
    "        \n",
    "        loss = cross_entropy_loss(output.T, tgt_seq_target)\n",
    "        total_loss += loss\n",
    "        \n",
    "        # Backpropagation (gradient descent)\n",
    "        # Simplified, normally you would need to implement backpropagation through time (BPTT)\n",
    "        for param in [encoder_gru.gru.W_z, encoder_gru.gru.U_z, encoder_gru.gru.b_z,\n",
    "                      encoder_gru.gru.W_r, encoder_gru.gru.U_r, encoder_gru.gru.b_r,\n",
    "                      encoder_gru.gru.W_h, encoder_gru.gru.U_h, encoder_gru.gru.b_h,\n",
    "                      encoder_gru.gru.V, encoder_gru.gru.c,\n",
    "                      decoder_gru.gru.W_z, decoder_gru.gru.U_z, decoder_gru.gru.b_z,\n",
    "                      decoder_gru.gru.W_r, decoder_gru.gru.U_r, decoder_gru.gru.b_r,\n",
    "                      decoder_gru.gru.W_h, decoder_gru.gru.U_h, decoder_gru.gru.b_h,\n",
    "                      decoder_gru.gru.V, decoder_gru.gru.c]:\n",
    "            param -= learning_rate * param  # Simplified gradient descent update\n",
    "\n",
    "    if (epoch + 1) % 5 == 0:\n",
    "        print(f\"Epoch {epoch + 1}, Loss: {total_loss / len(raw_text)}\")\n",
    "    tot_loss.append(total_loss / len(raw_text))\n",
    "print(\"训练完成\")\n",
    "_, ax = plt.subplots()\n",
    "ax.plot(range(len(tot_loss)), tot_loss)\n",
    "ax.set_xlabel(\"Epoch\")\n",
    "ax.set_ylabel(\"Loss\")\n",
    "ax.xaxis.set_major_locator(ticker.MaxNLocator(integer=True))\n",
    "ax.yaxis.set_major_locator(ticker.MaxNLocator(integer=True))\n",
    "plt.show()"
   ]
  }
 ],
 "metadata": {
  "kernelspec": {
   "display_name": "Python 3",
   "language": "python",
   "name": "python3"
  },
  "language_info": {
   "codemirror_mode": {
    "name": "ipython",
    "version": 3
   },
   "file_extension": ".py",
   "mimetype": "text/x-python",
   "name": "python",
   "nbconvert_exporter": "python",
   "pygments_lexer": "ipython3",
   "version": "3.11.4"
  }
 },
 "nbformat": 4,
 "nbformat_minor": 2
}
